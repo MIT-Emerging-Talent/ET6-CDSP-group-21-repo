{
 "cells": [
  {
   "cell_type": "markdown",
   "id": "223f6e88",
   "metadata": {},
   "source": [
    "**Fake Jobs Extraction**\n",
    "\n",
    "There are 866 fake jobs in our raw fake_jobs dataset.\n",
    "Our goal here is to inspect dataset, drop features that are not needed,\n",
    "and randomly extract 30 fake jobs for our research purpose."
   ]
  },
  {
   "cell_type": "code",
   "execution_count": 1,
   "id": "514e8fb5",
   "metadata": {},
   "outputs": [],
   "source": [
    "import pandas as pd\n",
    "\n",
    "# import random  # For random sampling\n",
    "\n",
    "# Display settings for better viewing\n",
    "pd.set_option(\"display.max_columns\", None)\n",
    "pd.set_option(\"display.width\", 1000)\n",
    "pd.set_option(\"display.max_colwidth\", 200)"
   ]
  },
  {
   "cell_type": "code",
   "execution_count": 2,
   "id": "e782f86d",
   "metadata": {},
   "outputs": [
    {
     "name": "stdout",
     "output_type": "stream",
     "text": [
      "Loading large job dataset...\n",
      "Dataset loaded successfully.\n",
      "Initial shape: (17880, 18)\n",
      "\n",
      "First 5 rows:\n",
      "   job_id                                      title            location department salary_range                                                                                                                                                                                          company_profile                                                                                                                                                                                              description                                                                                                                                                                                             requirements                                                                                                                                                                                                 benefits  telecommuting  has_company_logo  has_questions employment_type required_experience  \\\n",
      "0       1                           Marketing Intern    US, NY, New York  Marketing          NaN  We're Food52, and we've created a groundbreaking and award-winning cooking site. We support, connect, and celebrate home cooks, and give them everything they need in one place.We have a top editor...  Food52, a fast-growing, James Beard Award-winning online food community and crowd-sourced and curated recipe hub, is currently interviewing full- and part-time unpaid interns to work in a small te...  Experience with content management systems a major plus (any blogging counts!)Familiar with the Food52 editorial voice and aestheticLoves food, appreciates the importance of home cooking and cooki...                                                                                                                                                                                                      NaN              0                 1              0           Other          Internship   \n",
      "1       2  Customer Service - Cloud Video Production      NZ, , Auckland    Success          NaN  90 Seconds, the worlds Cloud Video Production Service.90 Seconds is the worlds Cloud Video Production Service enabling brands and agencies to get high quality online video content shot and produce...  Organised - Focused - Vibrant - Awesome!Do you have a passion for customer service? Slick typing skills? Maybe Account Management? ...And think administration is cooler than a polar bear on a jets...  What we expect from you:Your key responsibility will be to communicate with the client, 90 Seconds team and freelance community throughout the video production process including, shoot planning, s...  What you will get from usThrough being part of the 90 Seconds team you will gain:experience working on projects located around the world with an international brandexperience working with a variet...              0                 1              0       Full-time      Not Applicable   \n",
      "2       3    Commissioning Machinery Assistant (CMA)       US, IA, Wever        NaN          NaN  Valor Services provides Workforce Solutions that meet the needs of companies across the Private Sector, with a special focus on the Oil &amp; Gas Industry. Valor Services will be involved with you...  Our client, located in Houston, is actively seeking an experienced Commissioning Machinery Assistant that possesses strong supervisory skills and has an attention to detail. A strong dedication to...  Implement pre-commissioning and commissioning procedures for rotary equipment.Execute all activities with subcontractor’s assigned crew that pertains to the discipline.Ensure effective utilization...                                                                                                                                                                                                      NaN              0                 1              0             NaN                 NaN   \n",
      "3       4          Account Executive - Washington DC  US, DC, Washington      Sales          NaN  Our passion for improving quality of life through geography is at the heart of everything we do.  Esri’s geographic information system (GIS) technology inspires and enables governments, universiti...  THE COMPANY: ESRI – Environmental Systems Research InstituteOur passion for improving quality of life through geography is at the heart of everything we do.  Esri’s geographic information system (...  EDUCATION: Bachelor’s or Master’s in GIS, business administration, or a related field, or equivalent work experience, depending on position levelEXPERIENCE: 5+ years of enterprise sales experience...  Our culture is anything but corporate—we have a collaborative, creative environment; phone directories organized by first name; a relaxed dress code; and open-door policies.A Place to ThrivePassio...              0                 1              0       Full-time    Mid-Senior level   \n",
      "4       5                        Bill Review Manager  US, FL, Fort Worth        NaN          NaN  SpotSource Solutions LLC is a Global Human Capital Management Consulting firm headquartered in Miami, Florida. Founded in January 2012, SpotSource has created a fusion of innovative service offeri...  JOB TITLE: Itemization Review ManagerLOCATION: Fort Worth, TX                                                           DEPARTMENT: Itemization ReviewREPORTS TO: VP Operations                     ...  QUALIFICATIONS:RN license in the State of TexasDiploma or Bachelors of Science in Nursing, requiredPast managerial experience, preferred6 + years’ experience as OR NurseExperience with facility bi...                                                                                                                                                                                    Full Benefits Offered              0                 1              1       Full-time    Mid-Senior level   \n",
      "\n",
      "  required_education                   industry              function  fraudulent  \n",
      "0                NaN                        NaN             Marketing           0  \n",
      "1                NaN  Marketing and Advertising      Customer Service           0  \n",
      "2                NaN                        NaN                   NaN           0  \n",
      "3  Bachelor's Degree          Computer Software                 Sales           0  \n",
      "4  Bachelor's Degree     Hospital & Health Care  Health Care Provider           0  \n",
      "\n",
      "Column names and data types:\n",
      "<class 'pandas.core.frame.DataFrame'>\n",
      "RangeIndex: 17880 entries, 0 to 17879\n",
      "Data columns (total 18 columns):\n",
      " #   Column               Non-Null Count  Dtype \n",
      "---  ------               --------------  ----- \n",
      " 0   job_id               17880 non-null  int64 \n",
      " 1   title                17880 non-null  object\n",
      " 2   location             17534 non-null  object\n",
      " 3   department           6327 non-null   object\n",
      " 4   salary_range         2868 non-null   object\n",
      " 5   company_profile      14572 non-null  object\n",
      " 6   description          17879 non-null  object\n",
      " 7   requirements         15184 non-null  object\n",
      " 8   benefits             10668 non-null  object\n",
      " 9   telecommuting        17880 non-null  int64 \n",
      " 10  has_company_logo     17880 non-null  int64 \n",
      " 11  has_questions        17880 non-null  int64 \n",
      " 12  employment_type      14409 non-null  object\n",
      " 13  required_experience  10830 non-null  object\n",
      " 14  required_education   9775 non-null   object\n",
      " 15  industry             12977 non-null  object\n",
      " 16  function             11425 non-null  object\n",
      " 17  fraudulent           17880 non-null  int64 \n",
      "dtypes: int64(5), object(13)\n",
      "memory usage: 2.5+ MB\n",
      "None\n"
     ]
    }
   ],
   "source": [
    "# load the dataset\n",
    "print(\"Loading large job dataset...\")\n",
    "try:\n",
    "    large_df = pd.read_csv(\"../1_datasets/aegean_raw_data/all_job_postings.csv\")  # noqa: E501\n",
    "    print(\"Dataset loaded successfully.\")\n",
    "    print(f\"Initial shape: {large_df.shape}\")\n",
    "    print(\"\\nFirst 5 rows:\")\n",
    "    print(large_df.head())\n",
    "    print(\"\\nColumn names and data types:\")\n",
    "    print(large_df.info())\n",
    "except FileNotFoundError:\n",
    "    print(\n",
    "        \"Error: 'large_job_dataset.csv' not found. Please ensure the\\\n",
    "            file is in the correct directory.\"\n",
    "    )"
   ]
  },
  {
   "cell_type": "code",
   "execution_count": 3,
   "id": "6e96a340",
   "metadata": {},
   "outputs": [
    {
     "name": "stdout",
     "output_type": "stream",
     "text": [
      "\n",
      "Distribution of 'fraudulent' column:\n",
      "fraudulent\n",
      "0    17014\n",
      "1      866\n",
      "Name: count, dtype: int64\n",
      "Percentage of fake jobs:        4.84%\n"
     ]
    }
   ],
   "source": [
    "# Inspect the 'fraudulent' column distribution\n",
    "print(\"\\nDistribution of 'fraudulent' column:\")\n",
    "print(large_df[\"fraudulent\"].value_counts())\n",
    "print(\n",
    "    f\"Percentage of fake jobs:\\\n",
    "        {large_df['fraudulent'].value_counts(normalize=True)[1] * 100:.2f}%\"\n",
    ")"
   ]
  },
  {
   "cell_type": "code",
   "execution_count": 4,
   "id": "833451fc",
   "metadata": {},
   "outputs": [
    {
     "name": "stdout",
     "output_type": "stream",
     "text": [
      "\n",
      "Extracted 866 fake job postings.\n"
     ]
    }
   ],
   "source": [
    "# Extract the fake jobs\n",
    "fake_jobs_df = large_df[\n",
    "    large_df[\"fraudulent\"] == 1\n",
    "].copy()  # .copy() to avoid SettingWithCopyWarning\n",
    "print(f\"\\nExtracted {fake_jobs_df.shape[0]} fake job postings.\")"
   ]
  },
  {
   "cell_type": "code",
   "execution_count": 6,
   "id": "ceb25706",
   "metadata": {},
   "outputs": [
    {
     "name": "stdout",
     "output_type": "stream",
     "text": [
      "\n",
      "Missing values in fake jobs DataFrame:\n",
      "job_id                   0\n",
      "title                    0\n",
      "location                19\n",
      "department             531\n",
      "salary_range           643\n",
      "company_profile        587\n",
      "description              1\n",
      "requirements           154\n",
      "benefits               364\n",
      "telecommuting            0\n",
      "has_company_logo         0\n",
      "has_questions            0\n",
      "employment_type        241\n",
      "required_experience    435\n",
      "required_education     451\n",
      "industry               275\n",
      "function               337\n",
      "fraudulent               0\n",
      "dtype: int64\n"
     ]
    }
   ],
   "source": [
    "# Check for missing values in the fake jobs DataFrame\n",
    "print(\"\\nMissing values in fake jobs DataFrame:\")\n",
    "print(fake_jobs_df.isnull().sum())"
   ]
  },
  {
   "cell_type": "markdown",
   "id": "3c0c6c00",
   "metadata": {},
   "source": [
    "Question for the team, what features should our job postings have?\n",
    "should we go with job title, company name, job description and\n",
    "salary range? answering this question will help us know the features\n",
    "to drop from this dataset (question answered by team)"
   ]
  },
  {
   "cell_type": "markdown",
   "id": "65c5eb5d",
   "metadata": {},
   "source": []
  },
  {
   "cell_type": "markdown",
   "id": "1f44fc6e",
   "metadata": {},
   "source": [
    "***Note for the team*** (7/15/2025)\n",
    "\n",
    "After our meeting yesterday, we agreed to drop rows and columns where there are missing values in the fake jobs. Looking at the missing values above, I am having a rethink. For example, imagine we drop all the rows where company profile is missing, that is a whooping loss of 587 rows out of 866. We are not also sure that these rows correspond with the 643 where salary range is missing. we will end up loosing all our dataset.\n",
    "\n",
    "Best approach is to start by removing columns we dont need. In other words, keeping only columns that we really need to answer our research question (Understanding fake job dynamics in the era of AI).\n",
    "\n",
    "So here are the columns I want to retain and why:\n",
    "\n",
    "- job id\n",
    "- job title \n",
    "- location (often a big factor in the application process. people choose suitable locations)\n",
    "- benefits (This has less missing values than salary range, and often also details what the company is offering in terms of compensation. Arguably makes up for the salary range)\n",
    "- description (often the first place applicants look at to understand the requirements of the job. It also ususally mention the company profile or who they are. Arguably makes up for company profile)\n",
    "- fraudulent (marker indicating that the jobs are fraudulent jobs)\n"
   ]
  },
  {
   "cell_type": "code",
   "execution_count": 5,
   "id": "9d14fe14",
   "metadata": {},
   "outputs": [
    {
     "name": "stdout",
     "output_type": "stream",
     "text": [
      "\n",
      "Shape of fake jobs DataFrame after dropping unnecessary columns:        (866, 6)\n",
      "\n",
      "First 5 rows of the fake jobs DataFrame after dropping        unnecessary columns:\n",
      "     job_id                             title                            location                                                                                                                                                                                              description                                                                                                                                                                                                 benefits  fraudulent\n",
      "98       99                   IC&E Technician                   US, , Stocton, CA  IC&amp;E Technician | Bakersfield, CA Mt. PosoPrincipal Duties and Responsibilities: Calibrates, tests, maintains, troubleshoots, and installs all power plant instrumentation, control systems and ...  BENEFITSWhat is offered:Competitive compensation package100% matched retirement fundAnnual vacations paid for by companySignificant bonus structureOpportunity for advancement Full benefits package...           1\n",
      "144     145                      Forward Cap.                                 NaN  The group has raised a fund for the purchase of homes in the Southeast. The student on this project will help them build their investments from the ground up and will help with the analysis and mo...                                                                                                                                                                                                      NaN           1\n",
      "173     174  Technician Instrument & Controls                                  US  Technician Instrument &amp; ControlsLocation Deweyville, TXLocation Name: NRG Cottonwood EnergyCategory: MaintenanceState/City: US-TX-DeweyvilleType: Full Time Hourly# Openings: 1Details About thi...  we are a team of almost 8,000 employees who help power almost 40 million homes and have more than 2 million residential and business customers across the country. Together, we are powering progres...           1\n",
      "180     181                   Sales Executive                     PK, SD, Karachi                                                                                                                                                                                          Sales Executive                                                                                                                                                                                          Sales Executive           1\n",
      "215     216           IC&E Technician Mt Poso  US, CA, Bakersfield, CA / Mt. Poso  IC&amp;E Technician | Bakersfield, CA Mt. PosoPrincipal Duties and Responsibilities: Calibrates, tests, maintains, troubleshoots, and installs all power plant instrumentation, control systems and ...  BENEFITSWhat is offered:Competitive compensation package100% matched retirement fundAnnual vacations paid for by companySignificant bonus structureOpportunity for advancement Full benefits package...           1\n"
     ]
    }
   ],
   "source": [
    "# drop columns that are not needed for our analysis\n",
    "columns_to_drop = [\n",
    "    \"department\",\n",
    "    \"telecommuting\",\n",
    "    \"has_company_logo\",\n",
    "    \"has_questions\",\n",
    "    \"required_education\",\n",
    "    \"employment_type\",\n",
    "    \"function\",\n",
    "    \"industry\",\n",
    "    \"required_experience\",\n",
    "    \"salary_range\",\n",
    "    \"company_profile\",\n",
    "    \"requirements\",\n",
    "]\n",
    "fake_jobs_df.drop(columns=columns_to_drop, inplace=True, errors=\"ignore\")\n",
    "\n",
    "# print the shape of the DataFrame after dropping columns\n",
    "print(\n",
    "    f\"\\nShape of fake jobs DataFrame after dropping unnecessary columns:\\\n",
    "        {fake_jobs_df.shape}\"\n",
    ")\n",
    "\n",
    "# show the first 5 rows of the DataFrame after dropping columns\n",
    "print(\n",
    "    \"\\nFirst 5 rows of the fake jobs DataFrame after dropping\\\n",
    "        unnecessary columns:\"\n",
    ")\n",
    "print(fake_jobs_df.head())"
   ]
  },
  {
   "cell_type": "code",
   "execution_count": null,
   "id": "6caee722",
   "metadata": {},
   "outputs": [
    {
     "name": "stdout",
     "output_type": "stream",
     "text": [
      "\n",
      "Missing values in current fake jobs DataFrame:\n",
      "job_id           0\n",
      "title            0\n",
      "location        19\n",
      "description      1\n",
      "benefits       364\n",
      "fraudulent       0\n",
      "dtype: int64\n"
     ]
    }
   ],
   "source": [
    "# Check for missing values in the updated fake jobs\n",
    "# DataFrame after dropping columns\n",
    "print(\"\\nMissing values in current fake jobs DataFrame:\")\n",
    "print(fake_jobs_df.isnull().sum())"
   ]
  },
  {
   "cell_type": "code",
   "execution_count": null,
   "id": "94642b73",
   "metadata": {},
   "outputs": [
    {
     "name": "stdout",
     "output_type": "stream",
     "text": [
      "\n",
      "Shape of current fake jobs DataFrame': (502, 6)\n",
      "\n",
      "Current missing values in fake jobs DataFrame:\n",
      "job_id         0\n",
      "title          0\n",
      "location       2\n",
      "description    0\n",
      "benefits       0\n",
      "fraudulent     0\n",
      "dtype: int64\n"
     ]
    }
   ],
   "source": [
    "# remove rows with missing values in the 'benefits'\n",
    "fake_jobs_df.dropna(subset=[\"benefits\"], inplace=True)\n",
    "\n",
    "# print the shape of the DataFrame after dropping rows with\n",
    "# missing values in 'benefits'\n",
    "print(f\"\\nShape of current fake jobs DataFrame': {fake_jobs_df.shape}\")  # noqa: E501\n",
    "\n",
    "# current missing values in the DataFrame\n",
    "print(\"\\nCurrent missing values in fake jobs DataFrame:\")\n",
    "print(fake_jobs_df.isnull().sum())"
   ]
  },
  {
   "cell_type": "code",
   "execution_count": null,
   "id": "f346f65a",
   "metadata": {},
   "outputs": [
    {
     "name": "stdout",
     "output_type": "stream",
     "text": [
      "\n",
      "Shape of current fake jobs DataFrame': (500, 6)\n",
      "\n",
      "Current missing values in fake jobs DataFrame:\n",
      "job_id         0\n",
      "title          0\n",
      "location       0\n",
      "description    0\n",
      "benefits       0\n",
      "fraudulent     0\n",
      "dtype: int64\n"
     ]
    }
   ],
   "source": [
    "# remoove rows with missing values in the 'location' column\n",
    "fake_jobs_df.dropna(subset=[\"location\"], inplace=True)\n",
    "\n",
    "# print the shape of the DataFrame after dropping rows with\n",
    "# missing values in 'location'\n",
    "print(f\"\\nShape of current fake jobs DataFrame': {fake_jobs_df.shape}\")  # noqa: E501\n",
    "\n",
    "# current missing values in the DataFrame\n",
    "print(\"\\nCurrent missing values in fake jobs DataFrame:\")\n",
    "print(fake_jobs_df.isnull().sum())"
   ]
  },
  {
   "cell_type": "code",
   "execution_count": null,
   "id": "eec0cf21",
   "metadata": {},
   "outputs": [],
   "source": [
    "# set the output file path\n",
    "output_file_path = \"../1_datasets/cleaned_aegean_fakejobs/aegean_500_fakejobs.csv\"  # noqa: E501"
   ]
  },
  {
   "cell_type": "code",
   "execution_count": 12,
   "id": "539863c1",
   "metadata": {},
   "outputs": [
    {
     "name": "stdout",
     "output_type": "stream",
     "text": [
      "\n",
      "Cleaned fake jobs saved to ../1_datasets/cleaned_aegean_fakejobs/aegean_500_fakejobs.csv.\n"
     ]
    }
   ],
   "source": [
    "# save the selected fake jobs to a CSV file\n",
    "fake_jobs_df.to_csv(output_file_path, index=False)\n",
    "print(f\"\\nCleaned fake jobs saved to {output_file_path}.\")"
   ]
  }
 ],
 "metadata": {
  "kernelspec": {
   "display_name": ".venv_datacleaning",
   "language": "python",
   "name": "python3"
  },
  "language_info": {
   "codemirror_mode": {
    "name": "ipython",
    "version": 3
   },
   "file_extension": ".py",
   "mimetype": "text/x-python",
   "name": "python",
   "nbconvert_exporter": "python",
   "pygments_lexer": "ipython3",
   "version": "3.13.5"
  }
 },
 "nbformat": 4,
 "nbformat_minor": 5
}
