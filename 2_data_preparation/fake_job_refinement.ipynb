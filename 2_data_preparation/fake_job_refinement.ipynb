{
 "cells": [
  {
   "cell_type": "code",
   "execution_count": null,
   "id": "58466c1c",
   "metadata": {},
   "outputs": [],
   "source": []
  },
  {
   "cell_type": "markdown",
   "id": "af4a44d1",
   "metadata": {},
   "source": [
    "**Fake Job Extraction**\n",
    "There are 866"
   ]
  },
  {
   "cell_type": "code",
   "execution_count": null,
   "id": "e18b5d8c",
   "metadata": {},
   "outputs": [],
   "source": [
    "import pandas as pd\n",
    "import numpy as np\n",
    "\n",
    "import random\n"
   ]
  },
  {
   "cell_type": "code",
   "execution_count": null,
   "id": "42b8cb08",
   "metadata": {},
   "outputs": [],
   "source": [
    "print(\"loading large job dataset...\")\n",
    "try:\n",
    "  large_df = pd.read_csv('../1_datasets/raw_data_set/fake_job_postings.csv')\n",
    "  print(\"dataset loaded sucessfully\")\n",
    "  print(f\"initial shape of the dataset:,{large_df.shape}\")\n",
    "  print(\"\\nFirst 5 rows:\")\n",
    "  \n",
    "  "
   ]
  },
  {
   "cell_type": "code",
   "execution_count": null,
   "id": "fe37f9c2",
   "metadata": {},
   "outputs": [],
   "source": [
    "\\"
   ]
  }
 ],
 "metadata": {
  "language_info": {
   "name": "python"
  }
 },
 "nbformat": 4,
 "nbformat_minor": 5
}
