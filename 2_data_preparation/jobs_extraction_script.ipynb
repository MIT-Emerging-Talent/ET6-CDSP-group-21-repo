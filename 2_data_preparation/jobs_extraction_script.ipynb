{
 "cells": [
  {
   "cell_type": "markdown",
   "id": "300907d1",
   "metadata": {},
   "source": [
    "There are legitimate jobs in the **Aegean Fake Job Postings Prediction** dataset. The goal is to extract real job posts (human-written) for NLP analysis and overall comparison with the human-written fake job posts and LLM-refined fake job posts, in order to detect the extent of similarities and differences.\n",
    "\n",
    "## Disclaimer\n",
    "\n",
    "We're not 100% sure that the job posts in this dataset were human written. It was collected between 2012 - 2014 but does not state this fact. We'll consider it as human written for research purposes."
   ]
  },
  {
   "cell_type": "code",
   "execution_count": 32,
   "id": "062bb83d",
   "metadata": {},
   "outputs": [
    {
     "name": "stdout",
     "output_type": "stream",
     "text": [
      "Shape of the data (17880, 18) \n",
      "\n",
      "First 5 rows:    job_id                                      title            location department salary_range                                                                                                                                                                                          company_profile                                                                                                                                                                                              description                                                                                                                                                                                             requirements                                                                                                                                                                                                 benefits  telecommuting  has_company_logo  has_questions employment_type required_experience  \\\n",
      "0       1                           Marketing Intern    US, NY, New York  Marketing          NaN  We're Food52, and we've created a groundbreaking and award-winning cooking site. We support, connect, and celebrate home cooks, and give them everything they need in one place.We have a top editor...  Food52, a fast-growing, James Beard Award-winning online food community and crowd-sourced and curated recipe hub, is currently interviewing full- and part-time unpaid interns to work in a small te...  Experience with content management systems a major plus (any blogging counts!)Familiar with the Food52 editorial voice and aestheticLoves food, appreciates the importance of home cooking and cooki...                                                                                                                                                                                                      NaN              0                 1              0           Other          Internship   \n",
      "1       2  Customer Service - Cloud Video Production      NZ, , Auckland    Success          NaN  90 Seconds, the worlds Cloud Video Production Service.90 Seconds is the worlds Cloud Video Production Service enabling brands and agencies to get high quality online video content shot and produce...  Organised - Focused - Vibrant - Awesome!Do you have a passion for customer service? Slick typing skills? Maybe Account Management? ...And think administration is cooler than a polar bear on a jets...  What we expect from you:Your key responsibility will be to communicate with the client, 90 Seconds team and freelance community throughout the video production process including, shoot planning, s...  What you will get from usThrough being part of the 90 Seconds team you will gain:experience working on projects located around the world with an international brandexperience working with a variet...              0                 1              0       Full-time      Not Applicable   \n",
      "2       3    Commissioning Machinery Assistant (CMA)       US, IA, Wever        NaN          NaN  Valor Services provides Workforce Solutions that meet the needs of companies across the Private Sector, with a special focus on the Oil &amp; Gas Industry. Valor Services will be involved with you...  Our client, located in Houston, is actively seeking an experienced Commissioning Machinery Assistant that possesses strong supervisory skills and has an attention to detail. A strong dedication to...  Implement pre-commissioning and commissioning procedures for rotary equipment.Execute all activities with subcontractor’s assigned crew that pertains to the discipline.Ensure effective utilization...                                                                                                                                                                                                      NaN              0                 1              0             NaN                 NaN   \n",
      "3       4          Account Executive - Washington DC  US, DC, Washington      Sales          NaN  Our passion for improving quality of life through geography is at the heart of everything we do.  Esri’s geographic information system (GIS) technology inspires and enables governments, universiti...  THE COMPANY: ESRI – Environmental Systems Research InstituteOur passion for improving quality of life through geography is at the heart of everything we do.  Esri’s geographic information system (...  EDUCATION: Bachelor’s or Master’s in GIS, business administration, or a related field, or equivalent work experience, depending on position levelEXPERIENCE: 5+ years of enterprise sales experience...  Our culture is anything but corporate—we have a collaborative, creative environment; phone directories organized by first name; a relaxed dress code; and open-door policies.A Place to ThrivePassio...              0                 1              0       Full-time    Mid-Senior level   \n",
      "4       5                        Bill Review Manager  US, FL, Fort Worth        NaN          NaN  SpotSource Solutions LLC is a Global Human Capital Management Consulting firm headquartered in Miami, Florida. Founded in January 2012, SpotSource has created a fusion of innovative service offeri...  JOB TITLE: Itemization Review ManagerLOCATION: Fort Worth, TX                                                           DEPARTMENT: Itemization ReviewREPORTS TO: VP Operations                     ...  QUALIFICATIONS:RN license in the State of TexasDiploma or Bachelors of Science in Nursing, requiredPast managerial experience, preferred6 + years’ experience as OR NurseExperience with facility bi...                                                                                                                                                                                    Full Benefits Offered              0                 1              1       Full-time    Mid-Senior level   \n",
      "\n",
      "  required_education                   industry              function  fraudulent  \n",
      "0                NaN                        NaN             Marketing           0  \n",
      "1                NaN  Marketing and Advertising      Customer Service           0  \n",
      "2                NaN                        NaN                   NaN           0  \n",
      "3  Bachelor's Degree          Computer Software                 Sales           0  \n",
      "4  Bachelor's Degree     Hospital & Health Care  Health Care Provider           0  \n"
     ]
    }
   ],
   "source": [
    "import pandas as pd\n",
    "\n",
    "# Display settings for better viewing\n",
    "pd.set_option(\"display.max_columns\", None)\n",
    "pd.set_option(\"display.width\", 1000)\n",
    "pd.set_option(\"display.max_colwidth\", 200)\n",
    "\n",
    "data = pd.read_csv(\"../1_datasets/aegean_raw_data/all_job_postings.csv\")\n",
    "\n",
    "print(\"Shape of the data\", data.shape, \"\\n\")\n",
    "\n",
    "print(\"First 5 rows:\", data.head())"
   ]
  },
  {
   "cell_type": "code",
   "execution_count": 33,
   "id": "cc75fd3e",
   "metadata": {},
   "outputs": [
    {
     "name": "stdout",
     "output_type": "stream",
     "text": [
      "Shape of the dataset after dropping columns:(17880, 11)\n"
     ]
    }
   ],
   "source": [
    "# excluding columns that are not necessary for NLP analysis\n",
    "dropped_columns = [\n",
    "    \"job_id\",\n",
    "    \"telecommuting\",\n",
    "    \"has_company_logo\",\n",
    "    \"has_questions\",\n",
    "    \"employment_type\",\n",
    "    \"required_experience\",\n",
    "    \"required_education\",\n",
    "]\n",
    "\n",
    "data.drop(columns=dropped_columns, inplace=True, errors=\"ignore\")\n",
    "\n",
    "print(f\"Shape of the dataset after dropping columns:{data.shape}\")"
   ]
  },
  {
   "cell_type": "code",
   "execution_count": 36,
   "id": "df40306f",
   "metadata": {},
   "outputs": [
    {
     "name": "stdout",
     "output_type": "stream",
     "text": [
      "Extracted 17014 real jobs.\n",
      "Extracted 866 fake jobs.\n",
      "\n",
      "Percentage of real jobs:    95.16%\n",
      "Percentage of fake jobs:    4.84%\n"
     ]
    }
   ],
   "source": [
    "# extracting all real and fake jobs\n",
    "real_jobs = data[data[\"fraudulent\"] == 0].copy()\n",
    "fake_jobs = data[data[\"fraudulent\"] == 1].copy()\n",
    "\n",
    "# checking the number of real posts\n",
    "print(f\"Extracted {real_jobs.shape[0]} real jobs.\")\n",
    "\n",
    "# checking the number of fake posts\n",
    "print(f\"Extracted {fake_jobs.shape[0]} fake jobs.\\n\")\n",
    "\n",
    "# checking the percentage of real and fake jobs and normalize\n",
    "# the frequency to get proportions instead of absolute values\n",
    "print(\n",
    "    f\"Percentage of real jobs:\\\n",
    "    {data['fraudulent'].value_counts(normalize=True)[0] * 100:.2f}%\"\n",
    ")\n",
    "\n",
    "print(\n",
    "    f\"Percentage of fake jobs:\\\n",
    "    {data['fraudulent'].value_counts(normalize=True)[1] * 100:.2f}%\"\n",
    ")"
   ]
  },
  {
   "cell_type": "code",
   "execution_count": 38,
   "id": "0f4e520e",
   "metadata": {},
   "outputs": [
    {
     "name": "stdout",
     "output_type": "stream",
     "text": [
      "Missing values in the dataset of real jobs:\n",
      "title                  0\n",
      "location             327\n",
      "department         11022\n",
      "salary_range       14369\n",
      "company_profile     2721\n",
      "description            0\n",
      "requirements        2542\n",
      "benefits            6848\n",
      "industry            4628\n",
      "function            6118\n",
      "fraudulent             0\n",
      "dtype: int64\n",
      "----\n",
      "Missing values in the dataset of fake jobs:\n",
      "title                0\n",
      "location            19\n",
      "department         531\n",
      "salary_range       643\n",
      "company_profile    587\n",
      "description          1\n",
      "requirements       154\n",
      "benefits           364\n",
      "industry           275\n",
      "function           337\n",
      "fraudulent           0\n",
      "dtype: int64\n"
     ]
    }
   ],
   "source": [
    "# check for null values\n",
    "print(\"Missing values in the dataset of real jobs:\")\n",
    "print(real_jobs.isnull().sum())\n",
    "\n",
    "print(\"----\")\n",
    "\n",
    "print(\"Missing values in the dataset of fake jobs:\")\n",
    "print(fake_jobs.isnull().sum())"
   ]
  },
  {
   "cell_type": "code",
   "execution_count": 39,
   "id": "1a4c8b62",
   "metadata": {},
   "outputs": [
    {
     "name": "stdout",
     "output_type": "stream",
     "text": [
      "Shape of the real jobs dataset after excluding rows with NaN values:    (808, 11)\n",
      "Shape of the fake jobs dataset after excluding rows with NaN values:    (74, 11)\n"
     ]
    }
   ],
   "source": [
    "# dropping rows that have NaN values\n",
    "real_jobs.dropna(inplace=True)\n",
    "fake_jobs.dropna(inplace=True)\n",
    "\n",
    "# data shape after cleaning NaN values\n",
    "print(\n",
    "    f\"Shape of the real jobs dataset after excluding rows with NaN values:\\\n",
    "    {real_jobs.shape}\"\n",
    ")\n",
    "\n",
    "print(\n",
    "    f\"Shape of the fake jobs dataset after excluding rows with NaN values:\\\n",
    "    {fake_jobs.shape}\"\n",
    ")"
   ]
  },
  {
   "cell_type": "code",
   "execution_count": 40,
   "id": "946e0b31",
   "metadata": {},
   "outputs": [],
   "source": [
    "# saving the file\n",
    "real_jobs_file_path = \"../1_datasets/cleaned_data/real_jobs.csv\"\n",
    "fake_jobs_file_path = \"../1_datasets/cleaned_data/fake_jobs.csv\"\n",
    "\n",
    "real_jobs.to_csv(real_jobs_file_path, index=False)\n",
    "fake_jobs.to_csv(fake_jobs_file_path, index=False)"
   ]
  }
 ],
 "metadata": {
  "kernelspec": {
   "display_name": "base",
   "language": "python",
   "name": "python3"
  },
  "language_info": {
   "codemirror_mode": {
    "name": "ipython",
    "version": 3
   },
   "file_extension": ".py",
   "mimetype": "text/x-python",
   "name": "python",
   "nbconvert_exporter": "python",
   "pygments_lexer": "ipython3",
   "version": "3.13.5"
  }
 },
 "nbformat": 4,
 "nbformat_minor": 5
}
