{
 "cells": [
  {
   "cell_type": "markdown",
   "id": "300907d1",
   "metadata": {},
   "source": [
    "There are legitimate jobs in the **Aegean Fake Job Postings Prediction** dataset. The goal is to extract real job posts (human-written) for NLP analysis and overall comparison with the human-written fake job posts and LLM-refined fake job posts, in order to detect the extent of similarities and differences.\n",
    "\n",
    "## Disclaimer\n",
    "\n",
    "We're not 100% sure that the job posts in this dataset were human written. It was collected between 2012 - 2014 but does not state this fact. We'll consider it as human written for research purposes."
   ]
  },
  {
   "cell_type": "code",
   "execution_count": 11,
   "id": "062bb83d",
   "metadata": {},
   "outputs": [
    {
     "name": "stdout",
     "output_type": "stream",
     "text": [
      "Shape of the data (17880, 18)\n",
      "Extracted17880real jobs.\n",
      "Percentage of real jobs:    95.16%\n"
     ]
    }
   ],
   "source": [
    "import pandas as pd\n",
    "\n",
    "data = pd.read_csv(\"../1_datasets/aegean_raw_data/all_job_postings.csv\")\n",
    "\n",
    "print(\"Shape of the data\", data.shape)\n",
    "\n",
    "# extracting all real posts\n",
    "real_jobs = data[data[\"fraudulent\"] == 0].copy()\n",
    "\n",
    "# checking the number of real posts\n",
    "print(f\"Extracted{data.shape[0]}real jobs.\")\n",
    "\n",
    "# checking the percentage of real jobs and normalize\n",
    "# the frequency to get proportions instead of absolute values\n",
    "print(\n",
    "    f\"Percentage of real jobs:\\\n",
    "    {data['fraudulent'].value_counts(normalize=True)[0] * 100:.2f}%\"\n",
    ")"
   ]
  },
  {
   "cell_type": "code",
   "execution_count": 7,
   "id": "0f4e520e",
   "metadata": {},
   "outputs": [
    {
     "name": "stdout",
     "output_type": "stream",
     "text": [
      "Missing values in the dataset:\n",
      "job_id                     0\n",
      "title                      0\n",
      "location                 327\n",
      "department             11022\n",
      "salary_range           14369\n",
      "company_profile         2721\n",
      "description                0\n",
      "requirements            2542\n",
      "benefits                6848\n",
      "telecommuting              0\n",
      "has_company_logo           0\n",
      "has_questions              0\n",
      "employment_type         3230\n",
      "required_experience     6615\n",
      "required_education      7654\n",
      "industry                4628\n",
      "function                6118\n",
      "fraudulent                 0\n",
      "dtype: int64\n"
     ]
    }
   ],
   "source": [
    "# check for null values\n",
    "print(\"Missing values in the dataset:\")\n",
    "print(real_jobs.isnull().sum())"
   ]
  },
  {
   "cell_type": "code",
   "execution_count": 8,
   "id": "eae89d0a",
   "metadata": {},
   "outputs": [
    {
     "name": "stdout",
     "output_type": "stream",
     "text": [
      "Shape of the dataset after dropping columns:(17014, 12)\n"
     ]
    }
   ],
   "source": [
    "# excluding columns that are not necessary for NLP analysis\n",
    "dropped_columns = [\n",
    "    \"has_company_logo\",\n",
    "    \"employment_type\",\n",
    "    \"fraudulent\",\n",
    "    \"telecommuting\",\n",
    "    \"has_questions\",\n",
    "    \"required_education\",\n",
    "]\n",
    "\n",
    "real_jobs.drop(columns=dropped_columns, inplace=True, errors=\"ignore\")\n",
    "\n",
    "print(f\"Shape of the dataset after dropping columns:{real_jobs.shape}\")"
   ]
  },
  {
   "cell_type": "code",
   "execution_count": 9,
   "id": "1a4c8b62",
   "metadata": {},
   "outputs": [
    {
     "name": "stdout",
     "output_type": "stream",
     "text": [
      "Shape of the data after excluding rows with NaN values:    (755, 12)\n"
     ]
    }
   ],
   "source": [
    "# dropping rows that have NaN values\n",
    "real_jobs.dropna(\n",
    "    subset=[\n",
    "        \"benefits\",\n",
    "        \"location\",\n",
    "        \"department\",\n",
    "        \"requirements\",\n",
    "        \"company_profile\",\n",
    "        \"salary_range\",\n",
    "        \"required_experience\",\n",
    "        \"company_profile\",\n",
    "        \"industry\",\n",
    "        \"function\",\n",
    "    ],\n",
    "    inplace=True,\n",
    ")\n",
    "\n",
    "# data shape after cleaning NaN values\n",
    "print(\n",
    "    f\"Shape of the data after excluding rows with NaN values:\\\n",
    "    {real_jobs.shape}\"\n",
    ")"
   ]
  },
  {
   "cell_type": "code",
   "execution_count": 10,
   "id": "946e0b31",
   "metadata": {},
   "outputs": [],
   "source": [
    "# saving the file\n",
    "file_path = \"../1_datasets/cleaned_real_jobs/cleaned_real_jobs.csv\"\n",
    "\n",
    "real_jobs.to_csv(file_path, index=False)"
   ]
  }
 ],
 "metadata": {
  "kernelspec": {
   "display_name": "base",
   "language": "python",
   "name": "python3"
  },
  "language_info": {
   "codemirror_mode": {
    "name": "ipython",
    "version": 3
   },
   "file_extension": ".py",
   "mimetype": "text/x-python",
   "name": "python",
   "nbconvert_exporter": "python",
   "pygments_lexer": "ipython3",
   "version": "3.13.5"
  }
 },
 "nbformat": 4,
 "nbformat_minor": 5
}
