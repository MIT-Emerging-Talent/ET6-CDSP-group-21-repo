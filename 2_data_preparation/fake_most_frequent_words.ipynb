{
 "cells": [
  {
   "cell_type": "code",
   "execution_count": null,
   "id": "6ec70399",
   "metadata": {},
   "outputs": [],
   "source": [
    "import pandas as pd\n",
    "\n",
    "\n",
    "# reading the dataset\n",
    "df = pd.read_csv(\"../1_datasets/raw_fake_jobs/fake_job_postings.csv\")\n",
    "\n",
    "# extracting only fraudulent jobs\n",
    "fake_jobs = df[df['fraudulent'] == 1].copy()\n",
    "\n",
    "print(\"Total fake jobs detected:\", len(fake_jobs))"
   ]
  },
  {
   "cell_type": "code",
   "execution_count": null,
   "id": "44c3340f",
   "metadata": {},
   "outputs": [],
   "source": [
    "# words that have high frequency but have no \n",
    "# actual weight so it is better to extract them\n",
    "stopwords = {'the', 'and', 'to', 'for', 'a', 'in', 'is', 'on',\n",
    "          'with', 'company', 'role', 'job',\n",
    "          'position', 'bachelors', 'you', 'are',\n",
    "          'our', 'your', 'am', 'from', 'all',\n",
    "          'that', 'have', 'been', 'will',\n",
    "          'this', 'their', 'not', 'per'\n",
    "            }\n",
    "\n",
    "def clean_text(text):\n",
    "    # checks if the input text is Nan, None,\n",
    "    # Nat and returns an empty string incase\n",
    "    # CSV file had empty cells\n",
    "    if pd.isna(text):\n",
    "        return \"\"\n",
    "\n",
    "    # converts to lowercase\n",
    "    text = str(text).lower()\n",
    "    # removes all characters except for alphabets and spaces\n",
    "    text = \"\".join([char for char in text if char.isalpha() or char == \" \"])\n",
    "\n",
    "    # removes stopwords\n",
    "    words = [word for word in text.split()\n",
    "            if word not in stopwords and len(word) > 2]\n",
    "\n",
    "    # returns a string and consumes less memory\n",
    "    return \" \".join(words)\n",
    "\n",
    "# process all column and combine words\n",
    "all_words = []\n",
    "\n",
    "for col in ['company_profile', 'description',\n",
    "            'requirements', 'benefits',\n",
    "            'telecommuting', 'required_experience']:\n",
    "    cleaned_text = fake_jobs[col].apply(clean_text).dropna()\n",
    "    for row in cleaned_text:\n",
    "      all_words.extend(row.split())\n",
    "\n",
    "    # check frequency\n",
    "word_counts = pd.Series(all_words).value_counts()\n",
    "print(word_counts.head(20))"
   ]
  }
 ],
 "metadata": {
  "kernelspec": {
   "display_name": "base",
   "language": "python",
   "name": "python3"
  },
  "language_info": {
   "codemirror_mode": {
    "name": "ipython",
    "version": 3
   },
   "file_extension": ".py",
   "mimetype": "text/x-python",
   "name": "python",
   "nbconvert_exporter": "python",
   "pygments_lexer": "ipython3",
   "version": "3.12.7"
  }
 },
 "nbformat": 4,
 "nbformat_minor": 5
}
