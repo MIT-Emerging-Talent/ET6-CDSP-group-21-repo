{
 "cells": [
  {
   "cell_type": "code",
   "execution_count": 12,
   "id": "6ec70399",
   "metadata": {},
   "outputs": [
    {
     "name": "stdout",
     "output_type": "stream",
     "text": [
      "Total fake jobs detected: 866\n"
     ]
    }
   ],
   "source": [
    "import pandas as pd\n",
    "from matplotlib import pyplot as plt\n",
    "\n",
    "# reading the dataset\n",
    "df = pd.read_csv(\"../1_datasets/raw_fake_jobs/fake_job_postings.csv\")\n",
    "\n",
    "# extracting only fraudulent jobs\n",
    "fake_jobs = df[df[\"fraudulent\"] == 1].copy()\n",
    "\n",
    "# number of fake posts\n",
    "print(\"Total fake jobs detected:\", len(fake_jobs))"
   ]
  },
  {
   "cell_type": "code",
   "execution_count": null,
   "id": "44c3340f",
   "metadata": {},
   "outputs": [],
   "source": [
    "# words that have high frequency but have no\n",
    "# actual weight so it is better to extract them\n",
    "stopwords = {\n",
    "    \"the\",\n",
    "    \"and\",\n",
    "    \"to\",\n",
    "    \"for\",\n",
    "    \"a\",\n",
    "    \"in\",\n",
    "    \"is\",\n",
    "    \"on\",\n",
    "    \"with\",\n",
    "    \"company\",\n",
    "    \"role\",\n",
    "    \"job\",\n",
    "    \"position\",\n",
    "    \"bachelors\",\n",
    "    \"you\",\n",
    "    \"are\",\n",
    "    \"our\",\n",
    "    \"your\",\n",
    "    \"am\",\n",
    "    \"from\",\n",
    "    \"all\",\n",
    "    \"that\",\n",
    "    \"have\",\n",
    "    \"been\",\n",
    "    \"will\",\n",
    "    \"this\",\n",
    "    \"their\",\n",
    "    \"not\",\n",
    "    \"per\",\n",
    "    \"can\",\n",
    "    \"who\",\n",
    "    \"into\",\n",
    "}\n",
    "\n",
    "\n",
    "def clean_text(text):\n",
    "    # checks if the input text is Nan, None,\n",
    "    # Nat and returns an empty string incase\n",
    "    # CSV file had empty cells\n",
    "    if pd.isna(text):\n",
    "        return \"\"\n",
    "\n",
    "    # converts to lowercase\n",
    "    text = str(text).lower()\n",
    "    # removes all characters except for alphabets and spaces\n",
    "    text = \"\".join([char for char in text if char.isalpha() or char == \" \"])\n",
    "\n",
    "    # removes stopwords\n",
    "    words = [word for word in text.split() if word not in stopwords and len(word) > 2]  # noqa: E501\n",
    "\n",
    "    # returns a string and consumes less memory\n",
    "    return \" \".join(words)\n",
    "\n",
    "\n",
    "# process all column and combine words\n",
    "all_words = []\n",
    "\n",
    "for col in [\n",
    "    \"company_profile\",\n",
    "    \"description\",\n",
    "    \"requirements\",\n",
    "    \"benefits\",\n",
    "    \"telecommuting\",\n",
    "    \"required_experience\",\n",
    "]:\n",
    "    cleaned_text = fake_jobs[col].apply(clean_text).dropna()\n",
    "    for row in cleaned_text:\n",
    "        all_words.extend(row.split())\n",
    "\n",
    "# check frequency\n",
    "word_counts = pd.Series(all_words).value_counts()\n",
    "\n",
    "# convert to a DataFrame\n",
    "freq_df = pd.DataFrame(word_counts).reset_index()\n",
    "freq_df.columns = [\"word\", \"count\"]\n",
    "\n",
    "# save the data in a csv file\n",
    "path_file = \"../1_datasets/cleaned_fake_most_frequent_words/words_count.csv\"\n",
    "\n",
    "freq_df.to_csv(path_file, index=False)"
   ]
  },
  {
   "cell_type": "code",
   "execution_count": null,
   "id": "6da1f7dc",
   "metadata": {},
   "outputs": [
    {
     "data": {
      "image/png": "[encoded data removed]",
      "text/plain": [
       "<Figure size 800x400 with 1 Axes>"
      ]
     },
     "metadata": {},
     "output_type": "display_data"
    }
   ],
   "source": [
    "# reading the file\n",
    "df = pd.read_csv(\"../1_datasets/cleaned_fake_most_frequent_words/words_count.csv\")  # noqa: E501\n",
    "\n",
    "top10 = df.head(10)\n",
    "\n",
    "# plot histogram\n",
    "plt.figure(figsize=(8, 4))\n",
    "plt.barh(top10[\"word\"], top10[\"count\"], color=\"skyblue\")\n",
    "plt.title(\"Top Ten Most Frequent Words\")\n",
    "plt.tight_layout()\n",
    "\n",
    "# save diagram in a png file\n",
    "dia_file = \"../1_datasets/cleaned_fake_most_frequent_words/visual_words_count.png\"  # noqa: E501\n",
    "\n",
    "plt.savefig(dia_file)\n",
    "\n",
    "plt.show()"
   ]
  }
 ],
 "metadata": {
  "kernelspec": {
   "display_name": "base",
   "language": "python",
   "name": "python3"
  },
  "language_info": {
   "codemirror_mode": {
    "name": "ipython",
    "version": 3
   },
   "file_extension": ".py",
   "mimetype": "text/x-python",
   "name": "python",
   "nbconvert_exporter": "python",
   "pygments_lexer": "ipython3",
   "version": "3.12.7"
  }
 },
 "nbformat": 4,
 "nbformat_minor": 5
}
