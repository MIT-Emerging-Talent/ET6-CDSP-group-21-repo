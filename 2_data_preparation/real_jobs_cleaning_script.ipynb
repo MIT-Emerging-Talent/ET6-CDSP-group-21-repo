{
 "cells": [
  {
   "cell_type": "markdown",
   "id": "7229d534",
   "metadata": {},
   "source": [
    "**Real Jobs Dataset Clean up**\n",
    "\n",
    "This script reads the raw real jobs dataset from the dataset folder, cleans and prepares it for our study."
   ]
  },
  {
   "cell_type": "code",
   "execution_count": 47,
   "id": "c94c9cd2",
   "metadata": {},
   "outputs": [],
   "source": [
    "# import needed libraries\n",
    "import pandas as pd"
   ]
  },
  {
   "cell_type": "code",
   "execution_count": 48,
   "id": "6f94aa32",
   "metadata": {},
   "outputs": [],
   "source": [
    "# load the raw real jobs data\n",
    "real_jobs_df = pd.read_csv(\"../1_datasets/raw_real_jobs/real_jobs.csv\")"
   ]
  },
  {
   "cell_type": "code",
   "execution_count": 49,
   "id": "9af982fc",
   "metadata": {},
   "outputs": [
    {
     "name": "stdout",
     "output_type": "stream",
     "text": [
      "             ID  Type                                 Job Title  \\\n",
      "0       ASEEL 1  Real               Market Intelligence Analyst   \n",
      "1             2  Real      Business Research - Research Analyst   \n",
      "2             3  Real  Brand Activation Assistant Analyst (ABM)   \n",
      "3             4  Real                          Marketing Intern   \n",
      "4             5  Real                         Marekting Analyst   \n",
      "5  ROUAA      1  Real  Cyber Threat Intelligence Analyst (CERT)   \n",
      "6             2  Real                              Math Teacher   \n",
      "7             3  Real           Customer Service Representative   \n",
      "\n",
      "                   Company Name  \\\n",
      "0                        Henkel   \n",
      "1                     Infomenio   \n",
      "2                       Pepsico   \n",
      "3                          EMEA   \n",
      "4                         Agoda   \n",
      "5                       CMA CGM   \n",
      "6  Armenian Evangelical College   \n",
      "7                      The Flex   \n",
      "\n",
      "                                Full Job Description Source Platform  \\\n",
      "0  Join Henkel’s Global Business Solution (GBS+) ...        Linkedin   \n",
      "1  \\r\\nYou will be joining one of our teams and w...        Linkedin   \n",
      "2  Support the Senior Brand Manager in executing ...        Linkedin   \n",
      "3  SmartBuyGlasses Optical Group seeks a full-tim...        Linkedin   \n",
      "4  Agoda is a leading global online travel platfo...        Linkedin   \n",
      "5  We are looking for a Cyber Threat Intelligence...        Linkedin   \n",
      "6  This is a contract Math Teacher role located o...        Linkedin   \n",
      "7  As our Client Success Partner, you’ll be the f...        Linkedin   \n",
      "\n",
      "                                                 URL Date Collected  \n",
      "0                                                job     23-06-2025  \n",
      "1      https://www.linkedin.com/jobs/view/4249622084      month ago  \n",
      "2      https://www.linkedin.com/jobs/view/4255180517     23-06-2025  \n",
      "3  https://www.linkedin.com/jobs/view/4255764181/...     24-06-2025  \n",
      "4      https://www.linkedin.com/jobs/view/4145428871       week ago  \n",
      "5      https://www.linkedin.com/jobs/view/4242853577    3 weeks ago  \n",
      "6      https://www.linkedin.com/jobs/view/4254338865      yesterday  \n",
      "7      https://www.linkedin.com/jobs/view/4257422563   23 hours ago  \n"
     ]
    }
   ],
   "source": [
    "# display the first few rows of the dataframe\n",
    "print(real_jobs_df.head(8))"
   ]
  },
  {
   "cell_type": "code",
   "execution_count": 50,
   "id": "10f6c7e8",
   "metadata": {},
   "outputs": [
    {
     "name": "stdout",
     "output_type": "stream",
     "text": [
      "(515, 8)\n"
     ]
    }
   ],
   "source": [
    "# display the shape of the dataframe\n",
    "print(real_jobs_df.shape)"
   ]
  },
  {
   "cell_type": "code",
   "execution_count": 51,
   "id": "9082f68c",
   "metadata": {},
   "outputs": [],
   "source": [
    "# drop the id column\n",
    "real_jobs_df = real_jobs_df.drop(columns=[\"ID\"])"
   ]
  },
  {
   "cell_type": "code",
   "execution_count": 52,
   "id": "cd259866",
   "metadata": {},
   "outputs": [
    {
     "name": "stdout",
     "output_type": "stream",
     "text": [
      "(370, 7)\n"
     ]
    }
   ],
   "source": [
    "# remove rows where all values are missing\n",
    "real_jobs_df = real_jobs_df.dropna(how=\"all\")\n",
    "\n",
    "# display the shape of the dataframe after dropping missing values\n",
    "print(real_jobs_df.shape)"
   ]
  },
  {
   "cell_type": "code",
   "execution_count": 63,
   "id": "b29ab182",
   "metadata": {},
   "outputs": [
    {
     "name": "stdout",
     "output_type": "stream",
     "text": [
      "['Real']\n"
     ]
    }
   ],
   "source": [
    "# display what is in the type column\n",
    "print(real_jobs_df[\"Type\"].unique())"
   ]
  },
  {
   "cell_type": "code",
   "execution_count": 64,
   "id": "64946d83",
   "metadata": {},
   "outputs": [
    {
     "name": "stdout",
     "output_type": "stream",
     "text": [
      "['Market Intelligence Analyst' 'Business Research - Research Analyst'\n",
      " 'Brand Activation Assistant Analyst (ABM)' 'Marketing Intern'\n",
      " 'Marekting Analyst' 'Cyber Threat Intelligence Analyst (CERT)'\n",
      " 'Math Teacher' 'Customer Service Representative' 'Senior AI Consultant'\n",
      " 'Data Analyst' 'Board Certified Behavior Analyst (BCBA)' nan\n",
      " 'Data Scientist - AI Trainer' 'Sr Data Scientist'\n",
      " 'Staff Machine Learning Scientist' 'AI Architect'\n",
      " 'Part-Time Online Math Teacher\\r' 'Math Teacher '\n",
      " 'SAP Business One Consultant'\n",
      " 'Senior Data Scientist, Research, Ads Insights, Measurement'\n",
      " 'Data Analyst \\r' 'Business Administrator 1 \\n' 'Internship'\n",
      " 'Swift Coders - AI Training' 'Entreprenuer in Residence'\n",
      " 'Quantitative Researcher' 'Business Development Associate'\n",
      " '2025 Fall Intern' 'Machine Learning Engineer, Safeguards'\n",
      " 'Receptionist - MV Family Care Northrise'\n",
      " 'FY26: Teacher, Grade 5 (Math), East Silver Spring, ES, 1.0 FTE']\n"
     ]
    }
   ],
   "source": [
    "# display the unique job titles in the dataframe\n",
    "print(real_jobs_df[\"Job Title\"].unique())"
   ]
  },
  {
   "cell_type": "code",
   "execution_count": 65,
   "id": "fd6f6eaf",
   "metadata": {},
   "outputs": [
    {
     "name": "stdout",
     "output_type": "stream",
     "text": [
      "31\n"
     ]
    }
   ],
   "source": [
    "# count the number of unique job titles\n",
    "print(len(real_jobs_df[\"Job Title\"].unique()))"
   ]
  },
  {
   "cell_type": "code",
   "execution_count": 68,
   "id": "1551d761",
   "metadata": {},
   "outputs": [],
   "source": [
    "# set ouput file path\n",
    "output_file_path = \"../1_datasets/cleaned_real_jobs/cleaned_real_jobs.csv\"\n",
    "\n",
    "# save the cleaned dataframe to a new csv file\n",
    "# real_jobs_df.to_csv(output_file_path, index=False)"
   ]
  },
  {
   "cell_type": "code",
   "execution_count": 70,
   "id": "64f611cd",
   "metadata": {},
   "outputs": [],
   "source": [
    "# save the cleaned dataframe to a new csv file\n",
    "real_jobs_df.to_csv(output_file_path, index=False)"
   ]
  }
 ],
 "metadata": {
  "kernelspec": {
   "display_name": "Python 3",
   "language": "python",
   "name": "python3"
  },
  "language_info": {
   "codemirror_mode": {
    "name": "ipython",
    "version": 3
   },
   "file_extension": ".py",
   "mimetype": "text/x-python",
   "name": "python",
   "nbconvert_exporter": "python",
   "pygments_lexer": "ipython3",
   "version": "3.13.5"
  }
 },
 "nbformat": 4,
 "nbformat_minor": 5
}
