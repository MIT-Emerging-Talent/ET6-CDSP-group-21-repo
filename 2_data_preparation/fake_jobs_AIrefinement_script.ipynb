{
 "cells": [
  {
   "cell_type": "markdown",
   "id": "94bf0f0c",
   "metadata": {},
   "source": [
    "**Fake Jobs Refinement with LLM**\n",
    "\n",
    "This script calls on a large language model (Gemini API) to transform the scam job descriptions in our dataset, to simulate ***\"Fake Job postings written by AI\"*** in alignment with our research objectives."
   ]
  },
  {
   "cell_type": "code",
   "execution_count": 1,
   "id": "fc3f44a8",
   "metadata": {},
   "outputs": [],
   "source": [
    "# import needed libraries\n",
    "import pandas as pd"
   ]
  },
  {
   "cell_type": "code",
   "execution_count": null,
   "id": "f7947d26",
   "metadata": {},
   "outputs": [
    {
     "name": "stdout",
     "output_type": "stream",
     "text": [
      "Extracted Fake Jobs Dataset (first 5 rows):\n",
      "   job_id                         title              location  salary_range  \\\n",
      "0    5452      Adminstrative/Data Entry      US, VA, Marshall           NaN   \n",
      "1   17688                    Data Entry      US, IL, ATKINSON           NaN   \n",
      "2   17603             Network Marketing              US, NH,   7200-1380000   \n",
      "3    6696  Cruise Staff Wanted *URGENT*  US, PA, philadelphia           NaN   \n",
      "4     998           EXECUTIVE SOUS CHEF                MY, ,    55000-65000   \n",
      "\n",
      "                                     company_profile  \\\n",
      "0                                                NaN   \n",
      "1                                                NaN   \n",
      "2                                                NaN   \n",
      "3                                                NaN   \n",
      "4  Le Meridien is situated in the heart of kuala ...   \n",
      "\n",
      "                                         description  \\\n",
      "0  Arise Virtual Solutions is a business process ...   \n",
      "1  We are seeking extremely motivated and experie...   \n",
      "2  Are you looking to make anywhere from 600-115,...   \n",
      "3  6* Ultra Luxury American Cruise Company is urg...   \n",
      "4  Responsible for assisting in the direction and...   \n",
      "\n",
      "                                        requirements  \\\n",
      "0  All normal requirements in the Adminstrative a...   \n",
      "1   Have a yahoo messenger which you would be wor...   \n",
      "2  An ambition to succeed, A desire to be the bes...   \n",
      "3  Certification &amp; Experience: Previous exper...   \n",
      "4                                                NaN   \n",
      "\n",
      "                                            benefits required_experience  \\\n",
      "0  Benefit eligible employees qualify for Arise, ...                 NaN   \n",
      "1  Health, Dental, Life and AD&amp;D Insurance, E...                 NaN   \n",
      "2  Residual Income, Travel dollars, Car Dollars, ...      Not Applicable   \n",
      "3  Benefits: On board en suite accommodation and ...                 NaN   \n",
      "4                                                NaN           Executive   \n",
      "\n",
      "   fraudulent  \n",
      "0           1  \n",
      "1           1  \n",
      "2           1  \n",
      "3           1  \n",
      "4           1  \n"
     ]
    }
   ],
   "source": [
    "# load the extracted fake jobs dataset\n",
    "extracted_fake_jobs_df = pd.read_csv('../1_datasets/processed_fake_jobs/originally_selected_30_fake_jobs.csv')\n",
    "\n",
    "# display the first few rows of the dataset\n",
    "print(\"Extracted Fake Jobs Dataset (first 5 rows):\")\n",
    "print(extracted_fake_jobs_df.head())"
   ]
  },
  {
   "cell_type": "code",
   "execution_count": null,
   "id": "762cfca7",
   "metadata": {},
   "outputs": [],
   "source": [
    "# Setup for LLM Refinement\n",
    "\n",
    "# 2. Import LLM client and configure API key\n",
    "import google.generativeai as genai\n",
    "import os\n",
    "from dotenv import load_dotenv\n",
    "\n",
    "\n",
    "# Load environment variables from .env file\n",
    "load_dotenv()\n",
    "api_key = os.getenv(\"API_KEY\")\n",
    "\n",
    "if not api_key:\n",
    "    raise ValueError(\"No API key found. Please set your API key in the .env file.\")\n",
    "\n",
    "# Configure the generative AI API\n",
    "genai.configure(api_key=api_key)\n",
    "model = genai.GenerativeModel('gemini-2.5-flash')\n"
   ]
  },
  {
   "cell_type": "code",
   "execution_count": null,
   "id": "3c257490",
   "metadata": {},
   "outputs": [
    {
     "name": "stdout",
     "output_type": "stream",
     "text": [
      "Starting LLM refinement process...\n",
      "Refined Job ID: 5452\n",
      "Refined Job ID: 17688\n",
      "Refined Job ID: 17603\n",
      "Refined Job ID: 6696\n",
      "Refined Job ID: 998\n",
      "Refined Job ID: 6576\n",
      "Refined Job ID: 17561\n",
      "Refined Job ID: 6575\n",
      "Refined Job ID: 11711\n",
      "Refined Job ID: 17593\n",
      "Refined Job ID: 8483\n",
      "Refined Job ID: 17747\n",
      "Refined Job ID: 17599\n",
      "Refined Job ID: 10954\n",
      "Refined Job ID: 17650\n",
      "Refined Job ID: 17713\n",
      "Refined Job ID: 2267\n",
      "Refined Job ID: 17818\n",
      "Refined Job ID: 17684\n",
      "Refined Job ID: 3180\n",
      "Refined Job ID: 17632\n",
      "Refined Job ID: 17627\n",
      "Refined Job ID: 11768\n",
      "Refined Job ID: 17549\n",
      "Refined Job ID: 2922\n",
      "Refined Job ID: 10408\n",
      "Refined Job ID: 4267\n",
      "Refined Job ID: 8691\n",
      "Refined Job ID: 5870\n",
      "Refined Job ID: 7655\n",
      "\n",
      "LLM refinement complete.\n",
      "\n",
      "First 3 refined job descriptions (showing original vs refined):\n",
      "                     original_description_before_llm  \\\n",
      "0  Arise Virtual Solutions is a business process ...   \n",
      "1  We are seeking extremely motivated and experie...   \n",
      "2  Are you looking to make anywhere from 600-115,...   \n",
      "\n",
      "                                         description  \n",
      "0  Arise Virtual Solutions stands as a pioneering...  \n",
      "1  **Operations Support Specialist**\\n\\nWe are ac...  \n",
      "2  Are you seeking a distinctive professional tra...  \n"
     ]
    }
   ],
   "source": [
    "# Define the LLM Refinement Prompt\n",
    "\n",
    "# This prompt needs careful engineering!\n",
    "# It's a balance: we make it sound legitimate, but not *too* perfect.\n",
    "# we might need several iterations of prompt engineering.\n",
    "\n",
    "LLM_REFINEMENT_PROMPT = \"\"\"\n",
    "You are an expert HR professional and a master wordsmith. Your task is to rewrite a given job description\n",
    "to make it sound highly professional, appealing, and legitimate, while subtly incorporating characteristics\n",
    "that might be common in sophisticated, but still fraudulent, job postings.\n",
    "\n",
    "Focus on:\n",
    "- Improving grammar and vocabulary.\n",
    "- Making vague tasks sound more professional (e.g., \"data entry\" -> \"information management\").\n",
    "- Removing obvious scam red flags (e.g., \"send money,\" \"no experience needed - huge pay\").\n",
    "- Adding appealing but potentially exaggerated benefits or responsibilities.\n",
    "- Making the application process sound normal.\n",
    "- Retain the core 'job' type (e.g., if it was 'data entry', keep it as a data-related role).\n",
    "\n",
    "DO NOT:\n",
    "- Make it sound *too* perfect if your goal is to make it a *subtle* scam.\n",
    "- Introduce explicit scam language.\n",
    "- Mention anything about being a scam or fraudulent.\n",
    "\n",
    "Here is the job description to refine:\n",
    "---\n",
    "{job_description_text}\n",
    "---\n",
    "Please provide only the refined job description text, nothing else.\n",
    "\"\"\"\n",
    "\n",
    "# Loop through the selected fake jobs and refine them\n",
    "\n",
    "# Make a copy to work on, preserving the original extracted_fake_jobs_df state if needed\n",
    "df_to_refine = extracted_fake_jobs_df.copy() # This is the DataFrame from the previous code block\n",
    "\n",
    "# Add a column to store the original description before LLM refinement, if you want to compare\n",
    "df_to_refine['original_description_before_llm'] = df_to_refine['description']\n",
    "\n",
    "refined_descriptions = []\n",
    "print(\"Starting LLM refinement process...\")\n",
    "for index, row in df_to_refine.iterrows():\n",
    "    original_description = row['description']\n",
    "\n",
    "    # Construct the full prompt for the current job description\n",
    "    current_prompt = LLM_REFINEMENT_PROMPT.format(job_description_text=original_description)\n",
    "\n",
    "    try:\n",
    "        # Call the LLM API\n",
    "        response = model.generate_content(current_prompt)\n",
    "        refined_text = response.text\n",
    "\n",
    "        refined_descriptions.append(refined_text)\n",
    "        print(f\"Refined Job ID: {row['job_id']}\")\n",
    "\n",
    "    except Exception as e:\n",
    "        print(f\"Error refining Job ID {row['job_id']}: {e}\")\n",
    "        refined_descriptions.append(original_description) # Append original if error\n",
    "\n",
    "# Update the 'description' column with the refined text\n",
    "df_to_refine['description'] = refined_descriptions\n",
    "\n",
    "print(\"\\nLLM refinement complete.\")\n",
    "print(\"\\nFirst 3 refined job descriptions (showing original vs refined):\")\n",
    "print(df_to_refine[['original_description_before_llm', 'description']].head(3))\n"
   ]
  },
  {
   "cell_type": "code",
   "execution_count": 7,
   "id": "a47b9601",
   "metadata": {},
   "outputs": [
    {
     "name": "stdout",
     "output_type": "stream",
     "text": [
      "\n",
      "Refined Fake Jobs Dataset (first 5 rows):\n",
      "   job_id                         title              location  salary_range  \\\n",
      "0    5452      Adminstrative/Data Entry      US, VA, Marshall           NaN   \n",
      "1   17688                    Data Entry      US, IL, ATKINSON           NaN   \n",
      "2   17603             Network Marketing              US, NH,   7200-1380000   \n",
      "3    6696  Cruise Staff Wanted *URGENT*  US, PA, philadelphia           NaN   \n",
      "4     998           EXECUTIVE SOUS CHEF                MY, ,    55000-65000   \n",
      "\n",
      "                                     company_profile  \\\n",
      "0                                                NaN   \n",
      "1                                                NaN   \n",
      "2                                                NaN   \n",
      "3                                                NaN   \n",
      "4  Le Meridien is situated in the heart of kuala ...   \n",
      "\n",
      "                                         description  \\\n",
      "0  Arise Virtual Solutions stands as a pioneering...   \n",
      "1  **Operations Support Specialist**\\n\\nWe are ac...   \n",
      "2  Are you seeking a distinctive professional tra...   \n",
      "3  **Embark on a Distinguished Global Career with...   \n",
      "4  As a pivotal leader within our distinguished c...   \n",
      "\n",
      "                                        requirements  \\\n",
      "0  All normal requirements in the Adminstrative a...   \n",
      "1   Have a yahoo messenger which you would be wor...   \n",
      "2  An ambition to succeed, A desire to be the bes...   \n",
      "3  Certification &amp; Experience: Previous exper...   \n",
      "4                                                NaN   \n",
      "\n",
      "                                            benefits required_experience  \\\n",
      "0  Benefit eligible employees qualify for Arise, ...                 NaN   \n",
      "1  Health, Dental, Life and AD&amp;D Insurance, E...                 NaN   \n",
      "2  Residual Income, Travel dollars, Car Dollars, ...      Not Applicable   \n",
      "3  Benefits: On board en suite accommodation and ...                 NaN   \n",
      "4                                                NaN           Executive   \n",
      "\n",
      "   fraudulent                    original_description_before_llm  \n",
      "0           1  Arise Virtual Solutions is a business process ...  \n",
      "1           1  We are seeking extremely motivated and experie...  \n",
      "2           1  Are you looking to make anywhere from 600-115,...  \n",
      "3           1  6* Ultra Luxury American Cruise Company is urg...  \n",
      "4           1  Responsible for assisting in the direction and...  \n"
     ]
    }
   ],
   "source": [
    "# display the first few rows of the refined DataFrame\n",
    "print(\"\\nRefined Fake Jobs Dataset (first 5 rows):\")\n",
    "print(df_to_refine.head())\n"
   ]
  },
  {
   "cell_type": "code",
   "execution_count": null,
   "id": "33f125d3",
   "metadata": {},
   "outputs": [
    {
     "name": "stdout",
     "output_type": "stream",
     "text": [
      "                     original_description_before_llm  \\\n",
      "0  Arise Virtual Solutions is a business process ...   \n",
      "1  We are seeking extremely motivated and experie...   \n",
      "2  Are you looking to make anywhere from 600-115,...   \n",
      "\n",
      "                                         description  \n",
      "0  Arise Virtual Solutions stands as a pioneering...  \n",
      "1  **Operations Support Specialist**\\n\\nWe are ac...  \n",
      "2  Are you seeking a distinctive professional tra...  \n"
     ]
    }
   ],
   "source": [
    "# display only the original and refined descriptions\n",
    "print(df_to_refine[['original_description_before_llm', 'description']].head(3))    \n",
    "\n"
   ]
  },
  {
   "cell_type": "code",
   "execution_count": null,
   "id": "0ec56766",
   "metadata": {},
   "outputs": [],
   "source": [
    "# append the original vs refined descriptions to a json file for later comparison\n",
    "df_to_refine[['original_description_before_llm', 'description']].to_json('original_vs_refined_fakeJobs_descriptions.json', orient='records', lines=True)\n"
   ]
  },
  {
   "cell_type": "code",
   "execution_count": 10,
   "id": "4018230b",
   "metadata": {},
   "outputs": [
    {
     "name": "stdout",
     "output_type": "stream",
     "text": [
      "\n",
      "Current shape of the refined DataFrame:\n",
      "(30, 11)\n"
     ]
    }
   ],
   "source": [
    "# current shape of the DataFrame\n",
    "print(\"\\nCurrent shape of the refined DataFrame:\")\n",
    "print(df_to_refine.shape)"
   ]
  },
  {
   "cell_type": "code",
   "execution_count": 11,
   "id": "68775875",
   "metadata": {},
   "outputs": [
    {
     "name": "stdout",
     "output_type": "stream",
     "text": [
      "\n",
      "LLM-refined fake jobs saved to '../1_datasets/processed_fake_jobs/llm_refined_30_fake_job_postings.csv'\n"
     ]
    }
   ],
   "source": [
    "# Save the LLM-refined fake jobs\n",
    "output_file_path = '../1_datasets/processed_fake_jobs/llm_refined_30_fake_job_postings.csv'\n",
    "df_to_refine.to_csv(output_file_path, index=False)\n",
    "print(f\"\\nLLM-refined fake jobs saved to '{output_file_path}'\")"
   ]
  }
 ],
 "metadata": {
  "kernelspec": {
   "display_name": "Python 3",
   "language": "python",
   "name": "python3"
  },
  "language_info": {
   "codemirror_mode": {
    "name": "ipython",
    "version": 3
   },
   "file_extension": ".py",
   "mimetype": "text/x-python",
   "name": "python",
   "nbconvert_exporter": "python",
   "pygments_lexer": "ipython3",
   "version": "3.13.5"
  }
 },
 "nbformat": 4,
 "nbformat_minor": 5
}
