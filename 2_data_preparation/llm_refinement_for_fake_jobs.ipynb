{
 "cells": [
  {
   "cell_type": "markdown",
   "id": "4e88a8c1",
   "metadata": {},
   "source": [
    "**Fake Jobs Refinement with LLM** \n",
    "\n",
    "This script calls on a large language model (Gemini API)\n",
    "to transform the scam job descriptions in our dataset,\n",
    "to simulate ***\"Fake Job postings written by AI\"*** in alignment\n",
    "with our research objectives."
   ]
  },
  {
   "cell_type": "code",
   "execution_count": 7,
   "id": "28bf1975",
   "metadata": {},
   "outputs": [],
   "source": [
    "# import needed libraries\n",
    "import pandas as pd\n",
    "import google.generativeai as genai\n",
    "import os\n",
    "from dotenv import load_dotenv\n",
    "import random\n",
    "import time"
   ]
  },
  {
   "cell_type": "code",
   "execution_count": 19,
   "id": "4cf4dee1",
   "metadata": {},
   "outputs": [
    {
     "name": "stdout",
     "output_type": "stream",
     "text": [
      "Shape of fake jobs DataFrame: (74, 11)\n",
      "Fake Jobs Dataset (first 5 rows):\n",
      "                          title                            location  \\\n",
      "0               IC&E Technician                   US, , Stocton, CA   \n",
      "1       IC&E Technician Mt Poso  US, CA, Bakersfield, CA / Mt. Poso   \n",
      "2     UST Testing Technician II                 US, CA, Bakersfield   \n",
      "3  Health + Safety Professional                 US, CA, Bakersfield   \n",
      "4     UST Testing Technician II                 US, CA, Bakersfield   \n",
      "\n",
      "                          department  salary_range  \\\n",
      "0                       Oil & Energy  95000-115000   \n",
      "1                       Oil & Energy  95000-115000   \n",
      "2                       Oil & Energy   65000-75000   \n",
      "3  HSE (Health Safety Environmental)  80000-120000   \n",
      "4                       Oil & Energy   65000-75000   \n",
      "\n",
      "                                     company_profile  \\\n",
      "0                                                ...   \n",
      "1                                                ...   \n",
      "2  Jaco Oil and Refined Resources have partnered ...   \n",
      "3                                                ...   \n",
      "4                                                ...   \n",
      "\n",
      "                                         description  \\\n",
      "0  IC&amp;E Technician | Bakersfield, CA Mt. Poso...   \n",
      "1  IC&amp;E Technician | Bakersfield, CA Mt. Poso...   \n",
      "2  Qualified candidates are encouraged to apply d...   \n",
      "3  Health &amp; Safety Professional | Bakersfield...   \n",
      "4     UST Testing Technician II Bakersfield, CA L...   \n",
      "\n",
      "                                        requirements  \\\n",
      "0  QualificationsKnowledge, Skills &amp; Abilitie...   \n",
      "1   QualificationsKnowledge, Skills &amp; Abiliti...   \n",
      "2  Job site set-up.Loading and unloading of equip...   \n",
      "3  Duties and Responsibilities:Provides safety po...   \n",
      "4  Job site set-up.Loading and unloading of equip...   \n",
      "\n",
      "                                            benefits      industry function  \\\n",
      "0  BENEFITSWhat is offered:Competitive compensati...  Oil & Energy    Other   \n",
      "1  BENEFITSWhat is offered:Competitive compensati...  Oil & Energy    Other   \n",
      "2  Competitive compensation package including bas...  Oil & Energy    Other   \n",
      "3  What is offered:Competitive compensation packa...  Oil & Energy    Other   \n",
      "4  Competitive compensation package including bas...  Oil & Energy    Other   \n",
      "\n",
      "   fraudulent  \n",
      "0           1  \n",
      "1           1  \n",
      "2           1  \n",
      "3           1  \n",
      "4           1  \n"
     ]
    }
   ],
   "source": [
    "# load the fake jobs dataset\n",
    "fake_jobs_df = pd.read_csv(\"../1_datasets/cleaned_data/fake_jobs.csv\")\n",
    "\n",
    "# print the shape of the DataFrame\n",
    "print(f\"Shape of fake jobs DataFrame: {fake_jobs_df.shape}\")\n",
    "\n",
    "# display the first few rows of the dataset\n",
    "print(\"Fake Jobs Dataset (first 5 rows):\")\n",
    "print(fake_jobs_df.head())"
   ]
  },
  {
   "cell_type": "code",
   "execution_count": 20,
   "id": "95708c0b",
   "metadata": {},
   "outputs": [],
   "source": [
    "# Setup for LLM Refinement\n",
    "\n",
    "# Load environment variables from .env file\n",
    "load_dotenv()\n",
    "api_key = os.getenv(\"API_KEY\")\n",
    "\n",
    "if not api_key:\n",
    "    raise ValueError(\n",
    "        \"No API key found. Please set your\\\n",
    "            API key in the .env file.\"\n",
    "    )\n",
    "\n",
    "# Configure the generative AI API\n",
    "genai.configure(api_key=api_key)\n",
    "model = genai.GenerativeModel(\"gemini-2.5-flash\")"
   ]
  },
  {
   "cell_type": "code",
   "execution_count": 21,
   "id": "306c20d9",
   "metadata": {},
   "outputs": [],
   "source": [
    "# Define the LLM Refinement Prompt\n",
    "\n",
    "# This prompt needs careful engineering!\n",
    "# It's a balance: we make it sound legitimate, but not *too* perfect.\n",
    "# we might need several iterations of prompt engineering.\n",
    "\n",
    "LLM_REFINEMENT_PROMPT = \"\"\"\n",
    "As an expert HR professional, rewrite the following job description.\n",
    "Your goal is to make it sound highly professional, appealing, and legitimate,\n",
    "while subtly incorporating characteristics common in sophisticated yet\n",
    "fraudulent postings.\n",
    "\n",
    "Key objectives:\n",
    "- Improve grammar and vocabulary.\n",
    "- Professionalize vague tasks (e.g., \"data entry\" -> \"information management\").\n",
    "- Eliminate obvious scam flags\n",
    "(e.g., \"send money,\" \"no experience - huge pay\").\n",
    "- Add appealing but potentially exaggerated benefits/responsibilities.\n",
    "- Ensure the application process sounds normal.\n",
    "- Retain the original core job type (e.g., data-related role for 'data entry').\n",
    "\n",
    "Crucially:\n",
    "- DO NOT make it sound *too* perfect; aim for subtle deception.\n",
    "- DO NOT use explicit scam language or mention fraud.\n",
    "\n",
    "Provide ONLY the refined job description. Keep it concise.\n",
    "---\n",
    "{job_description_text}\n",
    "---\n",
    "\"\"\""
   ]
  },
  {
   "cell_type": "code",
   "execution_count": 22,
   "id": "8b7b294f",
   "metadata": {},
   "outputs": [],
   "source": [
    "# --- Function to handle LLM calls with retries and exponential backoff ---\n",
    "\n",
    "\n",
    "def call_gemini_with_retries(prompt_text):\n",
    "    \"\"\"\n",
    "    Calls the Gemini API with retries and exponential backoff to handle\n",
    "    rate limits.\n",
    "    \"\"\"\n",
    "    retries = 0\n",
    "    max_retries = 5\n",
    "    base_delay = 2  # seconds\n",
    "    max_delay = 60  # seconds\n",
    "\n",
    "    while retries < max_retries:\n",
    "        try:\n",
    "            response = model.generate_content(\n",
    "                prompt_text,\n",
    "            )\n",
    "            return response.text\n",
    "        except Exception as e:\n",
    "            error_message = str(e).lower()\n",
    "            if (\n",
    "                \"429\" in error_message\n",
    "                or \"rate limit\" in error_message\n",
    "                or \"quota\" in error_message\n",
    "            ):\n",
    "                delay = min(max_delay, base_delay * (2**retries) + random.uniform(0, 1))  # noqa: E501\n",
    "                print(\n",
    "                    f\"  Rate limit/quota error hit. Retrying in {delay:.2f}s..\\\n",
    "                        (Attempt {retries + 1}/{max_retries})\"\n",
    "                )\n",
    "                time.sleep(delay)\n",
    "                retries += 1\n",
    "            else:\n",
    "                print(f\"  An unexpected error occurred during API call: {e}\")\n",
    "                # For other unexpected errors, re-raise to stop processing\n",
    "                # this job\n",
    "                raise\n",
    "\n",
    "    raise Exception(\n",
    "        f\"Max retries ({max_retries}) exceeded for LLM call after\\\n",
    "            multiple failures.\"\n",
    "    )"
   ]
  },
  {
   "cell_type": "code",
   "execution_count": 23,
   "id": "0785a3e3",
   "metadata": {},
   "outputs": [
    {
     "name": "stdout",
     "output_type": "stream",
     "text": [
      "🔧 Refining 74 job descriptions...\n",
      "⏸️ Pausing after 5 jobs...\n",
      "⏸️ Pausing after 10 jobs...\n",
      "⏸️ Pausing after 15 jobs...\n",
      "⏸️ Pausing after 20 jobs...\n",
      "⏸️ Pausing after 25 jobs...\n",
      "⏸️ Pausing after 30 jobs...\n",
      "⏸️ Pausing after 35 jobs...\n",
      "⏸️ Pausing after 40 jobs...\n",
      "⏸️ Pausing after 45 jobs...\n",
      "⏸️ Pausing after 50 jobs...\n",
      "⏸️ Pausing after 55 jobs...\n",
      "⏸️ Pausing after 60 jobs...\n",
      "⏸️ Pausing after 65 jobs...\n",
      "⏸️ Pausing after 70 jobs...\n",
      "✅ Saved refined jobs to: ../1_datasets/cleaned_data/llm_refined_fake_posts.csv\n"
     ]
    }
   ],
   "source": [
    "input_file_path = \"../1_datasets/cleaned_data/fake_jobs.csv\"\n",
    "output_file_path = \"../1_datasets/cleaned_data/llm_refined_fake_posts.csv\"\n",
    "\n",
    "\n",
    "def refine_job_batch(input_filepath, output_filepath):\n",
    "    df = pd.read_csv(input_filepath)\n",
    "\n",
    "    df[\"refined_description\"] = \"\"\n",
    "    df[\"refinement_status\"] = \"Not Processed\"\n",
    "    df[\"refinement_error\"] = \"\"\n",
    "\n",
    "    print(f\"🔧 Refining {len(df)} job descriptions...\")\n",
    "\n",
    "    for i, row in df.iterrows():\n",
    "        original = row[\"description\"]\n",
    "        prompt = LLM_REFINEMENT_PROMPT.format(job_description_text=original)\n",
    "\n",
    "        try:\n",
    "            refined = call_gemini_with_retries(prompt)\n",
    "            df.at[i, \"refined_description\"] = refined\n",
    "            df.at[i, \"refinement_status\"] = \"Success\"\n",
    "        except Exception as e:\n",
    "            df.at[i, \"refined_description\"] = original\n",
    "            df.at[i, \"refinement_status\"] = \"Failed\"\n",
    "            df.at[i, \"refinement_error\"] = str(e)\n",
    "\n",
    "        if (i + 1) % 5 == 0:\n",
    "            print(f\"⏸️ Pausing after {i + 1} jobs...\")\n",
    "            time.sleep(5)\n",
    "\n",
    "    df.to_csv(output_filepath, index=False)\n",
    "    print(f\"✅ Saved refined jobs to: {output_filepath}\")\n",
    "\n",
    "\n",
    "# Run it\n",
    "refine_job_batch(input_file_path, output_file_path)"
   ]
  },
  {
   "cell_type": "code",
   "execution_count": 24,
   "id": "350af07c",
   "metadata": {},
   "outputs": [
    {
     "name": "stdout",
     "output_type": "stream",
     "text": [
      "\n",
      "Refined DataFrame (first 5 rows):\n",
      "                          title                            location  \\\n",
      "0               IC&E Technician                   US, , Stocton, CA   \n",
      "1       IC&E Technician Mt Poso  US, CA, Bakersfield, CA / Mt. Poso   \n",
      "2     UST Testing Technician II                 US, CA, Bakersfield   \n",
      "3  Health + Safety Professional                 US, CA, Bakersfield   \n",
      "4     UST Testing Technician II                 US, CA, Bakersfield   \n",
      "\n",
      "                          department  salary_range  \\\n",
      "0                       Oil & Energy  95000-115000   \n",
      "1                       Oil & Energy  95000-115000   \n",
      "2                       Oil & Energy   65000-75000   \n",
      "3  HSE (Health Safety Environmental)  80000-120000   \n",
      "4                       Oil & Energy   65000-75000   \n",
      "\n",
      "                                     company_profile  \\\n",
      "0                                                ...   \n",
      "1                                                ...   \n",
      "2  Jaco Oil and Refined Resources have partnered ...   \n",
      "3                                                ...   \n",
      "4                                                ...   \n",
      "\n",
      "                                         description  \\\n",
      "0  IC&amp;E Technician | Bakersfield, CA Mt. Poso...   \n",
      "1  IC&amp;E Technician | Bakersfield, CA Mt. Poso...   \n",
      "2  Qualified candidates are encouraged to apply d...   \n",
      "3  Health &amp; Safety Professional | Bakersfield...   \n",
      "4     UST Testing Technician II Bakersfield, CA L...   \n",
      "\n",
      "                                        requirements  \\\n",
      "0  QualificationsKnowledge, Skills &amp; Abilitie...   \n",
      "1   QualificationsKnowledge, Skills &amp; Abiliti...   \n",
      "2  Job site set-up.Loading and unloading of equip...   \n",
      "3  Duties and Responsibilities:Provides safety po...   \n",
      "4  Job site set-up.Loading and unloading of equip...   \n",
      "\n",
      "                                            benefits      industry function  \\\n",
      "0  BENEFITSWhat is offered:Competitive compensati...  Oil & Energy    Other   \n",
      "1  BENEFITSWhat is offered:Competitive compensati...  Oil & Energy    Other   \n",
      "2  Competitive compensation package including bas...  Oil & Energy    Other   \n",
      "3  What is offered:Competitive compensation packa...  Oil & Energy    Other   \n",
      "4  Competitive compensation package including bas...  Oil & Energy    Other   \n",
      "\n",
      "   fraudulent                                refined_description  \\\n",
      "0           1  **Senior Instrumentation, Controls, and Electr...   \n",
      "1           1  **Senior Instrumentation, Controls, and Electr...   \n",
      "2           1  **UST Systems & Retail Infrastructure Speciali...   \n",
      "3           1  **Health & Safety Professional | Bakersfield, ...   \n",
      "4           1  **UST Systems Integrity & Regulatory Complianc...   \n",
      "\n",
      "  refinement_status  refinement_error  \n",
      "0           Success               NaN  \n",
      "1           Success               NaN  \n",
      "2           Success               NaN  \n",
      "3           Success               NaN  \n",
      "4           Success               NaN  \n"
     ]
    }
   ],
   "source": [
    "df_refined = pd.read_csv(\"../1_datasets/cleaned_data/llm_refined_fake_posts.csv\")  # noqa: E501\n",
    "\n",
    "# Display the first few rows of the refined DataFrame\n",
    "print(\"\\nRefined DataFrame (first 5 rows):\")\n",
    "print(df_refined.head())"
   ]
  },
  {
   "cell_type": "code",
   "execution_count": 25,
   "id": "14f847a6",
   "metadata": {},
   "outputs": [
    {
     "name": "stdout",
     "output_type": "stream",
     "text": [
      "\n",
      "First 5 rows of original and refined descriptions:\n",
      "                                         description  \\\n",
      "0  IC&amp;E Technician | Bakersfield, CA Mt. Poso...   \n",
      "1  IC&amp;E Technician | Bakersfield, CA Mt. Poso...   \n",
      "2  Qualified candidates are encouraged to apply d...   \n",
      "3  Health &amp; Safety Professional | Bakersfield...   \n",
      "4     UST Testing Technician II Bakersfield, CA L...   \n",
      "\n",
      "                                 refined_description  \n",
      "0  **Senior Instrumentation, Controls, and Electr...  \n",
      "1  **Senior Instrumentation, Controls, and Electr...  \n",
      "2  **UST Systems & Retail Infrastructure Speciali...  \n",
      "3  **Health & Safety Professional | Bakersfield, ...  \n",
      "4  **UST Systems Integrity & Regulatory Complianc...  \n"
     ]
    }
   ],
   "source": [
    "# display the first five rows of decriptions and refined descriptions\n",
    "print(\"\\nFirst 5 rows of original and refined descriptions:\")\n",
    "print(df_refined[[\"description\", \"refined_description\"]].head())"
   ]
  },
  {
   "cell_type": "code",
   "execution_count": 26,
   "id": "25dd0a2b",
   "metadata": {},
   "outputs": [
    {
     "name": "stdout",
     "output_type": "stream",
     "text": [
      "\n",
      "Unique values in 'refinement_status' column:\n",
      "['Success']\n"
     ]
    }
   ],
   "source": [
    "# list the values in the refinement_status column\n",
    "print(\"\\nUnique values in 'refinement_status' column:\")\n",
    "print(df_refined[\"refinement_status\"].unique())"
   ]
  },
  {
   "cell_type": "code",
   "execution_count": 27,
   "id": "c2715667",
   "metadata": {},
   "outputs": [
    {
     "name": "stdout",
     "output_type": "stream",
     "text": [
      "\n",
      "No errors encountered during refinement.\n"
     ]
    }
   ],
   "source": [
    "# check for any errors in the refinement process\n",
    "if \"refinement_error\" in df_refined.columns:\n",
    "    errors = df_refined[df_refined[\"refinement_error\"] == \"NaN\"]\n",
    "    if not errors.empty:\n",
    "        print(\"\\nErrors encountered during refinement:\")\n",
    "        print(errors[[\"job_id\", \"refinement_error\"]])\n",
    "    else:\n",
    "        print(\"\\nNo errors encountered during refinement.\")"
   ]
  },
  {
   "cell_type": "code",
   "execution_count": 28,
   "id": "721c475d",
   "metadata": {},
   "outputs": [
    {
     "name": "stdout",
     "output_type": "stream",
     "text": [
      "\n",
      "Shape of refined DataFrame: (74, 14)\n",
      "Total jobs refined: 74\n"
     ]
    }
   ],
   "source": [
    "# current shape of the refined DataFrame\n",
    "print(f\"\\nShape of refined DataFrame: {df_refined.shape}\")\n",
    "print(f\"Total jobs refined: {len(df_refined)}\")"
   ]
  }
 ],
 "metadata": {
  "kernelspec": {
   "display_name": "base",
   "language": "python",
   "name": "python3"
  },
  "language_info": {
   "codemirror_mode": {
    "name": "ipython",
    "version": 3
   },
   "file_extension": ".py",
   "mimetype": "text/x-python",
   "name": "python",
   "nbconvert_exporter": "python",
   "pygments_lexer": "ipython3",
   "version": "3.13.5"
  }
 },
 "nbformat": 4,
 "nbformat_minor": 5
}
