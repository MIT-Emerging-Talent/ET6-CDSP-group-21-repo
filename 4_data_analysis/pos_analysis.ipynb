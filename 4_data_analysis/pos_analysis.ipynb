{
 "cells": [
  {
   "cell_type": "markdown",
   "id": "8d7299bb",
   "metadata": {},
   "source": [
    "# POS Tagging in Job Descriptions\n",
    "\n",
    "## Objective\n",
    "The goal of this notebook is to perform **Part-of-Speech (POS) tagging** \n",
    "on job descriptions and analyze the grammatical structures\n",
    " used in **real**, **fake**, and **AI-generated** job postings.\n",
    "\n",
    "By tagging and analyzing the roles of words in each job post\n",
    " (e.g., noun, verb, adjective), we can detect repetitive patterns, \n",
    " unnatural syntax, or overly structured sentences, especially in AI-written or scam posts.\n",
    "\n",
    "---\n",
    "\n",
    "### Why POS Tagging?\n",
    "\n",
    "- **AI-generated** posts may sound too robotic or clean.\n",
    "- **Fake** posts may use specific persuasive language patterns.\n",
    "- **Real** posts may have a more natural tone.\n"
   ]
  },
  {
   "cell_type": "code",
   "execution_count": null,
   "id": "0c15c70d",
   "metadata": {},
   "outputs": [
    {
     "name": "stderr",
     "output_type": "stream",
     "text": [
      "[nltk_data] Downloading package punkt to C:\\Users\\DELL/nltk_data...\n",
      "[nltk_data]   Unzipping tokenizers\\punkt.zip.\n",
      "[nltk_data] Downloading package stopwords to\n",
      "[nltk_data]     C:\\Users\\DELL/nltk_data...\n",
      "[nltk_data]   Package stopwords is already up-to-date!\n",
      "[nltk_data] Downloading package averaged_perceptron_tagger to\n",
      "[nltk_data]     C:\\Users\\DELL/nltk_data...\n",
      "[nltk_data]   Package averaged_perceptron_tagger is already up-to-\n",
      "[nltk_data]       date!\n"
     ]
    },
    {
     "data": {
      "text/plain": [
       "True"
      ]
     },
     "execution_count": 1,
     "metadata": {},
     "output_type": "execute_result"
    }
   ],
   "source": [
    "# Text and NLP\n",
    "import nltk\n",
    "import re\n",
    "import string\n",
    "from nltk.corpus import stopwords\n",
    "from collections import Counter\n",
    "\n",
    "# Data handling\n",
    "import pandas as pd\n",
    "\n",
    "# Visualization\n",
    "import matplotlib.pyplot as plt\n",
    "\n",
    "# Download required NLTK packages\n",
    "nltk.download(\"punkt\")\n",
    "nltk.download(\"stopwords\")\n",
    "nltk.download(\"averaged_perceptron_tagger\")"
   ]
  },
  {
   "cell_type": "code",
   "execution_count": null,
   "id": "7cee4325",
   "metadata": {},
   "outputs": [
    {
     "data": {
      "text/html": [
       "<div>\n",
       "<style scoped>\n",
       "    .dataframe tbody tr th:only-of-type {\n",
       "        vertical-align: middle;\n",
       "    }\n",
       "\n",
       "    .dataframe tbody tr th {\n",
       "        vertical-align: top;\n",
       "    }\n",
       "\n",
       "    .dataframe thead th {\n",
       "        text-align: right;\n",
       "    }\n",
       "</style>\n",
       "<table border=\"1\" class=\"dataframe\">\n",
       "  <thead>\n",
       "    <tr style=\"text-align: right;\">\n",
       "      <th></th>\n",
       "      <th>label</th>\n",
       "      <th>description</th>\n",
       "      <th>requirements</th>\n",
       "    </tr>\n",
       "  </thead>\n",
       "  <tbody>\n",
       "    <tr>\n",
       "      <th>6986</th>\n",
       "      <td>real</td>\n",
       "      <td>JOB DESCRIPTIONMark Edwards Group is a leading...</td>\n",
       "      <td>KEY REQUIREMENTS•    College or University deg...</td>\n",
       "    </tr>\n",
       "    <tr>\n",
       "      <th>6186</th>\n",
       "      <td>real</td>\n",
       "      <td>Play with kids, get paid for it :-)Love travel...</td>\n",
       "      <td>University degree required. TEFL / TESOL / CEL...</td>\n",
       "    </tr>\n",
       "    <tr>\n",
       "      <th>9538</th>\n",
       "      <td>real</td>\n",
       "      <td>UnoTelly is a DNS &amp;amp; VPN service that allow...</td>\n",
       "      <td>Minimum 5 years of system and networking exper...</td>\n",
       "    </tr>\n",
       "  </tbody>\n",
       "</table>\n",
       "</div>"
      ],
      "text/plain": [
       "     label                                        description  \\\n",
       "6986  real  JOB DESCRIPTIONMark Edwards Group is a leading...   \n",
       "6186  real  Play with kids, get paid for it :-)Love travel...   \n",
       "9538  real  UnoTelly is a DNS &amp; VPN service that allow...   \n",
       "\n",
       "                                           requirements  \n",
       "6986  KEY REQUIREMENTS•    College or University deg...  \n",
       "6186  University degree required. TEFL / TESOL / CEL...  \n",
       "9538  Minimum 5 years of system and networking exper...  "
      ]
     },
     "execution_count": 2,
     "metadata": {},
     "output_type": "execute_result"
    }
   ],
   "source": [
    "# Important: keep_default_na=False to treat empty strings properly\n",
    "\n",
    "# Load your cleaned data\n",
    "real_jobs = pd.read_csv(\n",
    "    \"../1_datasets/cleaned_data/real_jobs.csv\", keep_default_na=False\n",
    ")\n",
    "human_fake_jobs = pd.read_csv(\n",
    "    \"../1_datasets/cleaned_data/fake_jobs.csv\", keep_default_na=False\n",
    ")\n",
    "ai_fake_jobs = pd.read_csv(\n",
    "    \"../1_datasets/cleaned_data/llm_refined_fake_posts2.csv\",\n",
    "    keep_default_na=False,\n",
    ")\n",
    "\n",
    "# Ensure all text columns are strings\n",
    "text_columns = [\"description\", \"requirements\", \"benefits\"]\n",
    "for col in text_columns:\n",
    "    real_jobs[col] = real_jobs[col].astype(str)\n",
    "    human_fake_jobs[col] = human_fake_jobs[col].astype(str)\n",
    "    ai_fake_jobs[col] = ai_fake_jobs[col].astype(str)\n",
    "\n",
    "# Label the datasets\n",
    "real_jobs[\"label\"] = \"real\"\n",
    "human_fake_jobs[\"label\"] = \"human_fake\"\n",
    "ai_fake_jobs[\"label\"] = \"ai_fake\"\n",
    "\n",
    "# Combine into one DataFrame\n",
    "data = pd.concat([real_jobs, human_fake_jobs, ai_fake_jobs], ignore_index=True)\n",
    "\n",
    "# Preview sample data\n",
    "data[[\"label\", \"description\", \"requirements\"]].sample(3)"
   ]
  },
  {
   "cell_type": "code",
   "execution_count": null,
   "id": "5e4b0d2f",
   "metadata": {},
   "outputs": [
    {
     "name": "stderr",
     "output_type": "stream",
     "text": [
      "[nltk_data] Downloading package punkt to nltk_data...\n",
      "[nltk_data]   Package punkt is already up-to-date!\n"
     ]
    }
   ],
   "source": [
    "# Explicitly set the download directory\n",
    "nltk.download(\"punkt\", download_dir=\"nltk_data\")\n",
    "nltk.data.path.append(\"nltk_data\")"
   ]
  },
  {
   "cell_type": "code",
   "execution_count": 4,
   "id": "92fce9b8",
   "metadata": {},
   "outputs": [
    {
     "data": {
      "text/html": [
       "<div>\n",
       "<style scoped>\n",
       "    .dataframe tbody tr th:only-of-type {\n",
       "        vertical-align: middle;\n",
       "    }\n",
       "\n",
       "    .dataframe tbody tr th {\n",
       "        vertical-align: top;\n",
       "    }\n",
       "\n",
       "    .dataframe thead th {\n",
       "        text-align: right;\n",
       "    }\n",
       "</style>\n",
       "<table border=\"1\" class=\"dataframe\">\n",
       "  <thead>\n",
       "    <tr style=\"text-align: right;\">\n",
       "      <th></th>\n",
       "      <th>label</th>\n",
       "      <th>desc_tokens</th>\n",
       "      <th>req_tokens</th>\n",
       "    </tr>\n",
       "  </thead>\n",
       "  <tbody>\n",
       "    <tr>\n",
       "      <th>7299</th>\n",
       "      <td>real</td>\n",
       "      <td>[new, vp, sales, responsible, expanding, flite...</td>\n",
       "      <td>[ideal, candidate, havevice, presidentlevel, e...</td>\n",
       "    </tr>\n",
       "    <tr>\n",
       "      <th>16504</th>\n",
       "      <td>real</td>\n",
       "      <td>[local, company, looking, energetic, fulltime,...</td>\n",
       "      <td>[experience, yearsskills, ship, high, volume, ...</td>\n",
       "    </tr>\n",
       "    <tr>\n",
       "      <th>10219</th>\n",
       "      <td>real</td>\n",
       "      <td>[dice, highly, specialized, online, marketing,...</td>\n",
       "      <td>[right, candidate, must, smart, honest, techsa...</td>\n",
       "    </tr>\n",
       "  </tbody>\n",
       "</table>\n",
       "</div>"
      ],
      "text/plain": [
       "      label                                        desc_tokens  \\\n",
       "7299   real  [new, vp, sales, responsible, expanding, flite...   \n",
       "16504  real  [local, company, looking, energetic, fulltime,...   \n",
       "10219  real  [dice, highly, specialized, online, marketing,...   \n",
       "\n",
       "                                              req_tokens  \n",
       "7299   [ideal, candidate, havevice, presidentlevel, e...  \n",
       "16504  [experience, yearsskills, ship, high, volume, ...  \n",
       "10219  [right, candidate, must, smart, honest, techsa...  "
      ]
     },
     "execution_count": 4,
     "metadata": {},
     "output_type": "execute_result"
    }
   ],
   "source": [
    "# Define the text cleaning function\n",
    "stop_words = set(stopwords.words(\"english\"))\n",
    "\n",
    "\n",
    "def clean_text(text):\n",
    "    text = text.lower()  # Lowercase text\n",
    "    text = re.sub(r\"\\d+\", \"\", text)  # Remove numbers\n",
    "    text = text.translate(\n",
    "        str.maketrans(\"\", \"\", string.punctuation)\n",
    "    )  # Remove punctuation\n",
    "    text = re.sub(r\"\\s+\", \" \", text).strip()  # Remove extra whitespace\n",
    "    return \" \".join(\n",
    "        [word for word in text.split() if word not in stop_words]\n",
    "    )  # Remove stopwords\n",
    "\n",
    "\n",
    "# Drop rows where description or requirements are empty or NaN\n",
    "data = data[\n",
    "    (data[\"description\"].notna())\n",
    "    & (data[\"requirements\"].notna())\n",
    "    & (data[\"description\"].str.strip() != \"\")\n",
    "    & (data[\"requirements\"].str.strip() != \"\")\n",
    "]\n",
    "\n",
    "# Clean both columns\n",
    "data[\"clean_description\"] = data[\"description\"].apply(clean_text)\n",
    "data[\"clean_requirements\"] = data[\"requirements\"].apply(clean_text)\n",
    "\n",
    "# ✅ Now preview, after columns exist\n",
    "data[[\"label\", \"clean_description\", \"clean_requirements\"]].sample(3)\n",
    "\n",
    "# Tokenize using split\n",
    "data[\"desc_tokens\"] = data[\"clean_description\"].apply(lambda x: x.split())\n",
    "data[\"req_tokens\"] = data[\"clean_requirements\"].apply(lambda x: x.split())\n",
    "\n",
    "# ✅ Final preview\n",
    "data[[\"label\", \"desc_tokens\", \"req_tokens\"]].sample(3)"
   ]
  },
  {
   "cell_type": "markdown",
   "id": "bc72b542",
   "metadata": {},
   "source": [
    "---\n",
    "\n",
    "## POS Tagging\n",
    "\n",
    "POS tagging labels each word with its grammatical role -\n",
    "such as nouns (`NN`), verbs (`VB`), adjectives (`JJ`), etc. \n",
    "This can help us spot unnatural or formulaic grammar in AI-generated \n",
    "or scam job posts.\n"
   ]
  },
  {
   "cell_type": "code",
   "execution_count": 5,
   "id": "11cfc2b2",
   "metadata": {},
   "outputs": [
    {
     "data": {
      "text/html": [
       "<div>\n",
       "<style scoped>\n",
       "    .dataframe tbody tr th:only-of-type {\n",
       "        vertical-align: middle;\n",
       "    }\n",
       "\n",
       "    .dataframe tbody tr th {\n",
       "        vertical-align: top;\n",
       "    }\n",
       "\n",
       "    .dataframe thead th {\n",
       "        text-align: right;\n",
       "    }\n",
       "</style>\n",
       "<table border=\"1\" class=\"dataframe\">\n",
       "  <thead>\n",
       "    <tr style=\"text-align: right;\">\n",
       "      <th></th>\n",
       "      <th>label</th>\n",
       "      <th>desc_pos</th>\n",
       "      <th>req_pos</th>\n",
       "    </tr>\n",
       "  </thead>\n",
       "  <tbody>\n",
       "    <tr>\n",
       "      <th>1997</th>\n",
       "      <td>real</td>\n",
       "      <td>[(alliance, UNK), (manager, UNK), (proven, UNK...</td>\n",
       "      <td>[(knowledge, UNK), (skills, UNK), (experiencea...</td>\n",
       "    </tr>\n",
       "    <tr>\n",
       "      <th>13105</th>\n",
       "      <td>real</td>\n",
       "      <td>[(unique, UNK), (job, UNK), (great, UNK), (com...</td>\n",
       "      <td>[(years, UNK), (applicable, UNK), (work, VB), ...</td>\n",
       "    </tr>\n",
       "  </tbody>\n",
       "</table>\n",
       "</div>"
      ],
      "text/plain": [
       "      label                                           desc_pos  \\\n",
       "1997   real  [(alliance, UNK), (manager, UNK), (proven, UNK...   \n",
       "13105  real  [(unique, UNK), (job, UNK), (great, UNK), (com...   \n",
       "\n",
       "                                                 req_pos  \n",
       "1997   [(knowledge, UNK), (skills, UNK), (experiencea...  \n",
       "13105  [(years, UNK), (applicable, UNK), (work, VB), ...  "
      ]
     },
     "execution_count": 5,
     "metadata": {},
     "output_type": "execute_result"
    }
   ],
   "source": [
    "# Simple rule-based POS tagging approximation\n",
    "def simple_pos_tag(tokens):\n",
    "    pos_tags = []\n",
    "    for word in tokens:\n",
    "        if word.endswith(\"ing\") or word in [\n",
    "            \"manage\",\n",
    "            \"develop\",\n",
    "            \"work\",\n",
    "            \"create\",\n",
    "        ]:\n",
    "            pos_tags.append((word, \"VB\"))  # Verb\n",
    "        elif word.endswith(\"ly\") or word in [\"quickly\", \"efficiently\"]:\n",
    "            pos_tags.append((word, \"RB\"))  # Adverb\n",
    "        elif word.endswith(\"ed\"):\n",
    "            pos_tags.append((word, \"VBD\"))  # Past tense verb\n",
    "        elif word in [\"the\", \"a\", \"an\"]:\n",
    "            pos_tags.append((word, \"DT\"))  # Determiner\n",
    "        elif word.endswith(\"ion\") or word in [\n",
    "            \"team\",\n",
    "            \"experience\",\n",
    "            \"development\",\n",
    "        ]:\n",
    "            pos_tags.append((word, \"NN\"))  # Noun\n",
    "        elif (\n",
    "            word.endswith(\"ive\")\n",
    "            or word.endswith(\"ous\")\n",
    "            or word in [\"strong\", \"excellent\"]\n",
    "        ):\n",
    "            pos_tags.append((word, \"JJ\"))  # Adjective\n",
    "        else:\n",
    "            pos_tags.append((word, \"UNK\"))  # Unknown\n",
    "    return pos_tags\n",
    "\n",
    "\n",
    "# Apply to both description and requirements tokens\n",
    "data[\"desc_pos\"] = data[\"desc_tokens\"].apply(simple_pos_tag)\n",
    "data[\"req_pos\"] = data[\"req_tokens\"].apply(simple_pos_tag)\n",
    "\n",
    "# Preview\n",
    "data[[\"label\", \"desc_pos\", \"req_pos\"]].sample(2)"
   ]
  },
  {
   "cell_type": "code",
   "execution_count": null,
   "id": "3cd8a170",
   "metadata": {},
   "outputs": [
    {
     "name": "stderr",
     "output_type": "stream",
     "text": [
      "[nltk_data] Downloading package punkt to C:\\Users\\DELL/nltk_data...\n",
      "[nltk_data]   Unzipping tokenizers\\punkt.zip.\n",
      "[nltk_data] Downloading package averaged_perceptron_tagger to\n",
      "[nltk_data]     C:\\Users\\DELL/nltk_data...\n",
      "[nltk_data]   Package averaged_perceptron_tagger is already up-to-\n",
      "[nltk_data]       date!\n"
     ]
    },
    {
     "data": {
      "text/plain": [
       "True"
      ]
     },
     "execution_count": 6,
     "metadata": {},
     "output_type": "execute_result"
    }
   ],
   "source": [
    "nltk.download(\"punkt\")\n",
    "nltk.download(\"averaged_perceptron_tagger\")"
   ]
  },
  {
   "cell_type": "markdown",
   "id": "01d2502d",
   "metadata": {},
   "source": [
    "## POS Tag Frequency Visualization\n",
    "\n",
    "Now that we’ve tagged parts of speech (POS) using a rule-based approach,\n",
    " we’ll count the frequency of each POS tag per job type. \n",
    " This helps us understand whether AI-written or human-written fake \n",
    " job posts use different grammatical structures than real ones.\n"
   ]
  },
  {
   "cell_type": "code",
   "execution_count": null,
   "id": "2faf06b0",
   "metadata": {},
   "outputs": [
    {
     "data": {
      "text/plain": [
       "<Figure size 1000x600 with 0 Axes>"
      ]
     },
     "metadata": {},
     "output_type": "display_data"
    },
    {
     "data": {
      "image/png": "[encoded data removed]",
      "text/plain": [
       "<Figure size 640x480 with 1 Axes>"
      ]
     },
     "metadata": {},
     "output_type": "display_data"
    }
   ],
   "source": [
    "# Flatten all POS tags per label\n",
    "def extract_pos_counts(df, pos_col, label_col):\n",
    "    pos_by_label = {\"real\": [], \"human_fake\": [], \"ai_fake\": []}\n",
    "\n",
    "    for label in df[label_col].unique():\n",
    "        all_tags = [\n",
    "            tag\n",
    "            for row in df[df[label_col] == label][pos_col]\n",
    "            for _, tag in row\n",
    "        ]\n",
    "        pos_by_label[label] = Counter(all_tags)\n",
    "\n",
    "    return pos_by_label\n",
    "\n",
    "\n",
    "# Get POS tag counts\n",
    "pos_counts = extract_pos_counts(data, \"desc_pos\", \"label\")\n",
    "\n",
    "# Convert to DataFrame for visualization\n",
    "pos_df = pd.DataFrame(pos_counts).fillna(0).astype(int)\n",
    "pos_df = pos_df.sort_values(by=\"real\", ascending=False)\n",
    "\n",
    "# Plot\n",
    "plt.figure(figsize=(10, 6))\n",
    "pos_df.head(10).plot(kind=\"bar\")\n",
    "plt.title(\"Top POS Tags in Descriptions by Job Type\")\n",
    "plt.xlabel(\"POS Tag\")\n",
    "plt.ylabel(\"Frequency\")\n",
    "plt.xticks(rotation=0)\n",
    "plt.grid(axis=\"y\")\n",
    "plt.tight_layout()\n",
    "plt.show()"
   ]
  },
  {
   "cell_type": "code",
   "execution_count": 8,
   "id": "3785e47a",
   "metadata": {},
   "outputs": [
    {
     "data": {
      "text/html": [
       "<div>\n",
       "<style scoped>\n",
       "    .dataframe tbody tr th:only-of-type {\n",
       "        vertical-align: middle;\n",
       "    }\n",
       "\n",
       "    .dataframe tbody tr th {\n",
       "        vertical-align: top;\n",
       "    }\n",
       "\n",
       "    .dataframe thead th {\n",
       "        text-align: right;\n",
       "    }\n",
       "</style>\n",
       "<table border=\"1\" class=\"dataframe\">\n",
       "  <thead>\n",
       "    <tr style=\"text-align: right;\">\n",
       "      <th></th>\n",
       "      <th>real</th>\n",
       "      <th>human_fake</th>\n",
       "      <th>ai_fake</th>\n",
       "    </tr>\n",
       "  </thead>\n",
       "  <tbody>\n",
       "    <tr>\n",
       "      <th>VB</th>\n",
       "      <td>155642</td>\n",
       "      <td>7135</td>\n",
       "      <td>7135</td>\n",
       "    </tr>\n",
       "    <tr>\n",
       "      <th>NN</th>\n",
       "      <td>74056</td>\n",
       "      <td>4076</td>\n",
       "      <td>4076</td>\n",
       "    </tr>\n",
       "    <tr>\n",
       "      <th>VBD</th>\n",
       "      <td>54899</td>\n",
       "      <td>2600</td>\n",
       "      <td>2600</td>\n",
       "    </tr>\n",
       "    <tr>\n",
       "      <th>RB</th>\n",
       "      <td>33738</td>\n",
       "      <td>1518</td>\n",
       "      <td>1518</td>\n",
       "    </tr>\n",
       "    <tr>\n",
       "      <th>JJ</th>\n",
       "      <td>25847</td>\n",
       "      <td>1049</td>\n",
       "      <td>1049</td>\n",
       "    </tr>\n",
       "  </tbody>\n",
       "</table>\n",
       "</div>"
      ],
      "text/plain": [
       "       real  human_fake  ai_fake\n",
       "VB   155642        7135     7135\n",
       "NN    74056        4076     4076\n",
       "VBD   54899        2600     2600\n",
       "RB    33738        1518     1518\n",
       "JJ    25847        1049     1049"
      ]
     },
     "execution_count": 8,
     "metadata": {},
     "output_type": "execute_result"
    }
   ],
   "source": [
    "# Flatten all POS tags per label\n",
    "pos_tables = {}\n",
    "labels = data[\"label\"].unique()\n",
    "\n",
    "for label in labels:\n",
    "    tagged = data[data[\"label\"] == label][\"desc_pos\"].explode()\n",
    "    pos_tags = [tag for _, tag in tagged if tag != \"UNK\"]\n",
    "    pos_tables[label] = Counter(pos_tags)\n",
    "\n",
    "# Convert to DataFrame\n",
    "pos_df = pd.DataFrame(pos_tables).fillna(0).astype(int)\n",
    "\n",
    "# Display the top 10 POS tags by total frequency\n",
    "top_tags = pos_df.sum(axis=1).sort_values(ascending=False).head(10).index\n",
    "pos_df_top = pos_df.loc[top_tags]\n",
    "\n",
    "pos_df_top"
   ]
  },
  {
   "cell_type": "markdown",
   "id": "4e654321",
   "metadata": {},
   "source": [
    "### POS Tag Frequency in Job Descriptions\n",
    "\n",
    "This bar chart shows the **Top POS (Part-of-Speech) tags** found in job \n",
    "descriptions across three categories: **real**, **human-written fake**, and \n",
    "**AI-generated fake** postings.\n",
    "\n",
    "#### Key POS Tags:\n",
    "- **UNK**: Unknown tags – likely due to improper tokenization or \n",
    "  rare/unrecognized words.\n",
    "- **VB**: Base form of verb (e.g., \"develop\", \"create\").\n",
    "- **NN**: Noun, singular (e.g., \"developer\", \"experience\").\n",
    "- **VBD**: Verb, past tense (e.g., \"developed\").\n",
    "- **RB**: Adverb (e.g., \"quickly\").\n",
    "- **JJ**: Adjective (e.g., \"innovative\").\n",
    "\n",
    "---\n",
    "\n",
    "### Observations:\n",
    "\n",
    "1. **UNK dominates** in the `real` job descriptions — this may indicate a \n",
    "   tokenization mismatch or many uncommon words not tagged correctly. \n",
    "   Consider debugging or filtering out \"UNK\" tags for clearer results.\n",
    "\n",
    "2. **VB (base verbs)** are more frequent in real jobs than in fake ones. \n",
    "   This suggests real job descriptions focus more on actionable tasks.\n",
    "\n",
    "3. **NN (nouns)** and **JJ (adjectives)** show smaller but consistent usage \n",
    "   across all job types, indicating shared grammatical structure.\n",
    "\n",
    "4. **AI-generated** and **human-fake** descriptions have fewer POS tags \n",
    "   overall — possibly reflecting simpler or shorter sentence structures.\n",
    "\n",
    "5. The use of **VBD** and **RB** is low across the board, which aligns with \n",
    "   the fact that job descriptions are typically written in the present or \n",
    "   imperative form.\n",
    "\n",
    "---\n",
    "\n",
    "These patterns may help differentiate between job types in future \n",
    "classification models or linguistic analysis.\n"
   ]
  }
 ],
 "metadata": {
  "kernelspec": {
   "display_name": "Python 3",
   "language": "python",
   "name": "python3"
  },
  "language_info": {
   "codemirror_mode": {
    "name": "ipython",
    "version": 3
   },
   "file_extension": ".py",
   "mimetype": "text/x-python",
   "name": "python",
   "nbconvert_exporter": "python",
   "pygments_lexer": "ipython3",
   "version": "3.13.5"
  }
 },
 "nbformat": 4,
 "nbformat_minor": 5
}
