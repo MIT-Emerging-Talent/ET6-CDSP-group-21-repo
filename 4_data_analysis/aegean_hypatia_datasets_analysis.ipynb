{
 "cells": [
  {
   "cell_type": "markdown",
   "id": "dda0c837",
   "metadata": {},
   "source": [
    "**Aegean500_Hypatia500 Analysis**\n",
    "\n",
    "This script dives deeper to analyze modern-time fake and real job postings in accordance with our research question: ***To what extent can humans and classifier models detect fraudulent job postingS when the scam text is written by AI?***\n",
    "\n",
    "**Key reminders**\n",
    "\n",
    "- 500 jobs descriptions were refined by Gemini 2.5 flash API to simulate *fake job postings written by AI*. This is labelled refined_description in the aegean500 dataset.\n",
    "\n",
    "- hypatia500 contains 500 real jobs scrapped from the job board \"Indeed\". The jobs were sorted by recently posted.\n",
    "\n",
    "- We are confident that the jobs in our datasets meet the modern-time criteria (*the era of AI*)\n",
    "\n",
    "- The script focuses on the \"classifier models\" aspect of the study."
   ]
  }
 ],
 "metadata": {
  "language_info": {
   "name": "python"
  }
 },
 "nbformat": 4,
 "nbformat_minor": 5
}
