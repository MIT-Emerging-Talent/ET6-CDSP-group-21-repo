{
  "cells": [
    {
      "cell_type": "markdown",
      "id": "dda0c837",
      "metadata": {
        "id": "dda0c837"
      },
      "source": [
        "**Aegean500_Hypatia500 Analysis**\n",
        "\n",
        "This script dives deeper to analyze modern-time fake and real job postings in accordance with our research question: ***To what extent can humans and classifier models detect fraudulent job postingS when the scam text is written by AI?***\n",
        "\n",
        "**Key reminders**\n",
        "\n",
        "- 500 jobs descriptions were refined by Gemini 2.5 flash API to simulate *fake job postings written by AI*. This is labelled refined_description in the aegean500 dataset.\n",
        "\n",
        "- hypatia500 contains 500 real jobs scrapped from the job board \"Indeed\". The jobs were sorted by recently posted.\n",
        "\n",
        "- We are confident that the jobs in our datasets meet the modern-time criteria (*the era of AI*)\n",
        "\n",
        "- The script focuses on the \"classifier models\" aspect of the study."
      ]
    },
    {
      "cell_type": "code",
      "execution_count": 4,
      "id": "eSq7VJgBzYwa",
      "metadata": {
        "colab": {
          "base_uri": "https://localhost:8080/"
        },
        "id": "eSq7VJgBzYwa",
        "outputId": "6f1e16b5-a79b-469b-fcbb-8047829b9643"
      },
      "outputs": [
        {
          "name": "stdout",
          "output_type": "stream",
          "text": [
            "Drive already mounted at /content/drive; to attempt to forcibly remount, call drive.mount(\"/content/drive\", force_remount=True).\n"
          ]
        }
      ],
      "source": [
        "# mount google drive to fetch datasets\n",
        "from google.colab import drive\n",
        "drive.mount('/content/drive')"
      ]
    },
    {
      "cell_type": "code",
      "execution_count": 5,
      "id": "BV7ePgjtLB4z",
      "metadata": {
        "colab": {
          "base_uri": "https://localhost:8080/"
        },
        "id": "BV7ePgjtLB4z",
        "outputId": "acbea31a-bfc4-4ea9-cadd-ebb4134e9310"
      },
      "outputs": [
        {
          "name": "stdout",
          "output_type": "stream",
          "text": [
            "Requirement already satisfied: pandas in /usr/local/lib/python3.11/dist-packages (2.2.2)\n",
            "Requirement already satisfied: scikit-learn in /usr/local/lib/python3.11/dist-packages (1.6.1)\n",
            "Requirement already satisfied: matplotlib in /usr/local/lib/python3.11/dist-packages (3.10.0)\n",
            "Requirement already satisfied: seaborn in /usr/local/lib/python3.11/dist-packages (0.13.2)\n",
            "Requirement already satisfied: wordcloud in /usr/local/lib/python3.11/dist-packages (1.9.4)\n",
            "Requirement already satisfied: numpy>=1.23.2 in /usr/local/lib/python3.11/dist-packages (from pandas) (2.0.2)\n",
            "Requirement already satisfied: python-dateutil>=2.8.2 in /usr/local/lib/python3.11/dist-packages (from pandas) (2.9.0.post0)\n",
            "Requirement already satisfied: pytz>=2020.1 in /usr/local/lib/python3.11/dist-packages (from pandas) (2025.2)\n",
            "Requirement already satisfied: tzdata>=2022.7 in /usr/local/lib/python3.11/dist-packages (from pandas) (2025.2)\n",
            "Requirement already satisfied: scipy>=1.6.0 in /usr/local/lib/python3.11/dist-packages (from scikit-learn) (1.15.3)\n",
            "Requirement already satisfied: joblib>=1.2.0 in /usr/local/lib/python3.11/dist-packages (from scikit-learn) (1.5.1)\n",
            "Requirement already satisfied: threadpoolctl>=3.1.0 in /usr/local/lib/python3.11/dist-packages (from scikit-learn) (3.6.0)\n",
            "Requirement already satisfied: contourpy>=1.0.1 in /usr/local/lib/python3.11/dist-packages (from matplotlib) (1.3.2)\n",
            "Requirement already satisfied: cycler>=0.10 in /usr/local/lib/python3.11/dist-packages (from matplotlib) (0.12.1)\n",
            "Requirement already satisfied: fonttools>=4.22.0 in /usr/local/lib/python3.11/dist-packages (from matplotlib) (4.59.0)\n",
            "Requirement already satisfied: kiwisolver>=1.3.1 in /usr/local/lib/python3.11/dist-packages (from matplotlib) (1.4.8)\n",
            "Requirement already satisfied: packaging>=20.0 in /usr/local/lib/python3.11/dist-packages (from matplotlib) (25.0)\n",
            "Requirement already satisfied: pillow>=8 in /usr/local/lib/python3.11/dist-packages (from matplotlib) (11.2.1)\n",
            "Requirement already satisfied: pyparsing>=2.3.1 in /usr/local/lib/python3.11/dist-packages (from matplotlib) (3.2.3)\n",
            "Requirement already satisfied: six>=1.5 in /usr/local/lib/python3.11/dist-packages (from python-dateutil>=2.8.2->pandas) (1.17.0)\n",
            "Requirement already satisfied: nltk in /usr/local/lib/python3.11/dist-packages (3.9.1)\n",
            "Requirement already satisfied: click in /usr/local/lib/python3.11/dist-packages (from nltk) (8.2.1)\n",
            "Requirement already satisfied: joblib in /usr/local/lib/python3.11/dist-packages (from nltk) (1.5.1)\n",
            "Requirement already satisfied: regex>=2021.8.3 in /usr/local/lib/python3.11/dist-packages (from nltk) (2024.11.6)\n",
            "Requirement already satisfied: tqdm in /usr/local/lib/python3.11/dist-packages (from nltk) (4.67.1)\n",
            "Requirement already satisfied: spacy in /usr/local/lib/python3.11/dist-packages (3.8.7)\n",
            "Requirement already satisfied: spacy-legacy<3.1.0,>=3.0.11 in /usr/local/lib/python3.11/dist-packages (from spacy) (3.0.12)\n",
            "Requirement already satisfied: spacy-loggers<2.0.0,>=1.0.0 in /usr/local/lib/python3.11/dist-packages (from spacy) (1.0.5)\n",
            "Requirement already satisfied: murmurhash<1.1.0,>=0.28.0 in /usr/local/lib/python3.11/dist-packages (from spacy) (1.0.13)\n",
            "Requirement already satisfied: cymem<2.1.0,>=2.0.2 in /usr/local/lib/python3.11/dist-packages (from spacy) (2.0.11)\n",
            "Requirement already satisfied: preshed<3.1.0,>=3.0.2 in /usr/local/lib/python3.11/dist-packages (from spacy) (3.0.10)\n",
            "Requirement already satisfied: thinc<8.4.0,>=8.3.4 in /usr/local/lib/python3.11/dist-packages (from spacy) (8.3.6)\n",
            "Requirement already satisfied: wasabi<1.2.0,>=0.9.1 in /usr/local/lib/python3.11/dist-packages (from spacy) (1.1.3)\n",
            "Requirement already satisfied: srsly<3.0.0,>=2.4.3 in /usr/local/lib/python3.11/dist-packages (from spacy) (2.5.1)\n",
            "Requirement already satisfied: catalogue<2.1.0,>=2.0.6 in /usr/local/lib/python3.11/dist-packages (from spacy) (2.0.10)\n",
            "Requirement already satisfied: weasel<0.5.0,>=0.1.0 in /usr/local/lib/python3.11/dist-packages (from spacy) (0.4.1)\n",
            "Requirement already satisfied: typer<1.0.0,>=0.3.0 in /usr/local/lib/python3.11/dist-packages (from spacy) (0.16.0)\n",
            "Requirement already satisfied: tqdm<5.0.0,>=4.38.0 in /usr/local/lib/python3.11/dist-packages (from spacy) (4.67.1)\n",
            "Requirement already satisfied: numpy>=1.19.0 in /usr/local/lib/python3.11/dist-packages (from spacy) (2.0.2)\n",
            "Requirement already satisfied: requests<3.0.0,>=2.13.0 in /usr/local/lib/python3.11/dist-packages (from spacy) (2.32.3)\n",
            "Requirement already satisfied: pydantic!=1.8,!=1.8.1,<3.0.0,>=1.7.4 in /usr/local/lib/python3.11/dist-packages (from spacy) (2.11.7)\n",
            "Requirement already satisfied: jinja2 in /usr/local/lib/python3.11/dist-packages (from spacy) (3.1.6)\n",
            "Requirement already satisfied: setuptools in /usr/local/lib/python3.11/dist-packages (from spacy) (75.2.0)\n",
            "Requirement already satisfied: packaging>=20.0 in /usr/local/lib/python3.11/dist-packages (from spacy) (25.0)\n",
            "Requirement already satisfied: langcodes<4.0.0,>=3.2.0 in /usr/local/lib/python3.11/dist-packages (from spacy) (3.5.0)\n",
            "Requirement already satisfied: language-data>=1.2 in /usr/local/lib/python3.11/dist-packages (from langcodes<4.0.0,>=3.2.0->spacy) (1.3.0)\n",
            "Requirement already satisfied: annotated-types>=0.6.0 in /usr/local/lib/python3.11/dist-packages (from pydantic!=1.8,!=1.8.1,<3.0.0,>=1.7.4->spacy) (0.7.0)\n",
            "Requirement already satisfied: pydantic-core==2.33.2 in /usr/local/lib/python3.11/dist-packages (from pydantic!=1.8,!=1.8.1,<3.0.0,>=1.7.4->spacy) (2.33.2)\n",
            "Requirement already satisfied: typing-extensions>=4.12.2 in /usr/local/lib/python3.11/dist-packages (from pydantic!=1.8,!=1.8.1,<3.0.0,>=1.7.4->spacy) (4.14.1)\n",
            "Requirement already satisfied: typing-inspection>=0.4.0 in /usr/local/lib/python3.11/dist-packages (from pydantic!=1.8,!=1.8.1,<3.0.0,>=1.7.4->spacy) (0.4.1)\n",
            "Requirement already satisfied: charset-normalizer<4,>=2 in /usr/local/lib/python3.11/dist-packages (from requests<3.0.0,>=2.13.0->spacy) (3.4.2)\n",
            "Requirement already satisfied: idna<4,>=2.5 in /usr/local/lib/python3.11/dist-packages (from requests<3.0.0,>=2.13.0->spacy) (3.10)\n",
            "Requirement already satisfied: urllib3<3,>=1.21.1 in /usr/local/lib/python3.11/dist-packages (from requests<3.0.0,>=2.13.0->spacy) (2.4.0)\n",
            "Requirement already satisfied: certifi>=2017.4.17 in /usr/local/lib/python3.11/dist-packages (from requests<3.0.0,>=2.13.0->spacy) (2025.7.14)\n",
            "Requirement already satisfied: blis<1.4.0,>=1.3.0 in /usr/local/lib/python3.11/dist-packages (from thinc<8.4.0,>=8.3.4->spacy) (1.3.0)\n",
            "Requirement already satisfied: confection<1.0.0,>=0.0.1 in /usr/local/lib/python3.11/dist-packages (from thinc<8.4.0,>=8.3.4->spacy) (0.1.5)\n",
            "Requirement already satisfied: click>=8.0.0 in /usr/local/lib/python3.11/dist-packages (from typer<1.0.0,>=0.3.0->spacy) (8.2.1)\n",
            "Requirement already satisfied: shellingham>=1.3.0 in /usr/local/lib/python3.11/dist-packages (from typer<1.0.0,>=0.3.0->spacy) (1.5.4)\n",
            "Requirement already satisfied: rich>=10.11.0 in /usr/local/lib/python3.11/dist-packages (from typer<1.0.0,>=0.3.0->spacy) (13.9.4)\n",
            "Requirement already satisfied: cloudpathlib<1.0.0,>=0.7.0 in /usr/local/lib/python3.11/dist-packages (from weasel<0.5.0,>=0.1.0->spacy) (0.21.1)\n",
            "Requirement already satisfied: smart-open<8.0.0,>=5.2.1 in /usr/local/lib/python3.11/dist-packages (from weasel<0.5.0,>=0.1.0->spacy) (7.3.0.post1)\n",
            "Requirement already satisfied: MarkupSafe>=2.0 in /usr/local/lib/python3.11/dist-packages (from jinja2->spacy) (3.0.2)\n",
            "Requirement already satisfied: marisa-trie>=1.1.0 in /usr/local/lib/python3.11/dist-packages (from language-data>=1.2->langcodes<4.0.0,>=3.2.0->spacy) (1.2.1)\n",
            "Requirement already satisfied: markdown-it-py>=2.2.0 in /usr/local/lib/python3.11/dist-packages (from rich>=10.11.0->typer<1.0.0,>=0.3.0->spacy) (3.0.0)\n",
            "Requirement already satisfied: pygments<3.0.0,>=2.13.0 in /usr/local/lib/python3.11/dist-packages (from rich>=10.11.0->typer<1.0.0,>=0.3.0->spacy) (2.19.2)\n",
            "Requirement already satisfied: wrapt in /usr/local/lib/python3.11/dist-packages (from smart-open<8.0.0,>=5.2.1->weasel<0.5.0,>=0.1.0->spacy) (1.17.2)\n",
            "Requirement already satisfied: mdurl~=0.1 in /usr/local/lib/python3.11/dist-packages (from markdown-it-py>=2.2.0->rich>=10.11.0->typer<1.0.0,>=0.3.0->spacy) (0.1.2)\n",
            "Collecting en-core-web-sm==3.8.0\n",
            "  Downloading https://github.com/explosion/spacy-models/releases/download/en_core_web_sm-3.8.0/en_core_web_sm-3.8.0-py3-none-any.whl (12.8 MB)\n",
            "\u001b[2K     \u001b[90m━━━━━━━━━━━━━━━━━━━━━━━━━━━━━━━━━━━━━━━━\u001b[0m \u001b[32m12.8/12.8 MB\u001b[0m \u001b[31m76.4 MB/s\u001b[0m eta \u001b[36m0:00:00\u001b[0m\n",
            "\u001b[?25h\u001b[38;5;2m✔ Download and installation successful\u001b[0m\n",
            "You can now load the package via spacy.load('en_core_web_sm')\n",
            "\u001b[38;5;3m⚠ Restart to reload dependencies\u001b[0m\n",
            "If you are in a Jupyter or Colab notebook, you may need to restart Python in\n",
            "order to load all the package's dependencies. You can do this by selecting the\n",
            "'Restart kernel' or 'Restart runtime' option.\n"
          ]
        }
      ],
      "source": [
        "# Install core libraries if you haven't already\n",
        "# If you get \"Requirement already satisfied\", that's fine!\n",
        "!pip install pandas scikit-learn matplotlib seaborn wordcloud\n",
        "\n",
        "# Install NLTK (Natural Language Toolkit) for basic text processing\n",
        "!pip install nltk\n",
        "\n",
        "# Install spaCy for more advanced NLP, especially Named Entity Recognition (NER)\n",
        "!pip install spacy\n",
        "\n",
        "# Download a spaCy English language model. 'en_core_web_sm' is a small, efficient model.\n",
        "# If this command doesn't work directly in your notebook, open your system's\n",
        "# command prompt/terminal (where you launch Jupyter) and run:\n",
        "# python -m spacy download en_core_web_sm\n",
        "!python -m spacy download en_core_web_sm\n",
        "\n",
        "# You might need to restart your Jupyter kernel after installing new libraries.\n",
        "# Go to Kernel -> Restart Kernel"
      ]
    },
    {
      "cell_type": "code",
      "execution_count": null,
      "id": "c5dcddee",
      "metadata": {},
      "outputs": [],
      "source": [
        "# import necessary libraries\n",
        "import pandas as pd\n",
        "import nltk\n",
        "from nltk.corpus import stopwords\n",
        "from nltk.stem import WordNetLemmatizer\n",
        "from nltk.tokenize import word_tokenize\n",
        "import re\n",
        "import string\n",
        "from sklearn.feature_extraction.text import TfidfVectorizer\n",
        "from sklearn.model_selection import train_test_split\n",
        "import spacy\n",
        "import scipy.sparse"
      ]
    },
    {
      "cell_type": "code",
      "execution_count": null,
      "id": "CKLeMUYSK5cW",
      "metadata": {
        "colab": {
          "base_uri": "https://localhost:8080/"
        },
        "id": "CKLeMUYSK5cW",
        "outputId": "f9b7e8f6-ffce-4d38-9302-6626da7bd72b"
      },
      "outputs": [
        {
          "name": "stdout",
          "output_type": "stream",
          "text": [
            "Fake jobs loaded: 500 records\n",
            "Real jobs loaded: 500 records\n",
            "\n",
            "Combined dataset shape: (1000, 3)\n",
            "Combined dataset columns: ['job_id', 'job_description', 'is_fake']\n",
            "\n",
            "First 5 rows of combined dataset:\n",
            "   job_id                                    job_description  is_fake\n",
            "0    4184  **Client Engagement Specialist - Service Opera...        1\n",
            "1    4267  **Client Engagement Specialist - Remote**\\r\\n\\...        1\n",
            "2    4316  **Senior Design Project Engineer, Subsea Syste...        1\n",
            "3    4345  **Principal Engineer, Strategic Solutions**\\r\\...        1\n",
            "4    4347  **Aker Solutions: Shaping the Future of Energy...        1\n",
            "\n",
            "Last 5 rows of combined dataset:\n",
            "     job_id                                    job_description  is_fake\n",
            "995     996  Top Three Keys:\\r\\n\\r\\n 5+ years tenure in Pay...        0\n",
            "996     997  Job Description\\r\\nNYC-based multi-billion-dol...        0\n",
            "997     998  Company: Personnel World, Inc. \\r\\nPosition: A...        0\n",
            "998     999  Schedule: Monday-Friday, 9-5 (flexible)\\r\\nOpe...        0\n",
            "999    1000  Company Overview\\r\\nWe Are Blood is a vital no...        0\n",
            "\n",
            "Combined dataset shuffled.\n"
          ]
        }
      ],
      "source": [
        "# Load your fake jobs data\n",
        "df_fake = pd.read_csv('/content/drive/MyDrive/CDSP MIT/dataAnalysis/aegean500_fakejobs_llmrefined.csv')  # noqa: E501\n",
        "df_fake['is_fake'] = 1 # Add a label column: 1 for fake\n",
        "\n",
        "# Load your real jobs data\n",
        "# Adjust the path as per your file structure\n",
        "df_real = pd.read_csv('/content/drive/MyDrive/CDSP MIT/dataAnalysis/Hypatia500_realjobs.csv')  # noqa: E501\n",
        "df_real['is_fake'] = 0 # Add a label column: 0 for real\n",
        "\n",
        "print(f\"Fake jobs loaded: {len(df_fake)} records\")\n",
        "print(f\"Real jobs loaded: {len(df_real)} records\")\n",
        "\n",
        "# Now, combine them into one DataFrame for unified processing\n",
        "# we'll process the 'description' column.\n",
        "# Ensure both dataframes have a 'description' column to process.\n",
        "# If your real_jobs_raw.csv has a different column name for description\n",
        "# (e.g. 'Job Description'), rename it.\n",
        "df_real.rename(columns={'description': 'job_description'}, inplace=True)\n",
        "df_fake.rename(columns={'refined_description': 'job_description'}, inplace=True)\n",
        "\n",
        "# Select only relevant columns before combining\n",
        "# Make sure 'job_id' and 'job description' columns are present in both\n",
        "# Also assume you have the 'is_fake' label from above\n",
        "df_combined = pd.concat([\n",
        "    df_fake[['job_id', 'job_description', 'is_fake']],\n",
        "    df_real[['job_id', 'job_description', 'is_fake']]\n",
        "], ignore_index=True)\n",
        "\n",
        "print(f\"\\nCombined dataset shape: {df_combined.shape}\")\n",
        "print(\"Combined dataset columns:\", df_combined.columns.tolist())\n",
        "print(\"\\nFirst 5 rows of combined dataset:\")\n",
        "print(df_combined.head())\n",
        "print(\"\\nLast 5 rows of combined dataset:\")\n",
        "print(df_combined.tail())\n",
        "\n",
        "# Shuffle the combined dataset - very important for training/testing\n",
        "df_combined = df_combined.sample(frac=1, random_state=42).reset_index(drop=True)\n",
        "print(\"\\nCombined dataset shuffled.\")"
      ]
    },
    {
      "cell_type": "code",
      "execution_count": null,
      "id": "7O1vsOrFK7nQ",
      "metadata": {
        "colab": {
          "base_uri": "https://localhost:8080/"
        },
        "id": "7O1vsOrFK7nQ",
        "outputId": "f58a2146-d9e7-4c2c-d068-ad4be92c21c8"
      },
      "outputs": [
        {
          "name": "stderr",
          "output_type": "stream",
          "text": [
            "[nltk_data] Downloading package punkt to /root/nltk_data...\n",
            "[nltk_data]   Package punkt is already up-to-date!\n",
            "[nltk_data] Downloading package stopwords to /root/nltk_data...\n",
            "[nltk_data]   Package stopwords is already up-to-date!\n",
            "[nltk_data] Downloading package wordnet to /root/nltk_data...\n",
            "[nltk_data]   Package wordnet is already up-to-date!\n",
            "[nltk_data] Downloading package omw-1.4 to /root/nltk_data...\n",
            "[nltk_data]   Package omw-1.4 is already up-to-date!\n",
            "[nltk_data] Downloading package punkt_tab to /root/nltk_data...\n",
            "[nltk_data]   Unzipping tokenizers/punkt_tab.zip.\n"
          ]
        },
        {
          "name": "stdout",
          "output_type": "stream",
          "text": [
            "Starting text preprocessing...\n",
            "Text preprocessing complete!\n",
            "\n",
            "Original vs. Processed Description (first 2 entries):\n",
            "\n",
            "--- Job ID: 522 (Fake: 0) ---\n",
            "Original:\n",
            " Full-Time \n",
            "York, Pennsylvania \n",
            "07/05/2025 \n",
            "Compensation: 55000.-60000. / Annually \n",
            "Benefit Offered: YES \n",
            "\n",
            " Our client, a precision metals manufacturer, has an immediate need for an experienced Process Engineer, to join their winning team in York. \n",
            "\n",
            " Our candidate of choice will support plant ...\n",
            "Processed:\n",
            " fulltime york pennsylvania 07052025 compensation 5500060000 annually benefit offered yes client precision metal manufacturer immediate need experienced process engineer join winning team york candidate choice support plant project activity driving improvement process within entire plant serve subjec ...\n",
            "\n",
            "--- Job ID: 738 (Fake: 0) ---\n",
            "Original:\n",
            " Automotive Warranty Administrator Warranty administrators ensures the dealership is paid for warranty work by preparing, submitting and following up on claims. As with all positions within dealerships, warranty administrators are expected to uphold the highest ethical standards.\n",
            "Job Duties - Proces ...\n",
            "Processed:\n",
            " automotive warranty administrator warranty administrator ensures dealership paid warranty work preparing submitting following claim position within dealership warranty administrator expected uphold highest ethical standard job duty processing warranty paperwork ensure proper documentation verifying  ...\n"
          ]
        }
      ],
      "source": [
        "# Download NLTK resources (run these once)\n",
        "nltk.download('punkt')\n",
        "nltk.download('stopwords')\n",
        "nltk.download('wordnet')\n",
        "nltk.download('omw-1.4') # Open Multilingual Wordnet (often needed for lemmatizer)\n",
        "nltk.download('punkt_tab')\n",
        "\n",
        "\n",
        "# Initialize NLTK tools\n",
        "stop_words = set(stopwords.words('english'))\n",
        "lemmatizer = WordNetLemmatizer()\n",
        "\n",
        "def preprocess_text(text):\n",
        "    if not isinstance(text, str): # Handle potential non-string values\n",
        "        return \"\"\n",
        "\n",
        "    # 1. Lowercasing\n",
        "    text = text.lower()\n",
        "\n",
        "    # 2. Remove URLs (common in job postings)\n",
        "    text = re.sub(r'http\\S+|www\\S+', '', text)\n",
        "\n",
        "    # 3. Remove punctuation\n",
        "    text = text.translate(str.maketrans('', '', string.punctuation))\n",
        "\n",
        "    # 4. Remove newline characters and extra whitespace (from previous cleaning)\n",
        "    text = re.sub(r'\\s+', ' ', text).strip()\n",
        "\n",
        "    # 5. Tokenization (breaking text into words)\n",
        "    tokens = word_tokenize(text)\n",
        "\n",
        "    # 6. Remove stopwords and Lemmatization\n",
        "    processed_tokens = []\n",
        "    for word in tokens:\n",
        "        if word not in stop_words:\n",
        "            processed_tokens.append(lemmatizer.lemmatize(word)) # Reduce to base form\n",
        "\n",
        "    # Join tokens back into a single string\n",
        "    return ' '.join(processed_tokens)\n",
        "\n",
        "# Apply preprocessing to your combined DataFrame\n",
        "print(\"Starting text preprocessing...\")\n",
        "df_combined['processed_description'] = df_combined['job_description'].apply(preprocess_text)  # noqa: E501\n",
        "print(\"Text preprocessing complete!\")\n",
        "\n",
        "print(\"\\nOriginal vs. Processed Description (first 2 entries):\")\n",
        "for i in range(2):\n",
        "    print(f\"\\n--- Job ID: {df_combined['job_id'].iloc[i]} (Fake: {df_combined['is_fake'].iloc[i]}) ---\")  # noqa: E501\n",
        "    print(\"Original:\\n\", df_combined['job_description'].iloc[i][:300], \"...\") # Show first 300 chars\n",
        "    print(\"Processed:\\n\", df_combined['processed_description'].iloc[i][:300], \"...\")"
      ]
    },
    {
      "cell_type": "code",
      "execution_count": null,
      "id": "_HH6TZelLMZG",
      "metadata": {
        "colab": {
          "base_uri": "https://localhost:8080/"
        },
        "id": "_HH6TZelLMZG",
        "outputId": "29055ce1-3176-4847-a483-3e0f3df20012"
      },
      "outputs": [
        {
          "name": "stdout",
          "output_type": "stream",
          "text": [
            "Training set size: 800 jobs\n",
            "Test set size: 200 jobs\n",
            "\n",
            "TF-IDF features created:\n",
            "X_train_tfidf shape: (800, 5000)\n",
            "X_test_tfidf shape: (200, 5000)\n",
            "\n",
            "Some learned TF-IDF features (first 50):\n",
            "['10' '100' '100 enterprise' '1000' '1000 2500' '11' '12' '12 year' '13'\n",
            " '15' '18' '18 year' '18 year age' '1800' '1st' '20' '2000' '2025' '2100'\n",
            " '2200' '2300' '24' '25' '25 pound' '2500' '2500 per' '2500 per hour'\n",
            " '2800' '28000' '30' '30 country' '3000' '35' '35 year' '365' '3d' '40'\n",
            " '40 per' '40 per week' '40 per weeknbenefitsnn' '400' '401k' '401k 401k'\n",
            " '401k 401k matching' '401k company' '401k company match' '401k dental'\n",
            " '401k dental insurance' '401k match' '401k matching']\n"
          ]
        }
      ],
      "source": [
        "# Split data into training and testing sets\n",
        "# We'll use the 'processed_description' for feature extraction\n",
        "X = df_combined['processed_description'] # Your text data\n",
        "y = df_combined['is_fake']              # Your labels (0 or 1)\n",
        "\n",
        "# It's crucial to split your data *before* fitting the TF-IDF vectorizer\n",
        "# to prevent \"data leakage\" (where information from the test set subtly influences training).\n",
        "X_train, X_test, y_train, y_test = train_test_split(X, y, test_size=0.2, random_state=42, stratify=y)  # noqa: E501\n",
        "# stratify=y ensures that the proportion of fake/real jobs is the same in train and test sets\n",
        "\n",
        "print(f\"Training set size: {len(X_train)} jobs\")\n",
        "print(f\"Test set size: {len(X_test)} jobs\")\n",
        "\n",
        "# Initialize the TF-IDF Vectorizer\n",
        "# max_features: Limits the number of features (words) to the most frequent ones. \n",
        "# ngram_range: (1,1) means only single words. (1,2) means single words and two-word phrases.\n",
        "#              (1,3) means single, two-word, and three-word phrases. N-grams can capture context.\n",
        "tfidf_vectorizer = TfidfVectorizer(max_features=5000, ngram_range=(1,3))\n",
        "\n",
        "# Fit the vectorizer on the TRAINING data ONLY, then transform both train and test data\n",
        "X_train_tfidf = tfidf_vectorizer.fit_transform(X_train)\n",
        "X_test_tfidf = tfidf_vectorizer.transform(X_test) # Use transform, NOT fit_transform on test set\n",
        "\n",
        "print(f\"\\nTF-IDF features created:\")\n",
        "print(f\"X_train_tfidf shape: {X_train_tfidf.shape}\") # (Number of training samples)\n",
        "print(f\"X_test_tfidf shape: {X_test_tfidf.shape}\")\n",
        "\n",
        "# Optional: To see some of the features (words/n-grams) the vectorizer learned\n",
        "feature_names = tfidf_vectorizer.get_feature_names_out()\n",
        "print(\"\\nSome learned TF-IDF features (first 50):\")\n",
        "print(feature_names[:50])"
      ]
    },
    {
      "cell_type": "code",
      "execution_count": null,
      "id": "nuWQIxDKU2xE",
      "metadata": {
        "id": "nuWQIxDKU2xE"
      },
      "outputs": [],
      "source": [
        "# Example: Saving your combined DataFrame with processed descriptions\n",
        "df_combined.to_csv('/content/drive/MyDrive/CDSP MIT/dataAnalysis/combined_jobs_processed.csv', index=False)\n",
        "\n",
        "# Example: Saving the TF-IDF matrices (they are sparse, so use scipy.sparse.save_npz)\n",
        "\n",
        "scipy.sparse.save_npz('/content/drive/MyDrive/CDSP MIT/dataAnalysis/X_train_tfidf.npz', X_train_tfidf)\n",
        "scipy.sparse.save_npz('/content/drive/MyDrive/CDSP MIT/dataAnalysis/X_test_tfidf.npz', X_test_tfidf)\n",
        "\n",
        "# To load them later in a new session:\n",
        "# df_combined_loaded = pd.read_csv('/content/drive/My Drive/YourProjectFolder/combined_jobs_processed.csv')\n",
        "# X_train_tfidf_loaded = scipy.sparse.load_npz('/content/drive/My Drive/YourProjectFolder/X_train_tfidf.npz')\n",
        "# X_test_tfidf_loaded = scipy.sparse.load_npz('/content/drive/My Drive/YourProjectFolder/X_test_tfidf.npz')"
      ]
    },
    {
      "cell_type": "code",
      "execution_count": null,
      "id": "El2vzz6LLSY5",
      "metadata": {
        "colab": {
          "base_uri": "https://localhost:8080/"
        },
        "id": "El2vzz6LLSY5",
        "outputId": "028000b4-0af7-43e2-a0a4-8a129e3260bc"
      },
      "outputs": [
        {
          "name": "stdout",
          "output_type": "stream",
          "text": [
            "spaCy model loaded successfully.\n",
            "\n",
            "--- Example NER on a Processed Fake Job Description ---\n",
            "  Entity: 'daily' | Label: DATE | Explanation: Absolute or relative dates or periods\n",
            "\n",
            "--- Example NER on a Processed Real Job Description ---\n",
            "  Entity: 'fulltime york' | Label: GPE | Explanation: Countries, cities, states\n",
            "  Entity: 'pennsylvania' | Label: GPE | Explanation: Countries, cities, states\n",
            "  Entity: '07052025' | Label: DATE | Explanation: Absolute or relative dates or periods\n",
            "  Entity: '5500060000' | Label: DATE | Explanation: Absolute or relative dates or periods\n",
            "  Entity: 'annually' | Label: DATE | Explanation: Absolute or relative dates or periods\n",
            "  Entity: 'ref' | Label: ORG | Explanation: Companies, agencies, institutions, etc.\n",
            "  Entity: '6' | Label: CARDINAL | Explanation: Numerals that do not fall under another type\n",
            "  Entity: 'max' | Label: PERSON | Explanation: People, including fictional\n",
            "  Entity: 'two year' | Label: DATE | Explanation: Absolute or relative dates or periods\n",
            "  Entity: '100' | Label: CARDINAL | Explanation: Numerals that do not fall under another type\n",
            "  Entity: 'blue cross coverage low deductible' | Label: ORG | Explanation: Companies, agencies, institutions, etc.\n",
            "  Entity: '400' | Label: CARDINAL | Explanation: Numerals that do not fall under another type\n",
            "  Entity: '800' | Label: CARDINAL | Explanation: Numerals that do not fall under another type\n",
            "  Entity: '2 week' | Label: DATE | Explanation: Absolute or relative dates or periods\n",
            "  Entity: '90 day' | Label: DATE | Explanation: Absolute or relative dates or periods\n",
            "  Entity: '401k' | Label: PRODUCT | Explanation: Objects, vehicles, foods, etc. (not services)\n",
            "  Entity: 'today' | Label: DATE | Explanation: Absolute or relative dates or periods\n",
            "  Entity: 'new jersey' | Label: GPE | Explanation: Countries, cities, states\n",
            "  Entity: 'today' | Label: DATE | Explanation: Absolute or relative dates or periods\n",
            "  Entity: 'today' | Label: DATE | Explanation: Absolute or relative dates or periods\n",
            "\n",
            "--- Ideas for NER-derived Features ---\n",
            "For each job description, we could extract:\n",
            "1.  Count of specific entity types (e.g., #ORG, #GPE, #PERSON, #MONEY, #DATE, #LOC).\n",
            "    - Scams might have fewer ORG/GPE entities or vague LOC (e.g., 'work from home' vs. 'New York, NY').\n",
            "    - Scams might have more MONEY/CARDINAL (numbers) if they try to promise high pay.\n",
            "2.  Presence/Absence of key entity types (boolean: 1 if ORG found, 0 otherwise).\n",
            "3.  Ratio of specific entity types to total words.\n",
            "4.  Specific skills/tech (often tagged as `PRODUCT` or `NORP` by generic models, might need custom training for high accuracy).\n",
            "    - You might need to refine your NER for skills later, but start simple.\n"
          ]
        }
      ],
      "source": [
        "# Load the spaCy English model\n",
        "# This will load the 'en_core_web_sm' model you downloaded earlier.\n",
        "try:\n",
        "    nlp = spacy.load(\"en_core_web_sm\")\n",
        "    print(\"spaCy model loaded successfully.\")\n",
        "except Exception as e:\n",
        "    print(f\"Error loading spaCy model: {e}\")\n",
        "    print(\"Please ensure 'en_core_web_sm' is downloaded. Try running: python -m spacy download en_core_web_sm\")\n",
        "    print(\"You might need to restart your Jupyter kernel after downloading.\")\n",
        "    nlp = None # Set to None to prevent errors later if model isn't loaded\n",
        "\n",
        "# --- How to use spaCy and extract entities ---\n",
        "if nlp:\n",
        "    sample_text_fake = df_combined[df_combined['is_fake'] == 1]['processed_description'].iloc[0]\n",
        "    sample_text_real = df_combined[df_combined['is_fake'] == 0]['processed_description'].iloc[0]\n",
        "\n",
        "    print(\"\\n--- Example NER on a Processed Fake Job Description ---\")\n",
        "    doc_fake = nlp(sample_text_fake)\n",
        "    for ent in doc_fake.ents:\n",
        "        print(f\"  Entity: '{ent.text}' | Label: {ent.label_} | Explanation: {spacy.explain(ent.label_)}\")\n",
        "\n",
        "    print(\"\\n--- Example NER on a Processed Real Job Description ---\")\n",
        "    doc_real = nlp(sample_text_real)\n",
        "    for ent in doc_real.ents:\n",
        "        print(f\"  Entity: '{ent.text}' | Label: {ent.label_} | Explanation: {spacy.explain(ent.label_)}\")\n",
        "\n",
        "    # --- Brainstorming NER-derived Features (No Code Yet, just ideas) ---\n",
        "    print(\"\\n--- Ideas for NER-derived Features ---\")\n",
        "    print(\"For each job description, we could extract:\")\n",
        "    print(\"1.  Count of specific entity types (e.g., #ORG, #GPE, #PERSON, #MONEY, #DATE, #LOC).\")\n",
        "    print(\"    - Scams might have fewer ORG/GPE entities or vague LOC (e.g., 'work from home' vs. 'New York, NY').\")\n",
        "    print(\"    - Scams might have more MONEY/CARDINAL (numbers) if they try to promise high pay.\")\n",
        "    print(\"2.  Presence/Absence of key entity types (boolean: 1 if ORG found, 0 otherwise).\")\n",
        "    print(\"3.  Ratio of specific entity types to total words.\")\n",
        "    print(\"4.  Specific skills/tech (often tagged as `PRODUCT` or `NORP` by generic models, might need custom training for high accuracy).\")\n",
        "    print(\"    - You might need to refine your NER for skills later, but start simple.\")\n",
        "\n",
        "    # We will implement some of these NER features in the next step, after you review this."
      ]
    },
    {
      "cell_type": "code",
      "execution_count": null,
      "id": "JGCCm2lVhTZ1",
      "metadata": {
        "colab": {
          "base_uri": "https://localhost:8080/"
        },
        "id": "JGCCm2lVhTZ1",
        "outputId": "190d71eb-a167-4ade-f88a-5bdcb56f51d6"
      },
      "outputs": [
        {
          "name": "stdout",
          "output_type": "stream",
          "text": [
            "spaCy model loaded successfully for NER feature extraction.\n",
            "\n",
            "Starting NER feature extraction (this might take a few minutes for 1000 jobs)...\n",
            "NER feature extraction complete!\n",
            "\n",
            "New columns added from NER:\n",
            "['ORG', 'GPE', 'MONEY', 'CARDINAL', 'DATE', 'PERSON', 'PRODUCT', 'has_ORG', 'has_GPE', 'has_MONEY', 'has_CARDINAL', 'has_DATE', 'has_PERSON', 'has_PRODUCT']\n",
            "\n",
            "First 5 rows of df_combined_with_ner with new features:\n",
            "   job_id                                    job_description  is_fake  \\\n",
            "0     522  Full-Time \\r\\nYork, Pennsylvania \\r\\n07/05/202...        0   \n",
            "1     738  Automotive Warranty Administrator Warranty adm...        0   \n",
            "2     741  Infusion Health is a home-infusion specialty p...        0   \n",
            "3     661  Essential Duties and Responsibilities include ...        0   \n",
            "4    9139  **Software Engineer - All Levels**\\r\\n\\r\\nWork...        1   \n",
            "\n",
            "                               processed_description  ORG  GPE  MONEY  \\\n",
            "0  fulltime york pennsylvania 07052025 compensati...    2    3      0   \n",
            "1  automotive warranty administrator warranty adm...    1    0      0   \n",
            "2  infusion health homeinfusion specialty pharmac...    1    1      0   \n",
            "3  essential duty responsibility include followin...    1    0      0   \n",
            "4  software engineer level workable stand pioneer...    0    0      0   \n",
            "\n",
            "   CARDINAL  DATE  PERSON  PRODUCT  has_ORG  has_GPE  has_MONEY  has_CARDINAL  \\\n",
            "0         4     9       1        1        1        1          0             1   \n",
            "1         1     4       0        0        1        0          0             1   \n",
            "2         1     0       0        0        1        1          0             1   \n",
            "3         1     4       0        1        1        0          0             1   \n",
            "4         0     1       0        0        0        0          0             0   \n",
            "\n",
            "   has_DATE  has_PERSON  has_PRODUCT  \n",
            "0         1           1            1  \n",
            "1         1           0            0  \n",
            "2         0           0            0  \n",
            "3         1           0            1  \n",
            "4         1           0            0  \n",
            "\n",
            "Final combined features (TF-IDF + NER):\n",
            "X_train_final shape: (800, 5014)\n",
            "X_test_final shape: (200, 5014)\n"
          ]
        }
      ],
      "source": [
        "# Cell 6: Feature Engineering - Extracting NER Counts\n",
        "\n",
        "# Ensure spaCy model is loaded\n",
        "#import spacy\n",
        "try:\n",
        "    nlp = spacy.load(\"en_core_web_sm\")\n",
        "    print(\"spaCy model loaded successfully for NER feature extraction.\")\n",
        "except Exception as e:\n",
        "    print(f\"Error loading spaCy model: {e}\")\n",
        "    print(\"Please ensure 'en_core_web_sm' is downloaded. Run: !python -m spacy download en_core_web_sm\")\n",
        "    # If the model fails to load, subsequent NER steps will also fail\n",
        "    nlp = None\n",
        "\n",
        "if nlp:\n",
        "    # Function to extract NER features\n",
        "    def extract_ner_features(text):\n",
        "        doc = nlp(text)\n",
        "        entities = {\n",
        "            'ORG': 0,\n",
        "            'GPE': 0,\n",
        "            'MONEY': 0,\n",
        "            'CARDINAL': 0,\n",
        "            'DATE': 0,\n",
        "            'PERSON': 0, # Keep PERSON as it can sometimes be a red flag if too many random people are mentioned\n",
        "            'PRODUCT': 0, # Keep PRODUCT as it catches things like '401k' even if misclassified, can still be a feature\n",
        "            'has_ORG': 0,\n",
        "            'has_GPE': 0,\n",
        "            'has_MONEY': 0,\n",
        "            'has_CARDINAL': 0,\n",
        "            'has_DATE': 0,\n",
        "            'has_PERSON': 0,\n",
        "            'has_PRODUCT': 0\n",
        "        }\n",
        "\n",
        "        for ent in doc.ents:\n",
        "            if ent.label_ in entities:\n",
        "                entities[ent.label_] += 1\n",
        "                entities[f'has_{ent.label_}'] = 1 # Set has_X to 1 if found\n",
        "\n",
        "        return entities\n",
        "\n",
        "    print(\"\\nStarting NER feature extraction (this might take a few minutes for 1000 jobs)...\")\n",
        "    # Apply the function and convert the results into a DataFrame\n",
        "    ner_features_list = df_combined['processed_description'].apply(extract_ner_features).tolist()\n",
        "    ner_df = pd.DataFrame(ner_features_list)\n",
        "\n",
        "    # Concatenate the new NER features to your combined DataFrame\n",
        "    df_combined_with_ner = pd.concat([df_combined, ner_df], axis=1)\n",
        "\n",
        "    print(\"NER feature extraction complete!\")\n",
        "    print(\"\\nNew columns added from NER:\")\n",
        "    print(ner_df.columns.tolist())\n",
        "    print(\"\\nFirst 5 rows of df_combined_with_ner with new features:\")\n",
        "    print(df_combined_with_ner.head())\n",
        "\n",
        "    # Update X_train and X_test to include these new features for modeling\n",
        "    # The TF-IDF features (X_train_tfidf, X_test_tfidf) are sparse matrices.\n",
        "    # The NER features (ner_df) are dense. We need to combine them.\n",
        "    # Convert sparse TF-IDF to array if necessary, or use hstack (recommended for sparse)\n",
        "\n",
        "    from scipy.sparse import hstack\n",
        "\n",
        "    # First, separate the NER features for train and test sets based on the original split\n",
        "    # Make sure 'df_combined_with_ner' has the same order as 'df_combined' (which it should, as we concat by index)\n",
        "    # The indices from the train_test_split (X_train.index, X_test.index)\n",
        "    # refer to the original 'df_combined' dataframe.\n",
        "    # We need to extract the NER features corresponding to those indices.\n",
        "\n",
        "    # Re-align based on original split indices\n",
        "    ner_features_train = df_combined_with_ner.loc[X_train.index, ner_df.columns]\n",
        "    ner_features_test = df_combined_with_ner.loc[X_test.index, ner_df.columns]\n",
        "\n",
        "    # Convert NER features to sparse matrices to stack with TF-IDF features\n",
        "    # This is important for compatibility if TF-IDF is sparse.\n",
        "    X_train_ner_sparse = scipy.sparse.csr_matrix(ner_features_train.values)\n",
        "    X_test_ner_sparse = scipy.sparse.csr_matrix(ner_features_test.values)\n",
        "\n",
        "\n",
        "    # Horizontally stack (combine columns) the TF-IDF features with the NER features\n",
        "    X_train_final = hstack([X_train_tfidf, X_train_ner_sparse])\n",
        "    X_test_final = hstack([X_test_tfidf, X_test_ner_sparse])\n",
        "\n",
        "    print(f\"\\nFinal combined features (TF-IDF + NER):\")\n",
        "    print(f\"X_train_final shape: {X_train_final.shape}\")\n",
        "    print(f\"X_test_final shape: {X_test_final.shape}\")\n",
        "\n",
        "else:\n",
        "    print(\"Skipping NER feature extraction due to spaCy model loading error.\")\n"
      ]
    },
    {
      "cell_type": "code",
      "execution_count": 17,
      "id": "ub73FpoIlsrX",
      "metadata": {
        "colab": {
          "base_uri": "https://localhost:8080/"
        },
        "id": "ub73FpoIlsrX",
        "outputId": "9bdbe2a3-b64b-4273-cccc-d806ca92c42e"
      },
      "outputs": [
        {
          "name": "stdout",
          "output_type": "stream",
          "text": [
            "Required libraries imported.\n"
          ]
        }
      ],
      "source": [
        "# Cell 7: Import Models and Evaluation Metrics\n",
        "\n",
        "from sklearn.linear_model import LogisticRegression\n",
        "from sklearn.svm import LinearSVC # Support Vector Classifier, typically good for text\n",
        "from sklearn.ensemble import RandomForestClassifier\n",
        "from sklearn.naive_bayes import MultinomialNB # Good baseline for text classification\n",
        "\n",
        "from sklearn.metrics import accuracy_score, precision_score, recall_score, f1_score, confusion_matrix, classification_report\n",
        "import matplotlib.pyplot as plt\n",
        "import seaborn as sns\n",
        "\n",
        "print(\"Required libraries imported.\")"
      ]
    },
    {
      "cell_type": "code",
      "execution_count": 18,
      "id": "aL6ukfKXm1ih",
      "metadata": {
        "colab": {
          "base_uri": "https://localhost:8080/"
        },
        "id": "aL6ukfKXm1ih",
        "outputId": "a2ddafe5-a796-49ef-a1a2-7ac5b804e12a"
      },
      "outputs": [
        {
          "name": "stdout",
          "output_type": "stream",
          "text": [
            "Evaluation helper function defined.\n"
          ]
        }
      ],
      "source": [
        "# Cell 8: Evaluation Helper Function\n",
        "\n",
        "def evaluate_model(model_name, y_true, y_pred):\n",
        "    print(f\"\\n--- {model_name} Performance ---\")\n",
        "    print(f\"Accuracy: {accuracy_score(y_true, y_pred):.4f}\")\n",
        "\n",
        "    # Precision, Recall, F1-Score for the 'fake' class (1)\n",
        "    # Average='binary' and pos_label=1 specifies to calculate for the positive class (fake)\n",
        "    print(f\"Precision (Fake Jobs): {precision_score(y_true, y_pred, pos_label=1):.4f}\")\n",
        "    print(f\"Recall (Fake Jobs): {recall_score(y_true, y_pred, pos_label=1):.4f}\")\n",
        "    print(f\"F1-Score (Fake Jobs): {f1_score(y_true, y_pred, pos_label=1):.4f}\")\n",
        "\n",
        "    print(\"\\nConfusion Matrix:\")\n",
        "    cm = confusion_matrix(y_true, y_pred)\n",
        "    # Plotting confusion matrix for better visualization\n",
        "    plt.figure(figsize=(6, 4))\n",
        "    sns.heatmap(cm, annot=True, fmt='d', cmap='Blues',\n",
        "                xticklabels=['Predicted Real (0)', 'Predicted Fake (1)'],\n",
        "                yticklabels=['Actual Real (0)', 'Actual Fake (1)'])\n",
        "    plt.title(f'Confusion Matrix for {model_name}')\n",
        "    plt.ylabel('Actual Label')\n",
        "    plt.xlabel('Predicted Label')\n",
        "    plt.show()\n",
        "\n",
        "    print(\"\\nClassification Report:\")\n",
        "    print(classification_report(y_true, y_pred))\n",
        "\n",
        "print(\"Evaluation helper function defined.\")"
      ]
    },
    {
      "cell_type": "code",
      "execution_count": 19,
      "id": "cgD6Je3Tm6gF",
      "metadata": {
        "colab": {
          "base_uri": "https://localhost:8080/",
          "height": 792
        },
        "id": "cgD6Je3Tm6gF",
        "outputId": "45637038-c72b-4a7b-b2c4-bc2666b906ad"
      },
      "outputs": [
        {
          "name": "stdout",
          "output_type": "stream",
          "text": [
            "\n",
            "Training Logistic Regression Model...\n",
            "\n",
            "--- Logistic Regression Performance ---\n",
            "Accuracy: 0.9750\n",
            "Precision (Fake Jobs): 0.9703\n",
            "Recall (Fake Jobs): 0.9800\n",
            "F1-Score (Fake Jobs): 0.9751\n",
            "\n",
            "Confusion Matrix:\n"
          ]
        },
        {
          "data": {
            "image/png": "[encoded data removed]",
            "text/plain": [
              "<Figure size 600x400 with 2 Axes>"
            ]
          },
          "metadata": {},
          "output_type": "display_data"
        },
        {
          "name": "stdout",
          "output_type": "stream",
          "text": [
            "\n",
            "Classification Report:\n",
            "              precision    recall  f1-score   support\n",
            "\n",
            "           0       0.98      0.97      0.97       100\n",
            "           1       0.97      0.98      0.98       100\n",
            "\n",
            "    accuracy                           0.97       200\n",
            "   macro avg       0.98      0.97      0.97       200\n",
            "weighted avg       0.98      0.97      0.97       200\n",
            "\n",
            "Logistic Regression training and evaluation complete.\n"
          ]
        }
      ],
      "source": [
        "# Cell 9: Logistic Regression Model\n",
        "\n",
        "print(\"\\nTraining Logistic Regression Model...\")\n",
        "logistic_model = LogisticRegression(max_iter=1000, random_state=42, solver='liblinear') # Increased max_iter for convergence\n",
        "logistic_model.fit(X_train_final, y_train)\n",
        "\n",
        "y_pred_logistic = logistic_model.predict(X_test_final)\n",
        "evaluate_model(\"Logistic Regression\", y_test, y_pred_logistic)\n",
        "\n",
        "print(\"Logistic Regression training and evaluation complete.\")"
      ]
    },
    {
      "cell_type": "code",
      "execution_count": 20,
      "id": "H9n72w1vm7ic",
      "metadata": {
        "colab": {
          "base_uri": "https://localhost:8080/",
          "height": 792
        },
        "id": "H9n72w1vm7ic",
        "outputId": "390b0fbe-d358-4a3f-d0c3-e5117a628ab9"
      },
      "outputs": [
        {
          "name": "stdout",
          "output_type": "stream",
          "text": [
            "\n",
            "Training LinearSVC Model...\n",
            "\n",
            "--- LinearSVC Performance ---\n",
            "Accuracy: 1.0000\n",
            "Precision (Fake Jobs): 1.0000\n",
            "Recall (Fake Jobs): 1.0000\n",
            "F1-Score (Fake Jobs): 1.0000\n",
            "\n",
            "Confusion Matrix:\n"
          ]
        },
        {
          "data": {
            "image/png": "[encoded data removed]",
            "text/plain": [
              "<Figure size 600x400 with 2 Axes>"
            ]
          },
          "metadata": {},
          "output_type": "display_data"
        },
        {
          "name": "stdout",
          "output_type": "stream",
          "text": [
            "\n",
            "Classification Report:\n",
            "              precision    recall  f1-score   support\n",
            "\n",
            "           0       1.00      1.00      1.00       100\n",
            "           1       1.00      1.00      1.00       100\n",
            "\n",
            "    accuracy                           1.00       200\n",
            "   macro avg       1.00      1.00      1.00       200\n",
            "weighted avg       1.00      1.00      1.00       200\n",
            "\n",
            "LinearSVC training and evaluation complete.\n"
          ]
        }
      ],
      "source": [
        "# Cell 10: LinearSVC Model\n",
        "\n",
        "print(\"\\nTraining LinearSVC Model...\")\n",
        "svc_model = LinearSVC(max_iter=1000, random_state=42, dual=False) # dual=False recommended for n_samples > n_features\n",
        "svc_model.fit(X_train_final, y_train)\n",
        "\n",
        "y_pred_svc = svc_model.predict(X_test_final)\n",
        "evaluate_model(\"LinearSVC\", y_test, y_pred_svc)\n",
        "\n",
        "print(\"LinearSVC training and evaluation complete.\")"
      ]
    },
    {
      "cell_type": "code",
      "execution_count": 21,
      "id": "RNxeJet_nCQ-",
      "metadata": {
        "colab": {
          "base_uri": "https://localhost:8080/"
        },
        "id": "RNxeJet_nCQ-",
        "outputId": "5961a4f3-14be-4011-afb6-14ef6400822d"
      },
      "outputs": [
        {
          "name": "stdout",
          "output_type": "stream",
          "text": [
            "XGBoost and Gradient Boosting Classifier imported.\n"
          ]
        }
      ],
      "source": [
        "# Cell 11: Import XGBoost and Gradient Boosting Classifier\n",
        "\n",
        "import xgboost as xgb\n",
        "from sklearn.ensemble import GradientBoostingClassifier\n",
        "\n",
        "print(\"XGBoost and Gradient Boosting Classifier imported.\")"
      ]
    },
    {
      "cell_type": "code",
      "execution_count": 22,
      "id": "ZJb_j6_JnSME",
      "metadata": {
        "colab": {
          "base_uri": "https://localhost:8080/",
          "height": 792
        },
        "id": "ZJb_j6_JnSME",
        "outputId": "41ab4f09-ed92-451f-e1d3-332559244fd7"
      },
      "outputs": [
        {
          "name": "stdout",
          "output_type": "stream",
          "text": [
            "\n",
            "Training Gradient Boosting Classifier Model...\n",
            "\n",
            "--- Gradient Boosting Classifier Performance ---\n",
            "Accuracy: 1.0000\n",
            "Precision (Fake Jobs): 1.0000\n",
            "Recall (Fake Jobs): 1.0000\n",
            "F1-Score (Fake Jobs): 1.0000\n",
            "\n",
            "Confusion Matrix:\n"
          ]
        },
        {
          "data": {
            "image/png": "[encoded data removed]",
            "text/plain": [
              "<Figure size 600x400 with 2 Axes>"
            ]
          },
          "metadata": {},
          "output_type": "display_data"
        },
        {
          "name": "stdout",
          "output_type": "stream",
          "text": [
            "\n",
            "Classification Report:\n",
            "              precision    recall  f1-score   support\n",
            "\n",
            "           0       1.00      1.00      1.00       100\n",
            "           1       1.00      1.00      1.00       100\n",
            "\n",
            "    accuracy                           1.00       200\n",
            "   macro avg       1.00      1.00      1.00       200\n",
            "weighted avg       1.00      1.00      1.00       200\n",
            "\n",
            "Gradient Boosting Classifier training and evaluation complete.\n"
          ]
        }
      ],
      "source": [
        "# Cell 12: Gradient Boosting Classifier Model\n",
        "\n",
        "print(\"\\nTraining Gradient Boosting Classifier Model...\")\n",
        "gb_model = GradientBoostingClassifier(n_estimators=100, learning_rate=0.1, max_depth=3, random_state=42)\n",
        "gb_model.fit(X_train_final, y_train)\n",
        "\n",
        "y_pred_gb = gb_model.predict(X_test_final)\n",
        "evaluate_model(\"Gradient Boosting Classifier\", y_test, y_pred_gb)\n",
        "\n",
        "print(\"Gradient Boosting Classifier training and evaluation complete.\")"
      ]
    },
    {
      "cell_type": "code",
      "execution_count": 23,
      "id": "vFgL0frTnUMI",
      "metadata": {
        "colab": {
          "base_uri": "https://localhost:8080/",
          "height": 861
        },
        "id": "vFgL0frTnUMI",
        "outputId": "767b5228-25bc-435d-d447-c96d87b564a0"
      },
      "outputs": [
        {
          "name": "stdout",
          "output_type": "stream",
          "text": [
            "\n",
            "Training XGBoost Classifier Model...\n"
          ]
        },
        {
          "name": "stderr",
          "output_type": "stream",
          "text": [
            "/usr/local/lib/python3.11/dist-packages/xgboost/core.py:158: UserWarning: [00:54:22] WARNING: /workspace/src/learner.cc:740: \n",
            "Parameters: { \"use_label_encoder\" } are not used.\n",
            "\n",
            "  warnings.warn(smsg, UserWarning)\n"
          ]
        },
        {
          "name": "stdout",
          "output_type": "stream",
          "text": [
            "\n",
            "--- XGBoost Classifier Performance ---\n",
            "Accuracy: 1.0000\n",
            "Precision (Fake Jobs): 1.0000\n",
            "Recall (Fake Jobs): 1.0000\n",
            "F1-Score (Fake Jobs): 1.0000\n",
            "\n",
            "Confusion Matrix:\n"
          ]
        },
        {
          "data": {
            "image/png": "[encoded data removed]",
            "text/plain": [
              "<Figure size 600x400 with 2 Axes>"
            ]
          },
          "metadata": {},
          "output_type": "display_data"
        },
        {
          "name": "stdout",
          "output_type": "stream",
          "text": [
            "\n",
            "Classification Report:\n",
            "              precision    recall  f1-score   support\n",
            "\n",
            "           0       1.00      1.00      1.00       100\n",
            "           1       1.00      1.00      1.00       100\n",
            "\n",
            "    accuracy                           1.00       200\n",
            "   macro avg       1.00      1.00      1.00       200\n",
            "weighted avg       1.00      1.00      1.00       200\n",
            "\n",
            "XGBoost Classifier training and evaluation complete.\n"
          ]
        }
      ],
      "source": [
        "# Cell 13: XGBoost Classifier Model\n",
        "\n",
        "print(\"\\nTraining XGBoost Classifier Model...\")\n",
        "# Convert sparse matrix to CSR format if not already (XGBoost often prefers CSR)\n",
        "# X_train_final and X_test_final are already hstacked sparse matrices, so they should be good.\n",
        "xgb_model = xgb.XGBClassifier(objective='binary:logistic',  # For binary classification\n",
        "                              eval_metric='logloss',       # Evaluation metric for optimization\n",
        "                              use_label_encoder=False,     # Suppress warning for future versions\n",
        "                              n_estimators=100,            # Number of boosting rounds\n",
        "                              learning_rate=0.1,           # Step size shrinkage to prevent overfitting\n",
        "                              max_depth=3,                 # Maximum depth of a tree\n",
        "                              random_state=42)\n",
        "\n",
        "xgb_model.fit(X_train_final, y_train)\n",
        "\n",
        "y_pred_xgb = xgb_model.predict(X_test_final)\n",
        "evaluate_model(\"XGBoost Classifier\", y_test, y_pred_xgb)\n",
        "\n",
        "print(\"XGBoost Classifier training and evaluation complete.\")"
      ]
    },
    {
      "cell_type": "code",
      "execution_count": 24,
      "id": "wSeOZBe0qjUT",
      "metadata": {
        "colab": {
          "base_uri": "https://localhost:8080/"
        },
        "id": "wSeOZBe0qjUT",
        "outputId": "2eaeeaee-5a56-42c8-de13-846023a76cd2"
      },
      "outputs": [
        {
          "name": "stdout",
          "output_type": "stream",
          "text": [
            "Starting data leakage investigation...\n",
            "\n",
            "Top 20 features most characteristic of Fake Jobs:\n",
            "            feature  mean_tfidf_fake  mean_tfidf_real\n",
            "4343      strategic         0.050390         0.002044\n",
            "673          client         0.048729         0.024283\n",
            "3503   professional         0.047636         0.009931\n",
            "1831      financial         0.047377         0.010121\n",
            "3019    operational         0.045432         0.002178\n",
            "850   comprehensive         0.039624         0.002962\n",
            "4893         within         0.037696         0.007568\n",
            "2102         highly         0.036075         0.003367\n",
            "1670    exceptional         0.035890         0.003840\n",
            "3032    opportunity         0.035510         0.017649\n",
            "1083           data         0.035086         0.028980\n",
            "1263        digital         0.034894         0.002080\n",
            "3934           role         0.033644         0.013564\n",
            "1530       ensuring         0.033437         0.006902\n",
            "2295    information         0.031899         0.016344\n",
            "2693     management         0.030840         0.016808\n",
            "4528           team         0.030213         0.028541\n",
            "1568    environment         0.029475         0.016137\n",
            "4722   unparalleled         0.029071         0.000079\n",
            "1013       critical         0.028597         0.003397\n",
            "\n",
            "Top 20 features most characteristic of Real Jobs:\n",
            "         feature  mean_tfidf_fake  mean_tfidf_real\n",
            "1053    customer         0.005302         0.063474\n",
            "4921        work         0.017100         0.047075\n",
            "1733  experience         0.020978         0.043204\n",
            "2342   insurance         0.000545         0.040825\n",
            "3987        sale         0.009284         0.037608\n",
            "4976        year         0.003880         0.035062\n",
            "2458         job         0.003515         0.034830\n",
            "4090     service         0.024302         0.034803\n",
            "4183       skill         0.014985         0.034745\n",
            "81       ability         0.013640         0.034284\n",
            "3827    required         0.005152         0.032308\n",
            "3218     payroll         0.003803         0.032199\n",
            "1444    employee         0.002210         0.030277\n",
            "1083        data         0.035086         0.028980\n",
            "4528        team         0.030213         0.028541\n",
            "2151        hour         0.002903         0.028198\n",
            "4466     support         0.022349         0.027468\n",
            "4608        time         0.004348         0.027042\n",
            "791      company         0.005708         0.026717\n",
            "1560       entry         0.003344         0.026676\n",
            "\n",
            "--- Inspecting first 5 processed fake job descriptions ---\n",
            "Fake Job 9139: software engineer level workable stand pioneering force nexus technology talent acquisition recognized market leader transformative software platform empowers thousand enterprise globally identify engage onboard exceptional talent unparalleled efficiency unwavering commitment engineering excellence innovative design robust scalability intuitive usability converge redefine industry standard user experience opportunity seeking highly skilled visionary software engineer join dynamic highly talented...\n",
            "\n",
            "--- Inspecting first 5 processed real job descriptions ---\n",
            "Real Job 522: fulltime york pennsylvania 07052025 compensation 5500060000 annually benefit offered yes client precision metal manufacturer immediate need experienced process engineer join winning team york candidate choice support plant project activity driving improvement process within entire plant serve subject expert local corporate database erp system along supporting lean initiative entire facility including continuous improvement key responsibility coordinate operation manager production manager qualit...\n",
            "Real Job 738: automotive warranty administrator warranty administrator ensures dealership paid warranty work preparing submitting following claim position within dealership warranty administrator expected uphold highest ethical standard job duty processing warranty paperwork ensure proper documentation verifying criterion required factory distributor keeping abreast factory recall announcement reconciling warranty receivables working accounting department obtain payment data entry must train 60 wpm required s...\n",
            "Real Job 741: infusion health homeinfusion specialty pharmacy also offering relaxing private suite ambulatory infusion center beautiful ypsilanti location also care patient home across michigan compassionate nurse experienced infusion therapy pharmacist job title data entry clerk job summary data entry clerk responsible providing support across finance department including limited data entry filing making phone call various duty delegated controller perk working infusion health · competitive compensation 401k...\n",
            "Real Job 661: essential duty responsibility include following duty may assigned meet business need data coordinator input listing make change provide proof upload required photo public document flex ml system enter commercial listing appropriate website add listing contract closing sale sheet add listing powerpoint presentation ability enter accurate datainformation data base qualification requirement professional appearance positive attitude mature personality willingness work team member environment profici...\n"
          ]
        }
      ],
      "source": [
        "# Cell for Data Leakage Investigation\n",
        "\n",
        "import numpy as np\n",
        "\n",
        "# 1. Get the TF-IDF feature names (the actual words/n-grams)\n",
        "feature_names = tfidf_vectorizer.get_feature_names_out()\n",
        "\n",
        "# 2. Convert TF-IDF matrices to dense arrays for easier inspection (be cautious with very large datasets)\n",
        "# For 1000 jobs and 5000 features, this is manageable (800*5000 = 4 million elements)\n",
        "X_train_dense = X_train_tfidf.toarray()\n",
        "\n",
        "# 3. Create a DataFrame for easier analysis\n",
        "# You might want to sample here if your actual processed_description is huge\n",
        "df_train_leak_check = pd.DataFrame({'processed_description': X_train, 'is_fake': y_train})\n",
        "df_train_leak_check = df_train_leak_check.reset_index(drop=True) # Reset index to align with X_train_dense\n",
        "\n",
        "print(\"Starting data leakage investigation...\")\n",
        "\n",
        "# Check for terms that appear only in fake jobs or only in real jobs\n",
        "perfect_leak_terms = []\n",
        "\n",
        "# Iterate through a sample of features (e.g., top 1000 features by TF-IDF score or just iterate through all 5000)\n",
        "# A more robust way: Check term presence in fake vs real documents\n",
        "# Calculate average TF-IDF score for each term in fake vs. real jobs\n",
        "\n",
        "fake_indices = df_train_leak_check[df_train_leak_check['is_fake'] == 1].index\n",
        "real_indices = df_train_leak_check[df_train_leak_check['is_fake'] == 0].index\n",
        "\n",
        "# Calculate the mean TF-IDF score for each feature in fake and real documents\n",
        "# This will show which terms are highly characteristic of one class\n",
        "mean_tfidf_fake = X_train_dense[fake_indices].mean(axis=0)\n",
        "mean_tfidf_real = X_train_dense[real_indices].mean(axis=0)\n",
        "\n",
        "# Create a DataFrame to compare feature importance\n",
        "feature_importance_df = pd.DataFrame({\n",
        "    'feature': feature_names,\n",
        "    'mean_tfidf_fake': mean_tfidf_fake,\n",
        "    'mean_tfidf_real': mean_tfidf_real\n",
        "})\n",
        "\n",
        "# Sort by terms most characteristic of fake jobs\n",
        "print(\"\\nTop 20 features most characteristic of Fake Jobs:\")\n",
        "print(feature_importance_df.sort_values(by='mean_tfidf_fake', ascending=False).head(20))\n",
        "\n",
        "# Sort by terms most characteristic of real jobs\n",
        "print(\"\\nTop 20 features most characteristic of Real Jobs:\")\n",
        "print(feature_importance_df.sort_values(by='mean_tfidf_real', ascending=False).head(20))\n",
        "\n",
        "# Look for terms with extremely high mean_tfidf_fake and very low mean_tfidf_real (or vice-versa)\n",
        "# or even just words that seem suspicious (e.g., related to file paths, specific unique IDs, etc.)\n",
        "\n",
        "# You can also manually inspect a few problematic descriptions\n",
        "print(\"\\n--- Inspecting first 5 processed fake job descriptions ---\")\n",
        "for i in range(5):\n",
        "    if df_combined['is_fake'].iloc[i] == 1:\n",
        "        print(f\"Fake Job {df_combined['job_id'].iloc[i]}: {df_combined['processed_description'].iloc[i][:500]}...\")\n",
        "\n",
        "print(\"\\n--- Inspecting first 5 processed real job descriptions ---\")\n",
        "for i in range(5):\n",
        "    if df_combined['is_fake'].iloc[i] == 0:\n",
        "        print(f\"Real Job {df_combined['job_id'].iloc[i]}: {df_combined['processed_description'].iloc[i][:500]}...\")"
      ]
    },
    {
      "cell_type": "code",
      "execution_count": 25,
      "id": "hsAfIRwAnhlw",
      "metadata": {
        "colab": {
          "base_uri": "https://localhost:8080/"
        },
        "id": "hsAfIRwAnhlw",
        "outputId": "65a79460-bfa3-4558-9265-08095906a1e8"
      },
      "outputs": [
        {
          "name": "stdout",
          "output_type": "stream",
          "text": [
            "--- Sample Predictions with Confidence Scores (Logistic Regression) ---\n",
            "\n",
            "Predictions for FAKE jobs (highest confidence first):\n",
            "     Actual_Label  Predicted_Label  Confidence_Fake_Job_Score  \\\n",
            "487             1                1                   0.986950   \n",
            "596             1                1                   0.986307   \n",
            "240             1                1                   0.985348   \n",
            "42              1                1                   0.984330   \n",
            "326             1                1                   0.983775   \n",
            "\n",
            "                          Original_Description_Snippet  \n",
            "487                                                NaN  \n",
            "596                                                NaN  \n",
            "240                                                NaN  \n",
            "42   instrument control electrical ice technician b...  \n",
            "326                                                NaN  \n",
            "\n",
            "Predictions for REAL jobs (lowest confidence of being fake, i.e., highest confidence of being real, first):\n",
            "     Actual_Label  Predicted_Label  Confidence_Fake_Job_Score  \\\n",
            "260             0                0               3.570672e-10   \n",
            "522             0                0               1.866112e-08   \n",
            "100             0                0               7.128654e-07   \n",
            "680             0                0               9.158758e-07   \n",
            "780             0                0               1.146765e-06   \n",
            "\n",
            "                          Original_Description_Snippet  \n",
            "260                                                NaN  \n",
            "522                                                NaN  \n",
            "100  operation coordinator globally recognized mark...  \n",
            "680                                                NaN  \n",
            "780                                                NaN  \n",
            "\n",
            "Full results DataFrame created. You can further analyze 'results_df'.\n"
          ]
        }
      ],
      "source": [
        "# Cell 14: Get Prediction Probabilities\n",
        "\n",
        "import pandas as pd # Ensure pandas is imported\n",
        "\n",
        "# Let's use the Logistic Regression model for this demonstration,\n",
        "# as it gives well-calibrated probabilities.\n",
        "# You could also use xgb_model.predict_proba(X_test_final)\n",
        "\n",
        "# Get prediction probabilities for the test set\n",
        "y_pred_proba_logistic = logistic_model.predict_proba(X_test_final)\n",
        "\n",
        "# y_pred_proba_logistic[:, 1] gives the probability of being class 1 (fake job)\n",
        "fake_job_probabilities = y_pred_proba_logistic[:, 1]\n",
        "\n",
        "# Create a DataFrame to display the actual, predicted, and confidence score\n",
        "results_df = pd.DataFrame({\n",
        "    'Actual_Label': y_test,\n",
        "    'Predicted_Label': y_pred_logistic,\n",
        "    'Confidence_Fake_Job_Score': fake_job_probabilities\n",
        "})\n",
        "\n",
        "# Add the original job description (from X_test) for context\n",
        "# Make sure X_test is aligned with y_test by index\n",
        "# Resetting index of X_test so it aligns cleanly for display\n",
        "X_test_display = X_test.reset_index(drop=True)\n",
        "results_df['Original_Description_Snippet'] = X_test_display.apply(lambda x: x[:200] + '...' if isinstance(x, str) else x)\n",
        "\n",
        "print(\"--- Sample Predictions with Confidence Scores (Logistic Regression) ---\")\n",
        "# Display some examples where the model predicted 'fake' (1)\n",
        "print(\"\\nPredictions for FAKE jobs (highest confidence first):\")\n",
        "print(results_df[results_df['Predicted_Label'] == 1].sort_values(by='Confidence_Fake_Job_Score', ascending=False).head())\n",
        "\n",
        "# Display some examples where the model predicted 'real' (0)\n",
        "print(\"\\nPredictions for REAL jobs (lowest confidence of being fake, i.e., highest confidence of being real, first):\")\n",
        "print(results_df[results_df['Predicted_Label'] == 0].sort_values(by='Confidence_Fake_Job_Score', ascending=True).head())\n",
        "\n",
        "print(\"\\nFull results DataFrame created. You can further analyze 'results_df'.\")"
      ]
    },
    {
      "cell_type": "markdown",
      "id": "a2e62a3a",
      "metadata": {},
      "source": []
    },
    {
      "cell_type": "markdown",
      "id": "4ee60dee",
      "metadata": {},
      "source": [
        "## Conclusion and Interpretation of Model Results\n",
        "\n",
        "After training multiple classifier models (Logistic Regression, LinearSVC, Gradient Boosting, and XGBoost) on our combined TF-IDF and NER features, we observed consistent 100% accuracy, precision, recall, and F1-scores on the test set. This section addresses the implications of these results and how they relate to our research question.\n",
        "\n",
        "### 1. Verification of Feature Engineering for Data Leakage\n",
        "\n",
        "A thorough review of the NER feature addition and combination steps confirms that **no accidental data leakage was introduced by mixing training and test data.** The `train_test_split` was correctly performed at the outset, and all subsequent feature extraction and combination steps (including TF-IDF vectorization fitting only on training data, and the careful alignment of NER features using original indices) ensured that no information from the test set was seen during training.\n",
        "\n",
        "### 2. Understanding the 100% Accuracy: Stylistic Data Leakage\n",
        "\n",
        "The consistent 100% performance across various robust models, while seemingly miraculous, is a strong indicator of **data leakage inherent in the dataset's sources**, rather than an error in our code or mere overfitting.\n",
        "\n",
        "Specifically, the models achieved this perfect classification by distinguishing between the **distinct stylistic and linguistic \"fingerprints\" of our two data sources**:\n",
        "\n",
        "* **LLM-generated fake jobs:** Our analysis of top TF-IDF features revealed that these descriptions frequently contained generic, aspirational, and somewhat vague \"corporate buzzwords\" (e.g., 'unparalleled', 'strategic', 'highly', 'exceptional', 'comprehensive', 'digital'). These terms are characteristic of AI attempting to sound professional without real-world specificity.\n",
        "* **Indeed-scraped real jobs:** In contrast, these descriptions were characterized by more concrete, specific, and grounded terminology related to actual job duties, benefits, and common workplace elements (e.g., 'insurance', 'payroll', 'customer', 'employee', 'skill', 'required').\n",
        "\n",
        "Essentially, the models learned to perfectly differentiate between \"text written by our specific LLM\" and \"text scraped from Indeed,\" as these stylistic differences were perfectly correlated with the `is_fake` label within this dataset. This effectively provided the models with a non-generalizable \"cheat sheet\" for perfect classification.\n",
        "\n",
        "### 3. The Results in a Nutshell\n",
        "\n",
        "It is crucial to present these findings with transparency and analytical insight. This is not an error in methodology, but a powerful observation about the nature of the data itself. When communicating:\n",
        "\n",
        "* **Result:** \"We achieved 100% accuracy on our test set for distinguishing between LLM-generated fake jobs and real Indeed jobs.\"\n",
        "* **Addressing the High Performance:** \"This incredibly high performance strongly suggests the presence of data leakage, likely stemming from the distinct stylistic and linguistic patterns inherent in our two data sources.\"\n",
        "* **Evidence from Feature Analysis:** \"Our analysis of the top TF-IDF features supports this; the models were highly effective at identifying terms characteristic of LLM-generated corporate buzzwords versus more concrete terms common in real job postings.\"\n",
        "* **Clarifying Generalizability:** \"While this model performs perfectly on *this specific dataset*, its generalizability to other forms of fake jobs (e.g., human-crafted scams or those from different LLMs/prompts) would need further testing, as it's learning to distinguish between *these two data sources* rather than universal 'fakeness'.\"\n",
        "\n",
        "### 4. Tying Back to the Research Question: \"To what extent can humans and classifier model detect fraudulent job postings when the scam text is written by AI?\"\n",
        "\n",
        "Our findings provide a direct and significant answer to this question, particularly for the \"classifier model\" aspect:\n",
        "\n",
        "* **Classifier Model's Detection Capability:** For the specific type of AI-generated scam text created in this study, **classifier models are capable of achieving 100% accuracy in detection.** This demonstrates the powerful ability of machine learning models, leveraging textual features from job descriptions, to discern even subtle stylistic differences inherent in AI-generated content.\n",
        "* **Emphasis on Job Description:** The perfect classification, achieved solely by analyzing the job description text, strongly supports our overarching hypothesis: the job description is indeed the most critical part of a job posting for fraudulent detection. Its linguistic features provide sufficient and highly discriminative signals.\n",
        "* **Implications for Human Detection:** While this study did not directly test human detection capabilities, these results raise a fascinating question: If machine learning models can perfectly identify the \"AI fingerprint\" through distinct linguistic patterns, how well do human applicants perceive these same subtle cues? Are humans more susceptible to the convincing language generated by AI, or do they also pick up on these signals? This opens avenues for future comparative research.\n",
        "\n",
        "In conclusion, our classifier models exhibited exceptional performance in identifying AI-generated job scams within our dataset, driven by their ability to recognize unique stylistic patterns. This insight underscores the critical role of job description text in fraud detection and sets the stage for further exploration into both machine and human detection capabilities."
      ]
    },
    {
      "cell_type": "code",
      "execution_count": null,
      "id": "k2WSd9RFqdFw",
      "metadata": {
        "id": "k2WSd9RFqdFw"
      },
      "outputs": [],
      "source": []
    },
    {
      "cell_type": "markdown",
      "id": "9c52ec22",
      "metadata": {},
      "source": [
        "## Analysis Choices, Identified Flaws, and Future Directions\n",
        "\n",
        "This section outlines the rationale behind our model selection, discusses the primary limitations identified during the analysis, and proposes avenues for future research.\n",
        "\n",
        "### 1. Analysis Choices: Selection of Traditional Machine Learning Models\n",
        "\n",
        "Our approach to selecting traditional machine learning models was driven by a desire to \"stress-test\" various classification paradigms and leverage techniques known to perform well on text data, as supported by existing literature. We chose:\n",
        "\n",
        "* **Logistic Regression:**\n",
        "    * **Why:** A robust and highly interpretable linear model, often serving as a strong baseline in text classification tasks. It's known for its efficiency and effectiveness with high-dimensional, sparse data like TF-IDF features. Its simplicity allows for a clear understanding of feature importances.\n",
        "    * **Literature Tie-in:** Logistic Regression is frequently cited in early and foundational works on text classification due to its balance of performance and interpretability.\n",
        "\n",
        "* **Linear Support Vector Classifier (LinearSVC):**\n",
        "    * **Why:** A powerful linear classifier well-suited for high-dimensional feature spaces. SVMs are renowned for their effectiveness in text classification, often achieving state-of-the-art results on various datasets by finding optimal hyperplanes to separate classes.\n",
        "    * **Literature Tie-in:** Linear SVMs are a go-to choice in NLP research for their strong performance, especially with sparse feature representations, as evidenced in numerous studies on document and text categorization.\n",
        "\n",
        "* **Gradient Boosting Classifier (Scikit-learn's implementation) & XGBoost Classifier:**\n",
        "    * **Why:** These are ensemble methods that build a strong predictor from a sequence of weaker ones (decision trees). They are celebrated for their high predictive accuracy, robustness to various data types, and ability to capture complex, non-linear relationships within the data. XGBoost, in particular, is an optimized and highly popular library, frequently winning machine learning competitions.\n",
        "    * **Literature Tie-in:** Gradient Boosting Machines, especially implementations like XGBoost, LightGBM, and CatBoost, are widely recognized in contemporary machine learning literature as top-tier algorithms for classification and regression tasks across diverse domains, including those involving complex feature interactions.\n",
        "\n",
        "**Collective Rationale:** By employing this suite of models—ranging from interpretable linear methods to powerful, tree-based ensembles—we aimed to provide a comprehensive evaluation of their capability in detecting AI-generated fraudulent job postings. This multi-model approach ensures that our findings are not specific to one algorithm but reflect a broader pattern of machine learning effectiveness.\n",
        "\n",
        "### 2. Identified Flaws: The Perfect Accuracy and Data Leakage\n",
        "\n",
        "While achieving 100% accuracy, precision, recall, and F1-score on a classification task might initially seem like an unmitigated success, it is, in this real-world context, a **significant indicator of data leakage** and thus a key limitation of our model's generalizability.\n",
        "\n",
        "* **The Nature of the Flaw:** The models are not necessarily learning intrinsic \"fraudulent\" characteristics that would apply to *all* types of fake jobs. Instead, they are learning to perfectly distinguish between the **unique stylistic and linguistic \"fingerprints\" of our two distinct data sources**: the LLM-generated fake job descriptions and the Indeed-scraped real job descriptions.\n",
        "    * For instance, the models identified that AI-generated content frequently used generic, aspirational \"corporate buzzwords\" (e.g., 'unparalleled', 'strategic', 'highly'), while real job postings contained more specific, grounded terminology related to actual roles, benefits, and workplace specifics (e.g., 'insurance', 'payroll', 'employee').\n",
        "* **Consequence for Generalizability:** This means our current model is exceptionally good at identifying AI-generated text *from our specific LLM under our specific prompting*, when compared against real jobs from *our specific scraping source*. However, its performance might degrade significantly if applied to:\n",
        "    * Fraudulent job postings crafted by humans.\n",
        "    * AI-generated job postings from different LLMs or using different prompting strategies.\n",
        "    * Real job postings from other sources that might have different writing styles or structures.\n",
        "\n",
        "This \"perfect\" performance, therefore, represents a strong finding about the distinctiveness of our collected datasets but also highlights a limitation in the current model's universal applicability to all forms of online job fraud.\n",
        "\n",
        "### 3. Alternatives and Future Research Directions\n",
        "\n",
        "To address the identified limitations and enhance the robustness and generalizability of the fraud detection model, future research should consider the following:\n",
        "\n",
        "* **Diverse Data Collection:**\n",
        "    * **Multiple Sources for Real Job Data:** Gather real job postings from a wider variety of platforms (e.g., LinkedIn, Glassdoor, company career pages) to capture a more diverse range of authentic writing styles and reduce potential bias toward any single scraping source.\n",
        "    * **Varied AI-Generated Scam Texts:** Utilize different Large Language Models (LLMs) and experiment with diverse prompting techniques for generating fake job descriptions. This would force the models to learn more intrinsic indicators of \"fakeness\" rather than specific LLM \"fingerprints.\"\n",
        "    * **Inclusion of Human-Crafted Scams:** Incorporate a dataset of known human-authored fraudulent job postings. This would broaden the definition of \"fake\" beyond AI-generated content and provide a more challenging and realistic detection task.\n",
        "\n",
        "* **Advanced Preprocessing and Feature Engineering:**\n",
        "    * Explore techniques to normalize or anonymize any remaining unique identifiers or highly source-specific boilerplate text that might inadvertently leak information, ensuring features truly reflect job content.\n",
        "    * Investigate more sophisticated linguistic features beyond TF-IDF and basic NER counts, such as sentiment analysis, readability scores, or the analysis of discourse structure.\n",
        "\n",
        "* **Exploring More Advanced Models (if necessary after data improvements):**\n",
        "    * If, after diversifying the dataset, traditional ML models (like our current selection) struggle to achieve satisfactory performance, consider exploring deep learning models such as Transformer-based architectures (e.g., BERT, RoBERTa). These models are capable of understanding complex contextual nuances and semantic relationships in text, which might be crucial for more challenging, subtle forms of fraud.\n",
        "\n",
        "By pursuing these alternatives, future iterations of this research can develop a more robust and universally applicable model for detecting fraudulent job postings, irrespective of their generative source."
      ]
    }
  ],
  "metadata": {
    "colab": {
      "provenance": []
    },
    "kernelspec": {
      "display_name": "Python 3",
      "name": "python3"
    },
    "language_info": {
      "name": "python"
    }
  },
  "nbformat": 4,
  "nbformat_minor": 5
}
