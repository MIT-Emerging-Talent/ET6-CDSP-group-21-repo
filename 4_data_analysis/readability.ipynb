{
 "cells": [
  {
   "cell_type": "markdown",
   "id": "7ba39733",
   "metadata": {},
   "source": [
    "# Readability Analysis of Job Postings\n",
    "\n",
    "This notebook analyzes how readable different types of job posts are:\n",
    "- Real job postings  \n",
    "- Human-written fake posts  \n",
    "- AI-refined fake posts  \n",
    "\n",
    "Understanding readability helps:\n",
    "- Build trust with clearer language  \n",
    "- Detect scams using vague/simple text  \n",
    "- Analyze AI output for unnatural or overly smooth writing\n",
    "\n",
    "### Readability Metrics Used\n",
    "\n",
    "- **Flesch Reading Ease**  \n",
    "  Higher = easier to read  \n",
    "- **Flesch-Kincaid Grade Level**  \n",
    "  Grade level needed to understand the text\n"
   ]
  },
  {
   "cell_type": "code",
   "execution_count": null,
   "id": "28642d00",
   "metadata": {},
   "outputs": [],
   "source": [
    "import pandas as pd\n",
    "import textstat\n",
    "import seaborn as sns\n",
    "import matplotlib.pyplot as plt\n",
    "\n",
    "\n",
    "# Load datasets\n",
    "real_jobs = pd.read_csv(\n",
    "    \"../1_datasets/cleaned_data/real_jobs.csv\", keep_default_na=False\n",
    ")\n",
    "human_fake_jobs = pd.read_csv(\n",
    "    \"../1_datasets/cleaned_data/fake_jobs.csv\", keep_default_na=False\n",
    ")\n",
    "ai_fake_jobs = pd.read_csv(\n",
    "    \"../1_datasets/cleaned_data/llm_refined_fake_posts2.csv\",\n",
    "    keep_default_na=False,\n",
    ")\n",
    "\n",
    "# Label each dataset\n",
    "real_jobs[\"label\"] = \"real\"\n",
    "human_fake_jobs[\"label\"] = \"human_fake\"\n",
    "ai_fake_jobs[\"label\"] = \"ai_fake\"\n",
    "\n",
    "# Combine all into one dataframe\n",
    "data = pd.concat([real_jobs, human_fake_jobs, ai_fake_jobs], ignore_index=True)"
   ]
  },
  {
   "cell_type": "code",
   "execution_count": 9,
   "id": "1c22fd1a",
   "metadata": {},
   "outputs": [
    {
     "data": {
      "text/html": [
       "<div>\n",
       "<style scoped>\n",
       "    .dataframe tbody tr th:only-of-type {\n",
       "        vertical-align: middle;\n",
       "    }\n",
       "\n",
       "    .dataframe tbody tr th {\n",
       "        vertical-align: top;\n",
       "    }\n",
       "\n",
       "    .dataframe thead th {\n",
       "        text-align: right;\n",
       "    }\n",
       "</style>\n",
       "<table border=\"1\" class=\"dataframe\">\n",
       "  <thead>\n",
       "    <tr style=\"text-align: right;\">\n",
       "      <th></th>\n",
       "      <th>label</th>\n",
       "      <th>description</th>\n",
       "      <th>requirements</th>\n",
       "      <th>combined_text</th>\n",
       "    </tr>\n",
       "  </thead>\n",
       "  <tbody>\n",
       "  </tbody>\n",
       "</table>\n",
       "</div>"
      ],
      "text/plain": [
       "Empty DataFrame\n",
       "Columns: [label, description, requirements, combined_text]\n",
       "Index: []"
      ]
     },
     "execution_count": 9,
     "metadata": {},
     "output_type": "execute_result"
    }
   ],
   "source": [
    "# Keep only necessary columns\n",
    "data = data[[\"label\", \"description\", \"requirements\"]]\n",
    "\n",
    "# Combine description + requirements into one field\n",
    "data = data[[\"label\", \"description\", \"requirements\"]].copy()\n",
    "\n",
    "# Combine description + requirements into one field\n",
    "data[\"combined_text\"] = data[\"description\"] + \" \" + data[\"requirements\"]\n",
    "data[data[\"combined_text\"] == \"\"]"
   ]
  },
  {
   "cell_type": "markdown",
   "id": "116ac4f2",
   "metadata": {},
   "source": [
    "\n",
    "## Apply Readability Metrics\n",
    "\n",
    "We'll now use the `textstat` library to calculate:\n",
    "\n",
    "- Flesch Reading Ease\n",
    "- Flesch-Kincaid Grade Level\n"
   ]
  },
  {
   "cell_type": "code",
   "execution_count": null,
   "id": "7e1cfe6b",
   "metadata": {},
   "outputs": [],
   "source": [
    "# Safe scoring functions\n",
    "def safe_flesch(text):\n",
    "    try:\n",
    "        return textstat.flesch_reading_ease(text)\n",
    "    except Exception:\n",
    "        return None\n",
    "\n",
    "\n",
    "def safe_grade(text):\n",
    "    try:\n",
    "        return textstat.flesch_kincaid_grade(text)\n",
    "    except Exception:\n",
    "        return None\n",
    "\n",
    "\n",
    "# Apply scores\n",
    "data[\"flesch_reading_ease\"] = data[\"combined_text\"].apply(safe_flesch)\n",
    "\n",
    "data[\"flesch_kincaid_grade\"] = data[\"combined_text\"].apply(safe_grade)"
   ]
  },
  {
   "cell_type": "markdown",
   "id": "adca4584",
   "metadata": {},
   "source": [
    "## Visualizing the Results\n",
    "\n",
    "We'll compute average readability scores by job post type."
   ]
  },
  {
   "cell_type": "code",
   "execution_count": null,
   "id": "6aa98bac",
   "metadata": {},
   "outputs": [],
   "source": [
    "# Drop rows with missing values\n",
    "readability_means = (\n",
    "    data.dropna(subset=[\"flesch_reading_ease\", \"flesch_kincaid_grade\"])\n",
    "    .groupby(\"label\")[[\"flesch_reading_ease\", \"flesch_kincaid_grade\"]]\n",
    "    .mean()\n",
    "    .reset_index()\n",
    ")"
   ]
  },
  {
   "cell_type": "code",
   "execution_count": null,
   "id": "a7e9b9f0",
   "metadata": {},
   "outputs": [
    {
     "data": {
      "image/png": "[encoded data removed]",
      "text/plain": [
       "<Figure size 800x500 with 1 Axes>"
      ]
     },
     "metadata": {},
     "output_type": "display_data"
    },
    {
     "data": {
      "image/png": "[encoded data removed]",
      "text/plain": [
       "<Figure size 800x500 with 1 Axes>"
      ]
     },
     "metadata": {},
     "output_type": "display_data"
    }
   ],
   "source": [
    "plt.figure(figsize=(8, 5))\n",
    "sns.barplot(\n",
    "    data=readability_means,\n",
    "    x=\"label\",\n",
    "    y=\"flesch_reading_ease\",\n",
    "    hue=\"label\",  # Future-proofing\n",
    "    palette=\"Set2\",\n",
    "    legend=False,\n",
    ")\n",
    "plt.title(\"Flesch Reading Ease by Job Type\")\n",
    "plt.xlabel(\"Job Type\")\n",
    "plt.ylabel(\"Reading Ease\")\n",
    "plt.tight_layout()\n",
    "plt.show()\n",
    "\n",
    "plt.figure(figsize=(8, 5))\n",
    "sns.barplot(\n",
    "    data=readability_means,\n",
    "    x=\"label\",\n",
    "    y=\"flesch_kincaid_grade\",\n",
    "    hue=\"label\",  # Future-proofing\n",
    "    palette=\"Set3\",\n",
    "    legend=False,\n",
    ")\n",
    "plt.title(\"Flesch-Kincaid Grade Levelby Job Type\")\n",
    "plt.xlabel(\"Job Type\")\n",
    "plt.ylabel(\"Grade Level\")\n",
    "plt.tight_layout()\n",
    "plt.show()"
   ]
  },
  {
   "cell_type": "markdown",
   "id": "90ec1a95",
   "metadata": {},
   "source": [
    "---\n",
    "\n",
    "##  Observations\n",
    "\n",
    "- **Real posts** are moderately readable — professional yet clear.  \n",
    "- **Human-written fake posts** are simpler, maybe more emotional.  \n",
    "- **AI-refined fake posts** are more polished, sometimes harder to read.\n",
    "\n",
    "This analysis supports identifying scams or synthetic content using readability.\n",
    "\n"
   ]
  }
 ],
 "metadata": {
  "kernelspec": {
   "display_name": "Python 3",
   "language": "python",
   "name": "python3"
  },
  "language_info": {
   "codemirror_mode": {
    "name": "ipython",
    "version": 3
   },
   "file_extension": ".py",
   "mimetype": "text/x-python",
   "name": "python",
   "nbconvert_exporter": "python",
   "pygments_lexer": "ipython3",
   "version": "3.13.5"
  }
 },
 "nbformat": 4,
 "nbformat_minor": 5
}
