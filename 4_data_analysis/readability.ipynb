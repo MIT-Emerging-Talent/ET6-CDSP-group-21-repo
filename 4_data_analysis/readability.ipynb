{
 "cells": [
  {
   "cell_type": "markdown",
   "id": "d671ee6c",
   "metadata": {},
   "source": [
    "## Readability Analysis of Job Postings\n",
    "\n",
    "This section evaluates how readable the job descriptions and requirements are in:\n",
    "-Real job postings, Human-written fake postings, AI-refined fake postings  \n",
    "\n",
    "Readability metrics help us assess how understandable a job post is to a general audience. This is critical because:\n",
    "- Clear, professional language improves candidate trust.\n",
    "- Scam posts may use overly simplified or ambiguous wording.\n",
    "- AI tools often generate text that's unnaturally smooth or basic.\n",
    "- \n",
    "We’ll use standard readability metrics such as:\n",
    "- **Flesch Reading Ease**: Higher score = easier to read.\n",
    "- **Flesch-Kincaid Grade Level**: Approximate school grade required to understand the text.\n",
    "\n"
   ]
  },
  {
   "cell_type": "code",
   "execution_count": 31,
   "id": "5fb7dd95",
   "metadata": {},
   "outputs": [
    {
     "data": {
      "text/html": [
       "<div>\n",
       "<style scoped>\n",
       "    .dataframe tbody tr th:only-of-type {\n",
       "        vertical-align: middle;\n",
       "    }\n",
       "\n",
       "    .dataframe tbody tr th {\n",
       "        vertical-align: top;\n",
       "    }\n",
       "\n",
       "    .dataframe thead th {\n",
       "        text-align: right;\n",
       "    }\n",
       "</style>\n",
       "<table border=\"1\" class=\"dataframe\">\n",
       "  <thead>\n",
       "    <tr style=\"text-align: right;\">\n",
       "      <th></th>\n",
       "      <th>label</th>\n",
       "      <th>description</th>\n",
       "      <th>requirements</th>\n",
       "    </tr>\n",
       "  </thead>\n",
       "  <tbody>\n",
       "    <tr>\n",
       "      <th>1545</th>\n",
       "      <td>real</td>\n",
       "      <td>Job Title:  Reception/Administrative Assistant...</td>\n",
       "      <td>Qualifications:A qualified applicant will poss...</td>\n",
       "    </tr>\n",
       "    <tr>\n",
       "      <th>4077</th>\n",
       "      <td>real</td>\n",
       "      <td>Victor (#URL_ad93f08e1d8832f8b4defe4fab407612d...</td>\n",
       "      <td>Experienced client relationship executiveGood ...</td>\n",
       "    </tr>\n",
       "    <tr>\n",
       "      <th>10403</th>\n",
       "      <td>real</td>\n",
       "      <td>The Customer Service Associate will be based i...</td>\n",
       "      <td>Required Qualifications:High school diploma or...</td>\n",
       "    </tr>\n",
       "  </tbody>\n",
       "</table>\n",
       "</div>"
      ],
      "text/plain": [
       "      label                                        description  \\\n",
       "1545   real  Job Title:  Reception/Administrative Assistant...   \n",
       "4077   real  Victor (#URL_ad93f08e1d8832f8b4defe4fab407612d...   \n",
       "10403  real  The Customer Service Associate will be based i...   \n",
       "\n",
       "                                            requirements  \n",
       "1545   Qualifications:A qualified applicant will poss...  \n",
       "4077   Experienced client relationship executiveGood ...  \n",
       "10403  Required Qualifications:High school diploma or...  "
      ]
     },
     "execution_count": 31,
     "metadata": {},
     "output_type": "execute_result"
    }
   ],
   "source": [
    "import pandas as pd\n",
    "import textstat\n",
    "import matplotlib.pyplot as plt\n",
    "import seaborn as sns\n",
    "\n",
    "# Load datasets\n",
    "real_jobs = pd.read_csv(\n",
    "    \"../1_datasets/cleaned_data/real_jobs.csv\", keep_default_na=False\n",
    ")\n",
    "human_fake_jobs = pd.read_csv(\n",
    "    \"../1_datasets/cleaned_data/fake_jobs.csv\", keep_default_na=False\n",
    ")\n",
    "ai_fake_jobs = pd.read_csv(\n",
    "    \"../1_datasets/cleaned_data/llm_refined_fake_posts2.csv\",\n",
    "    keep_default_na=False,\n",
    ")\n",
    "\n",
    "# Add labels\n",
    "real_jobs[\"label\"] = \"real\"\n",
    "human_fake_jobs[\"label\"] = \"human_fake\"\n",
    "ai_fake_jobs[\"label\"] = \"ai_fake\"\n",
    "\n",
    "# Combine\n",
    "data = pd.concat([real_jobs, human_fake_jobs, ai_fake_jobs], ignore_index=True)\n",
    "\n",
    "# Keep only necessary fields\n",
    "data = data[[\"label\", \"description\", \"requirements\"]]\n",
    "data.sample(3)"
   ]
  },
  {
   "cell_type": "code",
   "execution_count": 32,
   "id": "2b00392b",
   "metadata": {},
   "outputs": [],
   "source": [
    "# Combine description and requirements\n",
    "data[\"combined_text\"] = (\n",
    "    data[\"description\"].astype(str) + \" \" + data[\"requirements\"].astype(str)\n",
    ")"
   ]
  },
  {
   "cell_type": "code",
   "execution_count": 33,
   "id": "e1a45bd8",
   "metadata": {},
   "outputs": [],
   "source": [
    "def safe_flesch(text):\n",
    "    try:\n",
    "        return textstat.flesch_reading_ease(text)\n",
    "    except KeyError:\n",
    "        return None\n",
    "\n",
    "\n",
    "def safe_grade(text):\n",
    "    try:\n",
    "        return textstat.flesch_kincaid_grade(text)\n",
    "    except KeyError:\n",
    "        return None"
   ]
  },
  {
   "cell_type": "code",
   "execution_count": 36,
   "id": "caa71b9b",
   "metadata": {},
   "outputs": [
    {
     "data": {
      "text/html": [
       "<div>\n",
       "<style scoped>\n",
       "    .dataframe tbody tr th:only-of-type {\n",
       "        vertical-align: middle;\n",
       "    }\n",
       "\n",
       "    .dataframe tbody tr th {\n",
       "        vertical-align: top;\n",
       "    }\n",
       "\n",
       "    .dataframe thead th {\n",
       "        text-align: right;\n",
       "    }\n",
       "</style>\n",
       "<table border=\"1\" class=\"dataframe\">\n",
       "  <thead>\n",
       "    <tr style=\"text-align: right;\">\n",
       "      <th></th>\n",
       "      <th>label</th>\n",
       "      <th>flesch_reading_ease</th>\n",
       "      <th>flesch_kincaid_grade</th>\n",
       "    </tr>\n",
       "  </thead>\n",
       "  <tbody>\n",
       "    <tr>\n",
       "      <th>10491</th>\n",
       "      <td>real</td>\n",
       "      <td>NaN</td>\n",
       "      <td>NaN</td>\n",
       "    </tr>\n",
       "    <tr>\n",
       "      <th>16150</th>\n",
       "      <td>real</td>\n",
       "      <td>NaN</td>\n",
       "      <td>NaN</td>\n",
       "    </tr>\n",
       "    <tr>\n",
       "      <th>17175</th>\n",
       "      <td>human_fake</td>\n",
       "      <td>NaN</td>\n",
       "      <td>NaN</td>\n",
       "    </tr>\n",
       "  </tbody>\n",
       "</table>\n",
       "</div>"
      ],
      "text/plain": [
       "            label  flesch_reading_ease  flesch_kincaid_grade\n",
       "10491        real                  NaN                   NaN\n",
       "16150        real                  NaN                   NaN\n",
       "17175  human_fake                  NaN                   NaN"
      ]
     },
     "execution_count": 36,
     "metadata": {},
     "output_type": "execute_result"
    }
   ],
   "source": [
    "# Apply safe readability scores\n",
    "data[\"flesch_reading_ease\"] = data[\"combined_text\"].apply(safe_flesch)\n",
    "data[\"flesch_kincaid_grade\"] = data[\"combined_text\"].apply(safe_grade)\n",
    "\n",
    "# Preview\n",
    "data[[\"label\", \"flesch_reading_ease\", \"flesch_kincaid_grade\"]].sample(3)"
   ]
  },
  {
   "cell_type": "markdown",
   "id": "9fb71b9f",
   "metadata": {},
   "source": [
    "## Visualizing Readability Scores\n",
    "\n",
    "Now, we'll visualize and compare the average readability scores for each job post category:\n",
    "\n",
    "- Real jobs\n",
    "- Human-written fake jobs\n",
    "- AI-refined fake jobs\n",
    "\n",
    "This helps identify which job type is easiest or hardest to read.\n"
   ]
  },
  {
   "cell_type": "code",
   "execution_count": 38,
   "id": "88cb5864",
   "metadata": {},
   "outputs": [
    {
     "name": "stderr",
     "output_type": "stream",
     "text": [
      "C:\\Users\\DELL\\AppData\\Local\\Temp\\ipykernel_17992\\3525141079.py:11: FutureWarning: \n",
      "\n",
      "Passing `palette` without assigning `hue` is deprecated and will be removed in v0.14.0. Assign the `x` variable to `hue` and set `legend=False` for the same effect.\n",
      "\n",
      "  sns.barplot(data=readability_means,\n"
     ]
    },
    {
     "data": {
      "image/png": "[encoded data removed]",
      "text/plain": [
       "<Figure size 1000x500 with 1 Axes>"
      ]
     },
     "metadata": {},
     "output_type": "display_data"
    },
    {
     "name": "stderr",
     "output_type": "stream",
     "text": [
      "C:\\Users\\DELL\\AppData\\Local\\Temp\\ipykernel_17992\\3525141079.py:24: FutureWarning: \n",
      "\n",
      "Passing `palette` without assigning `hue` is deprecated and will be removed in v0.14.0. Assign the `x` variable to `hue` and set `legend=False` for the same effect.\n",
      "\n",
      "  sns.barplot(data=readability_means, x=\"label\",\n"
     ]
    },
    {
     "data": {
      "image/png": "[encoded data removed]",
      "text/plain": [
       "<Figure size 1000x500 with 1 Axes>"
      ]
     },
     "metadata": {},
     "output_type": "display_data"
    }
   ],
   "source": [
    "# Drop rows with NaN readability scores\n",
    "# Group by label and calculate mean readability\n",
    "readability_means = (\n",
    "    data.groupby(\"label\")[[\"flesch_reading_ease\", \"flesch_kincaid_grade\"]]\n",
    "    .mean()\n",
    "    .reset_index()\n",
    ")\n",
    "\n",
    "# Plot readability ease\n",
    "plt.figure(figsize=(10, 5))\n",
    "sns.barplot(data=readability_means, x=\"label\", y=\"flesch_reading_ease\", palette=\"Set2\")\n",
    "plt.title(\"Average Flesch Reading Ease Score by Job Type\", fontsize=14, weight=\"bold\")\n",
    "plt.xlabel(\"Job Type\")\n",
    "plt.ylabel(\"Flesch Reading Ease\")\n",
    "plt.xticks(fontsize=12)\n",
    "plt.yticks(fontsize=12)\n",
    "plt.tight_layout()\n",
    "plt.show()\n",
    "\n",
    "# Plot Flesch-Kincaid Grade Level\n",
    "plt.figure(figsize=(10, 5))\n",
    "sns.barplot(data=readability_means, x=\"label\", y=\"flesch_kincaid_grade\", palette=\"Set3\")\n",
    "plt.title(\n",
    "    \"Average Flesch-Kincaid Grade Level by Job Type\",\n",
    "    fontsize=14,\n",
    "    weight=\"bold\",\n",
    ")\n",
    "plt.xlabel(\"Job Type\")\n",
    "plt.ylabel(\"Grade Level\")\n",
    "plt.xticks(fontsize=12)\n",
    "plt.yticks(fontsize=12)\n",
    "plt.tight_layout()\n",
    "plt.show()"
   ]
  },
  {
   "cell_type": "markdown",
   "id": "302c35e5",
   "metadata": {},
   "source": [
    "### Observations\n",
    "\n",
    "- **Real job posts** tend to have a moderate Flesch Reading Ease score, indicating professional but accessible language.\n",
    "- **Human-written fake posts** often aim for simplicity or emotional language, possibly making them more readable on the surface.\n",
    "- **AI-refined fake posts** may sound more complex or overly polished, which can slightly reduce readability or inflate the grade level.\n",
    "\n",
    "These patterns help assess how suspicious or artificial a job posting might appear based on how easy it is to read.\n"
   ]
  }
 ],
 "metadata": {
  "kernelspec": {
   "display_name": "Python 3",
   "language": "python",
   "name": "python3"
  },
  "language_info": {
   "codemirror_mode": {
    "name": "ipython",
    "version": 3
   },
   "file_extension": ".py",
   "mimetype": "text/x-python",
   "name": "python",
   "nbconvert_exporter": "python",
   "pygments_lexer": "ipython3",
   "version": "3.13.5"
  }
 },
 "nbformat": 4,
 "nbformat_minor": 5
}
